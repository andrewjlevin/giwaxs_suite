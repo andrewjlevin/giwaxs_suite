{
 "cells": [
  {
   "cell_type": "markdown",
   "id": "b3c13da0-ce45-4653-9fb2-5f71078d5a36",
   "metadata": {},
   "source": [
    "# CMS GIWAXS plotting notebook - plotting single images from loaded zarr datasets\n",
    "# Casey Samples GIWAXS CMS 2023C3"
   ]
  },
  {
   "cell_type": "markdown",
   "id": "96625ca6-7ec2-4690-bf01-72b422801f76",
   "metadata": {
    "tags": []
   },
   "source": [
    "## Imports"
   ]
  },
  {
   "cell_type": "code",
   "execution_count": 1,
   "id": "dd667c0e-baba-4a5d-857a-ca8bd5ce1407",
   "metadata": {},
   "outputs": [],
   "source": [
    "# Imports:\n",
    "import pathlib\n",
    "import numpy as np\n",
    "import matplotlib.pyplot as plt\n",
    "from matplotlib.colors import LogNorm\n",
    "import xarray as xr\n",
    "from tqdm.auto import tqdm\n",
    "\n",
    "# Choose a colormap:\n",
    "cmap = plt.cm.turbo\n",
    "cmap.set_bad('black')"
   ]
  },
  {
   "cell_type": "markdown",
   "id": "7dffa6de-0360-4fcb-b0bf-f320927837d0",
   "metadata": {
    "jp-MarkdownHeadingCollapsed": true,
    "tags": []
   },
   "source": [
    "## Define & check paths"
   ]
  },
  {
   "cell_type": "raw",
   "id": "a6e3ddb5-d66a-4e0b-9f59-2a2e109a0534",
   "metadata": {},
   "source": [
    "### rclone terminal line\n",
    "rclone --dry-run copy -P PM6-Y6series remote:research/data_analysis/giwaxs_suite/processed_data/2023C3_cms/PM6-Y6series --exclude '*checkpoint*'\n",
    "\n",
    "rclone --dry-run copy -P CS-SAMseries remote:research/data_analysis/giwaxs_suite/processed_data/2023C3_cms/CS-SAMseries --exclude '*checkpoint*'"
   ]
  },
  {
   "cell_type": "code",
   "execution_count": null,
   "id": "0e63ad6f-1b77-4925-9708-38f4fd8ccefe",
   "metadata": {},
   "outputs": [],
   "source": [
    "def select_attrs(data_arrays_iterable, selected_attrs_dict):\n",
    "    \"\"\"\n",
    "    Selects data arrays whose attributes match the specified values.\n",
    "\n",
    "    Parameters:\n",
    "    data_arrays_iterable: Iterable of xarray.DataArray objects.\n",
    "    selected_attrs_dict: Dictionary where keys are attribute names and \n",
    "                         values are the attributes' desired values.\n",
    "\n",
    "    Returns:\n",
    "    List of xarray.DataArray objects that match the specified attributes.\n",
    "    \"\"\"    \n",
    "    sublist = list(data_arrays_iterable)\n",
    "    \n",
    "    for attr_name, attr_values in selected_attrs_dict.items():\n",
    "        sublist = [da for da in sublist if da.attrs[attr_name] in attr_values]\n",
    "                \n",
    "    return sublist\n",
    "\n",
    "def fold_image(data_array, fold_axis, progress_bar=False):\n",
    "    \"\"\"\n",
    "    Method to fold image along a specified axis.\n",
    "    \n",
    "    Parameters:\n",
    "    - data_array (xarray DataArray): The DataArray to fold\n",
    "    - fold_axis (str): The axis along which to fold the image\n",
    "    \n",
    "    Returns:\n",
    "    - xarray DataArray: The folded image\n",
    "    \"\"\"\n",
    "    # Filter data for fold_axis >= 0 and fold_axis <= 0\n",
    "    positive_data = data_array.where(data_array[fold_axis] >= 0, drop=True)\n",
    "    negative_data = data_array.where(data_array[fold_axis] <= 0, drop=True)\n",
    "    \n",
    "    # Reverse negative_data for easier comparison\n",
    "    negative_data = negative_data.reindex({fold_axis: negative_data[fold_axis][::-1]})\n",
    "    \n",
    "    # Find the maximum coordinate of the shorter quadrant (positive_data)\n",
    "    max_positive_coord = float(positive_data[fold_axis].max())\n",
    "    \n",
    "    # Find the equivalent coordinate in the negative_data\n",
    "    abs_diff = np.abs(negative_data[fold_axis].values + max_positive_coord)\n",
    "    \n",
    "    # Minimize the difference\n",
    "    min_diff_idx = np.argmin(abs_diff)\n",
    "    \n",
    "    # Check if the lengths are equivalent\n",
    "    len_pos = len(positive_data[fold_axis])\n",
    "    len_neg = len(negative_data[fold_axis][:min_diff_idx+1])\n",
    "    \n",
    "    if len_pos != len_neg:\n",
    "        # Adjust the coordinate range for negative_data\n",
    "        for i in range(1, 4):  # Check 3 neighbors\n",
    "            new_idx = min_diff_idx + i\n",
    "            len_neg = len(negative_data[fold_axis][:new_idx+1])\n",
    "            if len_pos == len_neg:\n",
    "                min_diff_idx = new_idx\n",
    "                break\n",
    "                \n",
    "    # Crop the negative_data to match positive_data length\n",
    "    negative_data_cropped = negative_data.isel({fold_axis: slice(0, min_diff_idx+1)})\n",
    "    \n",
    "    # Prepare the new data array\n",
    "    new_data = xr.zeros_like(positive_data)\n",
    "    \n",
    "    # Fold the image\n",
    "    if progress_bar:\n",
    "        for i in tqdm(range(len(positive_data[fold_axis]))):\n",
    "            pos_val = positive_data.isel({fold_axis: i}).values\n",
    "            neg_val = negative_data_cropped.isel({fold_axis: i}).values\n",
    "\n",
    "            # Pixel comparison and choosing \n",
    "            new_data[i] = np.where(((pos_val == 0) | (np.isnan(pos_val))) & (neg_val > 1-1e-6),\n",
    "                                   neg_val, \n",
    "                                   pos_val)\n",
    "    else:\n",
    "        for i in range(len(positive_data[fold_axis])):\n",
    "            pos_val = positive_data.isel({fold_axis: i}).values\n",
    "            neg_val = negative_data_cropped.isel({fold_axis: i}).values\n",
    "\n",
    "            # Pixel comparison and choosing \n",
    "            new_data[i] = np.where(((pos_val == 0) | (np.isnan(pos_val)) | (pos_val < 2)) & (neg_val > 0.001),\n",
    "                                   neg_val, \n",
    "                                   pos_val) \n",
    "            \n",
    "            # # Pixel comparison and averaging\n",
    "            # new_data[i] = np.where(\n",
    "            #     (pos_val > 0) & (neg_val > 0), \n",
    "            #     (pos_val + neg_val) / 2,\n",
    "            #     np.where(((pos_val == 0) | (np.isnan(pos_val))) & (neg_val > 0),\n",
    "            #              neg_val, \n",
    "            #              pos_val)\n",
    "            # )\n",
    "\n",
    "\n",
    "        \n",
    "    # Append residual data from the longer quadrant if exists\n",
    "    if len(negative_data[fold_axis]) > min_diff_idx+1:\n",
    "        residual_data = negative_data.isel({fold_axis: slice(min_diff_idx+1, None)})\n",
    "        residual_data[fold_axis] = np.abs(residual_data[fold_axis])\n",
    "        new_data = xr.concat([new_data, residual_data], dim=fold_axis)\n",
    "        \n",
    "    # Update data_array with the folded image\n",
    "    data_array = new_data.sortby(fold_axis)\n",
    "    \n",
    "    # Inherit coordinates and metadata attributes from the original data_array\n",
    "    data_array.attrs = data_array.attrs.copy()\n",
    "    data_array.attrs['fold_axis'] = fold_axis  # Add 'fold_axis' attribute\n",
    "\n",
    "    # Ensure all original coordinates are retained in the new data_array\n",
    "    for coord in data_array.coords:\n",
    "        if coord not in data_array.coords:\n",
    "            data_array = data_array.assign_coords({coord: data_array[coord]})\n",
    "\n",
    "    return data_array"
   ]
  },
  {
   "cell_type": "code",
   "execution_count": null,
   "id": "8db0fc93-6739-457a-a7fe-ba695bb41716",
   "metadata": {},
   "outputs": [],
   "source": [
    "# I like pathlib for its readability & checkability, it's also necessary for the loadSeries function later on\n",
    "# Replace the paths with the ones relevant to your data, you can use the \".exists()\" method to make sure you defined a path correctly\n",
    "userPath = pathlib.Path('/nsls2/users/alevin')\n",
    "propPath = pathlib.Path('/nsls2/data/cms/proposals/2023-3/pass-311415')\n",
    "zarrsPath = propPath.joinpath('AL_processed_data/zarrs/bcy673')\n",
    "outPath = propPath.joinpath('AL_processed_data/CS-SAMseries')"
   ]
  },
  {
   "cell_type": "code",
   "execution_count": null,
   "id": "e4fdac03-46b0-4814-8fed-6b0b3de72404",
   "metadata": {
    "tags": []
   },
   "outputs": [],
   "source": [
    "# List zarrs\n",
    "sorted([f.name for f in zarrsPath.iterdir()])  # a way to list just the filenames and not the whole path"
   ]
  },
  {
   "cell_type": "markdown",
   "id": "783090af-9f5f-49e7-b846-84ba5540dd18",
   "metadata": {
    "tags": []
   },
   "source": [
    "## Cartesian plots"
   ]
  },
  {
   "cell_type": "markdown",
   "id": "0aeb3817-807a-4b79-be63-1b81884a7b25",
   "metadata": {
    "jp-MarkdownHeadingCollapsed": true,
    "tags": []
   },
   "source": [
    "### Load dataset(s)"
   ]
  },
  {
   "cell_type": "code",
   "execution_count": null,
   "id": "36f06119-6393-42a9-ad7d-f2f0fd5371d3",
   "metadata": {
    "tags": []
   },
   "outputs": [],
   "source": [
    "filename = 'CS_recip_stitched.zarr'\n",
    "DS = xr.open_zarr(zarrsPath.joinpath(filename))\n",
    "DS = DS.where(DS>1e-6)\n",
    "DS"
   ]
  },
  {
   "cell_type": "markdown",
   "id": "2c48c13a-44f4-4fdc-8e8f-4665a05ffac1",
   "metadata": {
    "tags": []
   },
   "source": [
    "### 2D reciprocal space images"
   ]
  },
  {
   "cell_type": "code",
   "execution_count": null,
   "id": "de3e97bd-7b57-4d22-8af4-851c3a0b7965",
   "metadata": {
    "tags": []
   },
   "outputs": [],
   "source": [
    "# 2D reciprocal space cartesian plots\n",
    "qxy_min = -1.1\n",
    "qxy_max = 2.1\n",
    "qz_min = 0\n",
    "qz_max = 2.2\n",
    "\n",
    "\n",
    "savePath = outPath.joinpath('recip_plots_v1')\n",
    "\n",
    "# selected_attrs_dict = {'incident_angle':['th0.080', 'th0.140']}\n",
    "# selected_attrs_dict = {'material': ['Y6'], 'solvent': ['CB']}\n",
    "# selected_attrs_dict = {'sampleid': ['CS1']}\n",
    "selected_attrs_dict = {}\n",
    "\n",
    "selected_DAs = select_attrs(DS.data_vars.values(), selected_attrs_dict)\n",
    "for DA in tqdm(selected_DAs):\n",
    "    # Slice data for selected q ranges (will need to rename q_xy if dimensions are differently named)\n",
    "    sliced_DA = DA.sel(q_xy=slice(qxy_min, qxy_max), q_z=slice(qz_min, qz_max))\n",
    "    \n",
    "    real_min = float(sliced_DA.compute().quantile(0.05))\n",
    "    cmin = 1 if real_min < 1 else real_min\n",
    "\n",
    "    cmax = float(sliced_DA.compute().quantile(0.997))   \n",
    "    \n",
    "    # Plot\n",
    "    ax = sliced_DA.plot.imshow(cmap=cmap, norm=plt.Normalize(cmin, cmax), interpolation='antialiased', figsize=(5.5,3.3))\n",
    "    ax.colorbar.set_label('Intensity [arb. units]', rotation=270, labelpad=15)\n",
    "    ax.axes.set(aspect='equal', title=f'Cartesian Plot: {DA.sampleid}, {float(DA.incident_angle[2:])}° Incidence',\n",
    "                xlabel='q$_{xy}$ [Å$^{-1}$]', ylabel='q$_z$ [Å$^{-1}$]')\n",
    "    ax.figure.set(tight_layout=True, dpi=130)\n",
    "    \n",
    "    ax.figure.savefig(savePath.joinpath(f'{DA.sampleid}_qxy{qxy_min}to{qxy_max}_qz{qz_min}to{qz_max}_{DA.incident_angle}.png'), dpi=150)\n",
    "\n",
    "    # plt.show()\n",
    "    plt.close('all')"
   ]
  },
  {
   "cell_type": "code",
   "execution_count": null,
   "id": "8ae1af95-47b3-4f3e-bea0-00b819d54992",
   "metadata": {
    "tags": []
   },
   "outputs": [],
   "source": [
    "# # Yoneda peak check\n",
    "# qxy_min = 0.22\n",
    "# qxy_max = 2\n",
    "# qz_min = -0.01\n",
    "# qz_max = 0.05\n",
    "\n",
    "# selected_DAs = select_attrs(DS.data_vars.values(), selected_attrs_dict)\n",
    "# for DA in tqdm(selected_DAs):\n",
    "#     # Slice data for selected q ranges (will need to rename q_xy if dimensions are differently named)\n",
    "#     sliced_DA = DA.sel(q_xy=slice(qxy_min, qxy_max), q_z=slice(qz_min, qz_max))\n",
    "#     qz_integrated_DA = sliced_DA.sum('q_xy')\n",
    "    \n",
    "#     # Plot\n",
    "#     qz_integrated_DA.plot.line(label=DA.incident_angle)\n",
    "    \n",
    "# plt.legend()\n",
    "# plt.grid(visible=True, which='major', axis='x')\n",
    "# plt.show()"
   ]
  },
  {
   "cell_type": "code",
   "execution_count": null,
   "id": "ab959794-9f27-40d3-a9fc-25c0b936ce8e",
   "metadata": {},
   "outputs": [],
   "source": [
    "# # A way to save data as csv files\n",
    "# for DA in tqdm(DS.data_vars.values()):\n",
    "#     # qxy columns, qz rows\n",
    "#     DA.to_pandas().to_csv(outPath.joinpath('PM6-Y6_waxs', f'cartesian-2D_{DA.polymer}-{DA.weight_percent}_{DA.incident_angle}_{DA.scan_id}.csv'))"
   ]
  },
  {
   "cell_type": "markdown",
   "id": "6494ef84-5fb8-4742-b43d-af9bba67bd88",
   "metadata": {
    "tags": []
   },
   "source": [
    "### 1D Qxy or Qz integrated lincuts"
   ]
  },
  {
   "cell_type": "markdown",
   "id": "e9fd26a5-3875-47bb-a594-b1af830fa824",
   "metadata": {
    "jp-MarkdownHeadingCollapsed": true,
    "tags": []
   },
   "source": [
    "## Polar plots"
   ]
  },
  {
   "cell_type": "markdown",
   "id": "fc1b333a-53cc-4ace-8769-f61a5a91f60c",
   "metadata": {
    "tags": []
   },
   "source": [
    "### Load dataset"
   ]
  },
  {
   "cell_type": "code",
   "execution_count": null,
   "id": "5fbc28bc-15c1-4a00-8c65-cfcaa32e35d1",
   "metadata": {
    "tags": []
   },
   "outputs": [],
   "source": [
    "filename = 'CS_caked_stitched.zarr'\n",
    "DS = xr.open_zarr(zarrsPath.joinpath(filename))\n",
    "DS = DS.where(DS>1e-6)\n",
    "DS"
   ]
  },
  {
   "cell_type": "code",
   "execution_count": null,
   "id": "9e4ea1de-89fc-4c16-9002-46e8a3b05bf4",
   "metadata": {
    "tags": []
   },
   "outputs": [],
   "source": [
    "### Apply a sin chi correction\n",
    "sin_chi_DA = np.sin(np.radians(np.abs(DS.chi)))\n",
    "\n",
    "corr_DS = DS.copy()\n",
    "# corr_DS = corr_DS * sin_chi_DA  # This works mathematically, but does not preserve attributes\n",
    "for var in corr_DS.data_vars:\n",
    "    corrected = corr_DS[var] * sin_chi_DA\n",
    "    corr_DS[var].values = corrected.values\n",
    "    \n",
    "corr_DS"
   ]
  },
  {
   "cell_type": "code",
   "execution_count": null,
   "id": "15cadb73-aab5-474d-bf14-2fb724029824",
   "metadata": {},
   "outputs": [],
   "source": [
    "### Fold sin(chi) corrected dataset\n",
    "\n",
    "folded_corr_DAs = []\n",
    "for DA in tqdm(corr_DS.data_vars.values()):\n",
    "    folded_corr_DAs.append(fold_image(DA, 'chi'))"
   ]
  },
  {
   "cell_type": "markdown",
   "id": "57eef254-2427-4373-9cf6-ac17e09ee7d3",
   "metadata": {
    "jp-MarkdownHeadingCollapsed": true,
    "tags": []
   },
   "source": [
    "### 2D caked images"
   ]
  },
  {
   "cell_type": "markdown",
   "id": "d662afe1-739a-4c98-a9a7-0866b85df471",
   "metadata": {
    "tags": []
   },
   "source": [
    "#### Unfolded raw(chi) intensity"
   ]
  },
  {
   "cell_type": "code",
   "execution_count": null,
   "id": "5ba48bbe-2db8-45db-b8f5-f4ea1b0d6542",
   "metadata": {
    "tags": []
   },
   "outputs": [],
   "source": [
    "# Polar plots, for raw(chi) intensities\n",
    "\n",
    "# Set chi range: Full range\n",
    "chi_min = None\n",
    "chi_max = None\n",
    "q_min = None\n",
    "q_max = None\n",
    "\n",
    "savePath = outPath.joinpath('caked_plots_v1')\n",
    "\n",
    "# selected_attrs_dict = {'incident_angle':['th0.080', 'th0.140']}\n",
    "# selected_attrs_dict = {'material': ['PM6']}\n",
    "selected_attrs_dict = {}\n",
    "\n",
    "selected_DAs = select_attrs(DS.data_vars.values(), selected_attrs_dict)\n",
    "    \n",
    "for DA in tqdm(selected_DAs):\n",
    "    # Slice dataarray to select plotting region \n",
    "    sliced_DA = DA.sel(chi=slice(chi_min,chi_max), qr=slice(q_min, q_max))\n",
    "    \n",
    "    # Set color limits\n",
    "    real_min = float(sliced_DA.compute().quantile(0.01))\n",
    "    cmin = 1 if real_min < 1 else real_min\n",
    "\n",
    "    cmax = float(sliced_DA.compute().quantile(0.995))       \n",
    "    \n",
    "    # Plot sliced dataarray\n",
    "    ax = sliced_DA.plot.imshow(cmap=cmap, norm=plt.Normalize(cmin, cmax), figsize=(5,4), interpolation='antialiased')  # plot, optional parameter interpolation='antialiased' for image smoothing\n",
    "\n",
    "    ax.axes.set(title=f'Polar plot: {DA.sampleid}, $\\\\alpha_i$ = {float(DA.incident_angle[2:])}°, raw intensity')\n",
    "\n",
    "    ax.colorbar.set_label('Raw intensity [arb. units]', rotation=270, labelpad=15)  # set colorbar label & parameters \n",
    "    ax.axes.set(xlabel='q$_r$ [Å$^{-1}$]', ylabel='$\\chi$ [°]')  # set title, axis labels, misc\n",
    "    ax.figure.set(tight_layout=True, dpi=130)  # Adjust figure dpi & plotting style\n",
    "    \n",
    "    \n",
    "    # Uncomment below line and set savepath/savename for saving plots, I usually like to check \n",
    "    ax.figure.savefig(savePath.joinpath(f'rawchi_{DA.sampleid}_chi{chi_min}to{chi_max}_q{q_min}to{q_max}_{DA.incident_angle}.png'), dpi=150)\n",
    "\n",
    "    # plt.show()  # Comment to mute plotting output\n",
    "    plt.close('all')"
   ]
  },
  {
   "cell_type": "markdown",
   "id": "06c00556-2959-443f-a11d-1ce7697166f6",
   "metadata": {
    "jp-MarkdownHeadingCollapsed": true,
    "tags": []
   },
   "source": [
    "#### Folded raw(chi) intensity"
   ]
  },
  {
   "cell_type": "code",
   "execution_count": null,
   "id": "2e62a639-f062-4dce-9072-87306c345c18",
   "metadata": {
    "tags": []
   },
   "outputs": [],
   "source": [
    "# Polar plots, for FOLDED raw(chi) intensities\n",
    "\n",
    "# Set chi range: Full range\n",
    "chi_min = None\n",
    "chi_max = None\n",
    "q_min = None\n",
    "q_max = None\n",
    "\n",
    "savePath = outPath.joinpath('PM6-Y6series/caked_plots_v1')\n",
    "\n",
    "selected_attrs_dict = {}\n",
    "selected_DAs = select_attrs(DS.data_vars.values(), selected_attrs_dict)\n",
    "    \n",
    "for DA in tqdm(selected_DAs):\n",
    "    DA = fold_image(DA, 'chi')\n",
    "\n",
    "    # Set color limits\n",
    "    real_min = float(DA.compute().quantile(0.01))\n",
    "    cmin = 1 if real_min < 1 else real_min\n",
    "\n",
    "    cmax = float(DA.compute().quantile(0.995))  \n",
    "    \n",
    "    # Slice dataarray to select plotting region \n",
    "    sliced_DA = DA.sel(chi=slice(chi_min,chi_max), qr=slice(q_min, q_max))     \n",
    "    \n",
    "    # Plot sliced dataarray\n",
    "    ax = sliced_DA.plot.imshow(cmap=cmap, norm=plt.Normalize(cmin, cmax), figsize=(5,4), interpolation='antialiased')  # plot, optional parameter interpolation='antialiased' for image smoothing\n",
    "    ax.axes.set(title=f'Folded Polar Plot: {DA.material} {DA.solvent} {DA.rpm}, {float(DA.incident_angle[2:])}° Incidence, Raw Intensity')\n",
    "    ax.colorbar.set_label('Raw Intensity [arb. units]', rotation=270, labelpad=15)  # set colorbar label & parameters \n",
    "    ax.axes.set(xlabel='q$_r$ [Å$^{-1}$]', ylabel='$\\chi$ [°]')  # set title, axis labels, misc\n",
    "    ax.figure.set(tight_layout=True, dpi=130)  # Adjust figure dpi & plotting style\n",
    "    \n",
    "    plt.show()  # Comment to mute plotting output\n",
    "    \n",
    "    # Uncomment below line and set savepath/savename for saving plots, I usually like to check \n",
    "    # ax.figure.savefig(savePath.joinpath(f'rawchi-folded_{DA.material}-{DA.solvent}-{DA.rpm}_chi{chi_min}to{chi_max}_q{q_min}to{q_max}_{DA.incident_angle}.png'), dpi=150)\n",
    "    plt.close('all')"
   ]
  },
  {
   "cell_type": "markdown",
   "id": "eb2b88a0-1c2d-424b-a05c-bf78015285e7",
   "metadata": {
    "jp-MarkdownHeadingCollapsed": true,
    "tags": []
   },
   "source": [
    "#### Unfolded sin(chi) intensity"
   ]
  },
  {
   "cell_type": "code",
   "execution_count": null,
   "id": "fd66083e-9491-48f3-b691-0404de41a4df",
   "metadata": {
    "tags": []
   },
   "outputs": [],
   "source": [
    "# Polar plots, for sin(chi) intensities\n",
    "\n",
    "# Set chi range: Full range\n",
    "chi_min = -90\n",
    "chi_max = 90\n",
    "q_min = None\n",
    "q_max = None\n",
    "\n",
    "savePath = outPath.joinpath('A1-3set_waxs/caked_plots_v1')\n",
    "    \n",
    "for DA in tqdm(selected_corr_DAs):\n",
    "    # Slice dataarray to select plotting region \n",
    "    sliced_DA = DA.sel(chi=slice(chi_min,chi_max), qr=slice(q_min, q_max))\n",
    "    \n",
    "    # Set color limits\n",
    "    real_min = float(sliced_DA.compute().quantile(0.01))\n",
    "    cmin = 1 if real_min < 1 else real_min\n",
    "\n",
    "    cmax = float(sliced_DA.compute().quantile(0.995))       \n",
    "    \n",
    "    # Plot sliced dataarray\n",
    "    ax = sliced_DA.plot.imshow(cmap=cmap, norm=plt.Normalize(cmin, cmax), figsize=(5,4), interpolation='antialiased')  # plot, optional parameter interpolation='antialiased' for image smoothing\n",
    "    ax.axes.set(title=f'Polar Plot: {DA.film}, {float(DA.incident_angle[2:])}° Incidence, sin($\\chi$) Corrected')\n",
    "    ax.colorbar.set_label('Intensity * sin($\\chi$) [arb. units]', rotation=270, labelpad=15)  # set colorbar label & parameters \n",
    "    ax.axes.set(xlabel='q$_r$ [Å$^{-1}$]', ylabel='$\\chi$ [°]')  # set title, axis labels, misc\n",
    "    ax.figure.set(tight_layout=True, dpi=130)  # Adjust figure dpi & plotting style\n",
    "    \n",
    "    plt.show()  # Comment to mute plotting output\n",
    "    \n",
    "    # Uncomment below line and set savepath/savename for saving plots, I usually like to check \n",
    "    # ax.figure.savefig(savePath.joinpath(f'sinchi_{DA.film}_chi{chi_min}to{chi_max}_q{q_min}to{q_max}_{DA.incident_angle}.png'), dpi=150)\n",
    "    plt.close('all')"
   ]
  },
  {
   "cell_type": "markdown",
   "id": "68d83d04-8ef7-4534-b845-480451693ff5",
   "metadata": {
    "tags": []
   },
   "source": [
    "#### Folded sin(chi) intensity"
   ]
  },
  {
   "cell_type": "code",
   "execution_count": null,
   "id": "383655bf-6d7f-43b3-9d25-9475d2cc1898",
   "metadata": {},
   "outputs": [],
   "source": [
    "%matplotlib widget"
   ]
  },
  {
   "cell_type": "code",
   "execution_count": null,
   "id": "1d2e794f-cfbb-441d-bee0-a43a405f3ed9",
   "metadata": {},
   "outputs": [],
   "source": [
    "plt.close('all')"
   ]
  },
  {
   "cell_type": "code",
   "execution_count": null,
   "id": "35067fc8-27ec-4aa3-873c-66f7d080e86e",
   "metadata": {
    "tags": []
   },
   "outputs": [],
   "source": [
    "# Polar plots, for FOLDED sin(chi) intensities\n",
    "\n",
    "# Set chi range: Full range\n",
    "chi_min = 10\n",
    "chi_max = 82\n",
    "q_min = 0.1\n",
    "q_max = 2.04\n",
    "\n",
    "# Set savePath\n",
    "savePath = outPath.joinpath('caked_plots_v1')\n",
    "\n",
    "# selected_attrs_dict = {'incident_angle':['th0.080', 'th0.140']}\n",
    "# selected_attrs_dict = {'material': ['PM6'], 'solvent': ['CFCN']}\n",
    "selected_attrs_dict = {'sampleid': ['CS1-S']}\n",
    "# selected_attrs_dict = {}\n",
    "\n",
    "selected_DAs = select_attrs(folded_corr_DAs, selected_attrs_dict)    \n",
    "for DA in tqdm(selected_DAs[:1]):\n",
    "    # Slice dataarray to select plotting region \n",
    "    sliced_DA = DA.sel(chi=slice(chi_min,chi_max), qr=slice(q_min, q_max))\n",
    "    \n",
    "    # Set color limits\n",
    "    real_min = float(sliced_DA.compute().quantile(0.01))\n",
    "    cmin = 1 if real_min < 1 else real_min\n",
    "\n",
    "    cmax = float(sliced_DA.compute().quantile(0.995))       \n",
    "    \n",
    "    # Plot sliced dataarray\n",
    "    ax = sliced_DA.plot.imshow(origin='upper', cmap=cmap, norm=plt.Normalize(cmin, cmax), figsize=(5,4))  # plot, optional parameter interpolation='antialiased' for image smoothing\n",
    "    ax.axes.set(title=f'Folded polar plot: {DA.sampleid}, $\\\\alpha_i$ = {float(DA.incident_angle[2:])}°, sin($\\chi$) corr.')\n",
    "    ax.colorbar.set_label('Intensity * sin($\\chi$) [arb. units]', rotation=270, labelpad=15)  # set colorbar label & parameters \n",
    "    ax.axes.set(xlabel='q$_r$ [Å$^{-1}$]', ylabel='$\\chi$ [°]')  # set title, axis labels, misc\n",
    "    ax.figure.set(tight_layout=True, dpi=130)  # Adjust figure dpi & plotting style\n",
    "    \n",
    "    \n",
    "    # Uncomment below line and set savepath/savename for saving plots, I usually like to check \n",
    "    # ax.figure.savefig(savePath.joinpath(f'sinchi-folded_{DA.sampleid}_chi{chi_min}to{chi_max}_q{q_min}to{q_max}_{DA.incident_angle}.png'), dpi=150)\n",
    "\n",
    "    plt.show()  # Comment to mute plotting output\n",
    "    # plt.close('all')"
   ]
  },
  {
   "cell_type": "markdown",
   "id": "b47c5689-4a4e-4bb0-8c4e-48cbf0a8d252",
   "metadata": {
    "jp-MarkdownHeadingCollapsed": true,
    "tags": []
   },
   "source": [
    "### 1D linecuts along chi"
   ]
  },
  {
   "cell_type": "code",
   "execution_count": null,
   "id": "5e52ecc2-7148-4a27-a748-0e0c7a6b3ec1",
   "metadata": {},
   "outputs": [],
   "source": [
    "import matplotlib.ticker as ticker"
   ]
  },
  {
   "cell_type": "code",
   "execution_count": null,
   "id": "b5e24f21-5312-4223-9611-3eed34278071",
   "metadata": {},
   "outputs": [],
   "source": [
    "import matplotlib.colors as mcolors"
   ]
  },
  {
   "cell_type": "code",
   "execution_count": null,
   "id": "c89421ae-080b-4103-a4c6-8d4128f563cb",
   "metadata": {},
   "outputs": [],
   "source": [
    "def darken_colors(color_array, factor):\n",
    "    \"\"\"\n",
    "    Darken an array of RGB colors where 0 is white and 1 is black.\n",
    "    \n",
    "    :param color_array: An array of RGB colors in the range [0, 1] where 0 is white and 1 is black\n",
    "    :param factor: A float between 0 and 1, where 0 has no change and 1 is fully black\n",
    "    :return: The darkened color array\n",
    "    \"\"\"\n",
    "    darkened_colors = color_array + (1 - color_array) * factor\n",
    "    return np.clip(darkened_colors, 0, 1)  # Ensures values stay within valid range"
   ]
  },
  {
   "cell_type": "code",
   "execution_count": null,
   "id": "17f04e42-ea1b-49f1-b7d9-7588f6180edb",
   "metadata": {
    "tags": []
   },
   "outputs": [],
   "source": [
    "# Set lims\n",
    "oop_chi_min = 10\n",
    "oop_chi_max = 30\n",
    "\n",
    "ip_chi_min = 65\n",
    "ip_chi_max = 82\n",
    "\n",
    "q_min = 0.1\n",
    "q_max = 2.04\n",
    "# q_min = 0.2\n",
    "# q_max = 0.8\n",
    "\n",
    "# Set savePath\n",
    "savePath = outPath.joinpath('stacked_linecut_plots_v1')\n",
    "\n",
    "# selected_attrs_dict = {'incident_angle':['th0.080', 'th0.140'],\n",
    "#                        'material':['Y6']}\n",
    "# selected_attrs_dict = {'material':['Y7']}\n",
    "selected_attrs_dict = {}\n",
    "\n",
    "# group_size = 2\n",
    "group_size = 4\n",
    "\n",
    "selected_DAs = select_attrs(folded_corr_DAs, selected_attrs_dict)\n",
    "DA_sublists = [selected_DAs[i:i + group_size] for i in range(0, len(selected_DAs), group_size)]\n",
    "\n",
    "# colors = plt.cm.tab20c_r(np.linspace(0,1,20))[:16][::2]  # for 2 incident angles\n",
    "colors = plt.cm.tab20c_r(np.linspace(0,1,20))[:16]  # for 4 incident angles\n",
    "colors = darken_colors(colors, -0.5)\n",
    "\n",
    "for DA_sublist in tqdm(DA_sublists):\n",
    "    # Sort by incident angle:\n",
    "    DA_sublist = sorted(DA_sublist, key = lambda x: x.incident_angle)\n",
    "    \n",
    "    # Define the figure and subplots\n",
    "    fig, axs = plt.subplots(4, 1, figsize=(6, 8), sharex=True, dpi=120)\n",
    "\n",
    "    # Adjust the spacing between plots\n",
    "    fig.subplots_adjust(hspace=0.005)  # Adjust this value as needed to minimize white space\n",
    "    \n",
    "    for i, DA in enumerate(DA_sublist):        \n",
    "        # Plotting each line in its subplot\n",
    "        # OOP\n",
    "        OOP_linecut_DA = DA.sel(chi=slice(oop_chi_min, oop_chi_max), qr=slice(q_min,q_max)).integrate('chi') / np.abs(oop_chi_max - oop_chi_min)\n",
    "        OOP_linecut_DA.plot.line(color=colors[i], ax=axs[0], label=f'$\\\\alpha_i$ = {float(DA.incident_angle[2:])}°')\n",
    "\n",
    "        # Diagonal\n",
    "        Diagonal_linecut_DA = DA.sel(chi=slice(oop_chi_max, ip_chi_min), qr=slice(q_min,q_max)).integrate('chi') / np.abs(ip_chi_min - oop_chi_max)\n",
    "        # Diagonal_linecut_DA.plot.line(color=colors[i+2], ax=axs[1], label=f'Diagonal, {oop_chi_max}-{ip_chi_min}°' + r' $\\chi$, ' + f'$\\\\alpha_i$ = {float(DA.incident_angle[2:])}°')\n",
    "        Diagonal_linecut_DA.plot.line(color=colors[i+4], ax=axs[1], label=f'$\\\\alpha_i$ = {float(DA.incident_angle[2:])}°')\n",
    "\n",
    "        # IP\n",
    "        IP_linecut_DA = DA.sel(chi=slice(ip_chi_min, ip_chi_max), qr=slice(q_min,q_max)).integrate('chi') / np.abs(ip_chi_max - ip_chi_min)\n",
    "        # IP_linecut_DA.plot.line(color=colors[i+4], ax=axs[2], label=f'In-plane, {ip_chi_min}-{ip_chi_max}°' + r' $\\chi$, ' + f'$\\\\alpha_i$ = {float(DA.incident_angle[2:])}°')\n",
    "        IP_linecut_DA.plot.line(color=colors[i+8], ax=axs[2], label=f'$\\\\alpha_i$ = {float(DA.incident_angle[2:])}°')\n",
    "\n",
    "        # Full\n",
    "        Full_linecut_DA = DA.sel(chi=slice(oop_chi_min, ip_chi_max), qr=slice(q_min,q_max)).integrate('chi') / 90\n",
    "        # Full_linecut_DA.plot.line(color=colors[i+6], ax=axs[3], label=f'Full, {oop_chi_min}-{ip_chi_max}°' + r' $\\chi$, ' + f'$\\\\alpha_i$ = {float(DA.incident_angle[2:])}°')\n",
    "        Full_linecut_DA.plot.line(color=colors[i+12], ax=axs[3], label=f'$\\\\alpha_i$ = {float(DA.incident_angle[2:])}°')\n",
    "\n",
    "    # Add legends and gridlines to each subplot\n",
    "    for ax in axs:\n",
    "        ax.grid(True, which='major', axis='x')  # Add gridlines\n",
    "        ax.xaxis.set_major_locator(ticker.AutoLocator())  # Set major tick locator\n",
    "        ax.xaxis.set_minor_locator(ticker.AutoMinorLocator())  # Set minor tick locator\n",
    "        ax.set_ylabel('')\n",
    "\n",
    "    axs[0].text(0.5, 0.88, f'Out-of-plane, {oop_chi_min}-{oop_chi_max}°' + r' $\\chi$', fontsize=12,\n",
    "                horizontalalignment='center', transform=axs[0].transAxes)\n",
    "    axs[1].text(0.5, 0.88, f'Diagonal, {oop_chi_max}-{ip_chi_min}°' + r' $\\chi$', fontsize=12,\n",
    "                horizontalalignment='center', transform=axs[1].transAxes)\n",
    "    axs[2].text(0.5, 0.88, f'In-plane, {ip_chi_min}-{ip_chi_max}°' + r' $\\chi$', fontsize=12,\n",
    "                horizontalalignment='center', transform=axs[2].transAxes)\n",
    "    axs[3].legend(loc='upper center', title=f'Full, {oop_chi_min}-{ip_chi_max}°' + r' $\\chi$',\n",
    "                  fontsize=10, title_fontsize='large')\n",
    "       \n",
    "\n",
    "    # Add axis labels\n",
    "    axs[-1].set_xlabel('$q_r$ $[Å^{-1}]$', fontsize=12)\n",
    "    fig.text(0.01, 0.5, 'Integrated intensities [arb. units]', va='center', rotation='vertical', fontsize=12)\n",
    "\n",
    "    fig.suptitle(f'{DA.sampleid} $\\\\chi$-integrated linecuts, $\\\\chi$-width normed', y=0.91, fontsize=14)\n",
    "\n",
    "    fig.savefig(savePath.joinpath(f'sinchi-folded_{DA.sampleid}_q{q_min}to{q_max}.png'), dpi=150, bbox_inches='tight')\n",
    "\n",
    "    # plt.show()\n",
    "    plt.close('all')"
   ]
  },
  {
   "cell_type": "code",
   "execution_count": null,
   "id": "e37f20b4-543f-42b2-9e3b-5cc9536326e6",
   "metadata": {
    "tags": []
   },
   "outputs": [],
   "source": [
    "# # Set lims\n",
    "# oop_chi_min = 8\n",
    "# oop_chi_max = 30\n",
    "\n",
    "# ip_chi_min = 65\n",
    "# ip_chi_max = 87\n",
    "\n",
    "# q_min = 0.1\n",
    "# q_max = 2.04\n",
    "\n",
    "# # Set savePath\n",
    "# # savePath = outPath.joinpath('PM6-Y6series/var/linecut_plots_v1')\n",
    "# savePath = outPath.joinpath('PM6-Y6series/fix/linecut_plots_v1')\n",
    "\n",
    "# # selected_attrs_dict = {'incident_angle':['th0.080', 'th0.140']}\n",
    "# selected_attrs_dict = {}\n",
    "\n",
    "# selected_DAs = select_attrs(folded_corr_DAs, selected_attrs_dict)\n",
    "# for DA in tqdm(selected_DAs[:1]):\n",
    "#     # OOP\n",
    "#     OOP_linecut_DA = DA.sel(chi=slice(oop_chi_min, oop_chi_max), qr=slice(q_min,q_max)).integrate('chi')\n",
    "#     OOP_linecut_DA.plot.line(figsize=(6,4), label=f'Out-of-plane, {oop_chi_min} to {oop_chi_max}°' + r' $\\chi$')\n",
    "\n",
    "#     # A plot.line xarray plot does not return an AxesImage object like imshow does\n",
    "#     # Can use plt.gca() and plt.gcf() to access the axes & figure parameters\n",
    "#     ax = plt.gca()\n",
    "#     fig = plt.gcf()\n",
    "\n",
    "#     # IP\n",
    "#     ax2 = ax.twinx()\n",
    "#     IP_linecut_DA = DA.sel(chi=slice(ip_chi_min, ip_chi_max), qr=slice(q_min,q_max)).integrate('chi')\n",
    "#     IP_linecut_DA.plot.line(color='C1', ax=ax2, label=f'In-plane, {ip_chi_min} to {ip_chi_max}°' + r' $\\chi$')\n",
    "    \n",
    "#     # ax.set(title=f'{DA.material} {DA.solvent} {DA.rpm} 22° Linecuts, {float(DA.incident_angle[2:])}° Incidence',\n",
    "#     #        ylabel='Out-of-plane Intensity [arb. units]', xlabel='q$_r$ [Å$^{-1}$]')\n",
    "#     ax.set(title=f'{DA.material} {DA.solvent} 22° Linecuts, {float(DA.incident_angle[2:])}° Incidence',\n",
    "#            ylabel='Out-of-plane Intensity [arb. units]', xlabel='q$_r$ [Å$^{-1}$]')\n",
    "#     ax2.set(ylabel='In-plane Intensity [arb. units]')\n",
    "    \n",
    "#     ax.grid(visible=True, which='major', axis='x')\n",
    "#     fig.set(tight_layout=True, dpi=130)\n",
    "#     ax.legend(loc='upper center', bbox_to_anchor=(0.5, 1))\n",
    "#     ax2.legend(loc='upper center', bbox_to_anchor=(0.5, 0.91)) \n",
    "    \n",
    "#     # ax.figure.savefig(savePath.joinpath(f'sinchi-folded_{DA.material}-{DA.solvent}-{DA.rpm}_chi{chi_min}to{chi_max}_q{q_min}to{q_max}_{DA.incident_angle}.png'), dpi=150)\n",
    "#     # ax.figure.savefig(savePath.joinpath(f'sinchi-folded_{DA.material}-{DA.solvent}_chi{chi_min}to{chi_max}_q{q_min}to{q_max}_{DA.incident_angle}.png'), dpi=150)\n",
    "\n",
    "#     plt.show()\n",
    "#     plt.close('all')"
   ]
  },
  {
   "cell_type": "markdown",
   "id": "3a62b90b-919c-4dfe-91fe-4408eaf40ab2",
   "metadata": {
    "jp-MarkdownHeadingCollapsed": true,
    "tags": []
   },
   "source": [
    "### 1D line fitting*\n",
    "Use lmfit to perform the linefits"
   ]
  },
  {
   "cell_type": "code",
   "execution_count": null,
   "id": "6e4dc718-68e9-4a1c-a13b-b8d7c54d88a6",
   "metadata": {},
   "outputs": [],
   "source": [
    "from scipy import optimize, signal\n",
    "from lmfit import models"
   ]
  },
  {
   "cell_type": "code",
   "execution_count": null,
   "id": "73877355-efd1-40c6-82c7-f686f3ac2e33",
   "metadata": {},
   "outputs": [],
   "source": [
    "def fit_plotter(q, I, out):\n",
    "    \"\"\"\n",
    "    Plots a figure with 2 axes, the full fit on a log scale on the left and the components in normal scale on the right\n",
    "    \"\"\"\n",
    "    fig, (ax1, ax2) = plt.subplots(1,2)\n",
    "    fig.set(size_inches=(12,4))\n",
    "    \n",
    "    ax1.plot(q, I, label='data')\n",
    "    ax1.plot(q, out.best_fit, label='full_fit')\n",
    "    ax1.set(xlabel='Q [Å$^{-1}$]', ylabel='Intensity [arb. units]')\n",
    "    ax1.legend(loc='upper left')\n",
    "    \n",
    "    ax2.plot(q, I, label='data')\n",
    "    ax2.plot(q, out.best_fit, label='full_fit')\n",
    "    for key in out.eval_components():\n",
    "        ax2.plot(q, out.eval_components()[key], label=f'{key}')\n",
    "    ax2.set(xlabel='Q [Å$^{-1}$]')\n",
    "    ax2.legend(loc='upper left')\n",
    "    \n",
    "    return (ax1, ax2), fig"
   ]
  },
  {
   "cell_type": "code",
   "execution_count": null,
   "id": "245e1a1e-6611-4807-a48a-3f1ebdf68357",
   "metadata": {
    "tags": []
   },
   "outputs": [],
   "source": [
    "# chi_min = 8\n",
    "# chi_max = 18\n",
    "\n",
    "# q_min = 1.1\n",
    "# q_max = 2.45\n",
    "\n",
    "# # points_x = [0.3, 2.6]\n",
    "\n",
    "# point_x = q_min\n",
    "\n",
    "\n",
    "# for DA in folded_corr_DAs:\n",
    "#     point_y = float(DA.sel(chi=slice(chi_min, chi_max), qr=slice(point_x-0.01, point_x+0.01)).mean('qr').mean('chi'))\n",
    "#     point_y = point_y - point_y*(0.08)\n",
    "\n",
    "\n",
    "#     DA.sel(chi=slice(chi_min, chi_max), qr=slice(q_min, q_max)).plot()\n",
    "#     plt.show()\n",
    "\n",
    "#     OOP_linecut_DA = DA.sel(chi=slice(chi_min, chi_max), qr=slice(q_min, q_max)).mean('chi')\n",
    "#     OOP_linecut_DA.plot()\n",
    "\n",
    "#     plt.hlines(point_y, xmin=q_min, xmax=q_max)\n",
    "\n",
    "#     plt.show()\n",
    "#     plt.close('all')"
   ]
  },
  {
   "cell_type": "code",
   "execution_count": null,
   "id": "aa1051be-7e9e-4ccf-a73a-42dfebc62235",
   "metadata": {},
   "outputs": [],
   "source": [
    "DA = selected_DAs[0].compute()\n",
    "OOP_linecut_DA = DA.sel(chi=slice(chi_min, chi_max), qr=slice(q_min, q_max)).mean('chi')\n",
    "\n",
    "point_x = q_min\n",
    "point_y = float(DA.sel(chi=slice(chi_min, chi_max), qr=slice(point_x-0.01, point_x+0.01)).mean('qr').mean('chi'))\n",
    "point_y = point_y - point_y*(0.08)\n",
    "\n",
    "x = OOP_linecut_DA.qr.data\n",
    "y = OOP_linecut_DA.data"
   ]
  },
  {
   "cell_type": "markdown",
   "id": "7e6b9bb9-5b46-47a0-ad71-989a1a31b615",
   "metadata": {},
   "source": [
    "#### Messy line fitting below"
   ]
  },
  {
   "cell_type": "code",
   "execution_count": null,
   "id": "f37f1bc4-c06e-483c-abd6-6ca3eae92332",
   "metadata": {},
   "outputs": [],
   "source": [
    "# A1\n",
    "intensity_type = 'raw'\n",
    "if intensity_type == 'corr':\n",
    "    DA = selected_corr_DAs[0].compute()\n",
    "elif intensity_type == 'raw':\n",
    "    DA = selected_raw_DAs[0].compute()\n",
    "else:\n",
    "    print('Must select intensity type')\n",
    "\n",
    "OOP_linecut_DA = DA.sel(chi=slice(chi_min, chi_max), qr=slice(0.3, 1.9)).mean('chi')\n",
    "\n",
    "point_x = 0.3\n",
    "point_y = float(DA.sel(chi=slice(chi_min, chi_max), qr=slice(point_x-0.01, point_x+0.01)).mean('qr').mean('chi'))\n",
    "point_y = point_y - point_y*(0.08)\n",
    "\n",
    "x = OOP_linecut_DA.qr.data\n",
    "y = OOP_linecut_DA.data\n",
    "\n",
    "# Define all models to include in fitting\n",
    "bkg_mod = models.LinearModel(prefix='bkg_')\n",
    "pars = bkg_mod.make_params()\n",
    "pars = bkg_mod.make_params(intercept=point_y, slope=0)\n",
    "pars['bkg_intercept'].set(vary=False)\n",
    "pars['bkg_slope'].set(vary=False)\n",
    "\n",
    "pk1_mod = models.PseudoVoigtModel(prefix='pk1_')\n",
    "# pars = pk1_mod.make_params(center=0.55)\n",
    "pars += pk1_mod.guess(y, x, center=0.55)\n",
    "# pars['pk1_amplitude'].set(min=0.5)\n",
    "pars['pk1_amplitude'].set(min=0)\n",
    "\n",
    "# pk2_mod = models.LorentzianModel(prefix='pk2_')\n",
    "pk2_mod = models.PseudoVoigtModel(prefix='pk2_')\n",
    "\n",
    "pars += pk2_mod.guess(y, x, center=1.7)\n",
    "# pars['pk2_center'].set(max = 0.62, min = 0.58)\n",
    "# pars['pk2_sigma'].set(max = 0.03)\n",
    "pars['pk2_amplitude'].set(min=0)\n",
    "\n",
    "pk3_mod = models.PseudoVoigtModel(prefix='pk3_')\n",
    "pars += pk3_mod.guess(y, x, center=0.8)\n",
    "pars['pk3_center'].set(max=0.9, min = 0.7)\n",
    "pars['pk3_amplitude'].set(min=0)\n",
    "\n",
    "\n",
    "# Combine into full model\n",
    "mod = bkg_mod + pk1_mod + pk2_mod + pk3_mod\n",
    "\n",
    "# Run fit and store all info in a ModelResult object\n",
    "out = mod.fit(y, pars, x=x)\n",
    "FWHM = np.round(float(out.params['pk2_fwhm']), 2)\n",
    "center = np.round(float(out.params['pk2_center']), 2)\n",
    "Lc = np.round((2*np.pi*0.9)/FWHM, 2)\n",
    "\n",
    "# Plot\n",
    "axs, fig = fit_plotter(x, y, out)\n",
    "fig.set(tight_layout=True)\n",
    "\n",
    "if intensity_type == 'corr':\n",
    "    axs[0].set(ylabel=f'Meaned (Intensity * sin($\\chi$)) [arb. units]', title=f'Scherrer Coherence Length = {Lc} Å')\n",
    "    axs[1].set(title=f'Pi-Pi Peak: FWHM = {FWHM}' + ' Å$^{-1}$, ' + f'Peak Center = {center}' + ' Å$^{-1}$')\n",
    "    fig.suptitle(f'{DA.film} Film, sin($\\chi$)-corrected Linecut Fit, {chi_min}° to {chi_max}° $\\chi$, Incident Angle = {DA.incident_angle[2:-1]}°')    \n",
    "elif intensity_type =='raw':\n",
    "    axs[0].set(ylabel=f'Meaned Raw Intensity [arb. units]', title=f'Scherrer Coherence Length = {Lc} Å')\n",
    "    axs[1].set(title=f'Pi-Pi Peak: FWHM = {FWHM}' + ' Å$^{-1}$, ' + f'Peak Center = {center}' + ' Å$^{-1}$')\n",
    "    fig.suptitle(f'{DA.film} Film, Raw Intensity Linecut Fit, {chi_min}° to {chi_max}° $\\chi$, Incident Angle = {DA.incident_angle[2:-1]}°')\n",
    "\n",
    "fig.savefig(outPath.joinpath('A1-3set_waxs/linecut_fits', f'{DA.film}_{intensity_type}_{DA.incident_angle}_{chi_min}to{chi_max}chi.png'), dpi=120)\n",
    "plt.show()\n",
    "\n",
    "\n",
    "print(f'FWHM = {FWHM}, Lc = {Lc}\\n')\n",
    "display(out.best_values)"
   ]
  },
  {
   "cell_type": "code",
   "execution_count": null,
   "id": "6466e9f7-9a2b-4500-bd12-080da1937296",
   "metadata": {},
   "outputs": [],
   "source": [
    "# A2\n",
    "intensity_type = 'corr'\n",
    "if intensity_type == 'corr':\n",
    "    DA = selected_corr_DAs[1].compute()\n",
    "elif intensity_type == 'raw':\n",
    "    DA = selected_raw_DAs[1].compute()\n",
    "else:\n",
    "    print('Must select intensity type')\n",
    "    \n",
    "OOP_linecut_DA = DA.sel(chi=slice(chi_min, chi_max), qr=slice(0.3, 1.9)).mean('chi')\n",
    "\n",
    "point_x = 0.3\n",
    "point_y = float(DA.sel(chi=slice(chi_min, chi_max), qr=slice(point_x-0.01, point_x+0.01)).mean('qr').mean('chi'))\n",
    "point_y = point_y - point_y*(0.08)\n",
    "\n",
    "x = OOP_linecut_DA.qr.data\n",
    "y = OOP_linecut_DA.data\n",
    "\n",
    "# Define all models to include in fitting\n",
    "bkg_mod = models.LinearModel(prefix='bkg_')\n",
    "# pars = bkg_mod.make_params()\n",
    "pars = bkg_mod.make_params(intercept=point_y, slope=0)\n",
    "pars['bkg_intercept'].set(vary=False)\n",
    "pars['bkg_slope'].set(vary=False)\n",
    "\n",
    "pk1_mod = models.PseudoVoigtModel(prefix='pk1_')\n",
    "# pars = pk1_mod.make_params(center=0.55)\n",
    "pars += pk1_mod.guess(y, x, center=0.55)\n",
    "# pars['pk1_amplitude'].set(min=0.5)\n",
    "\n",
    "pk2_mod = models.PseudoVoigtModel(prefix='pk2_')\n",
    "pars += pk2_mod.guess(y, x, center=1.7)\n",
    "# pars['pk2_center'].set(max = 0.62, min = 0.58)\n",
    "# pars['pk2_sigma'].set(max = 0.03)\n",
    "# pars['pk2_amplitude'].set(min=0.5)\n",
    "\n",
    "# Combine into full model\n",
    "mod = bkg_mod + pk1_mod + pk2_mod\n",
    "\n",
    "# Run fit and store all info in a ModelResult object\n",
    "out = mod.fit(y, pars, x=x)\n",
    "FWHM = np.round(float(out.params['pk2_fwhm']), 2)\n",
    "center = np.round(float(out.params['pk2_center']), 2)\n",
    "Lc = np.round((2*np.pi*0.9)/FWHM, 2)\n",
    "\n",
    "# Plot\n",
    "axs, fig = fit_plotter(x, y, out)\n",
    "fig.set(tight_layout=True)\n",
    "\n",
    "if intensity_type == 'corr':\n",
    "    axs[0].set(ylabel=f'Meaned (Intensity * sin($\\chi$)) [arb. units]', title=f'Scherrer Coherence Length = {Lc} Å')\n",
    "    axs[1].set(title=f'Pi-Pi Peak: FWHM = {FWHM}' + ' Å$^{-1}$, ' + f'Peak Center = {center}' + ' Å$^{-1}$')\n",
    "    fig.suptitle(f'{DA.film} Film, sin($\\chi$)-corrected Linecut Fit, {chi_min}° to {chi_max}° $\\chi$, Incident Angle = {DA.incident_angle[2:-1]}°')    \n",
    "elif intensity_type =='raw':\n",
    "    axs[0].set(ylabel=f'Meaned Raw Intensity [arb. units]', title=f'Scherrer Coherence Length = {Lc} Å')\n",
    "    axs[1].set(title=f'Pi-Pi Peak: FWHM = {FWHM}' + ' Å$^{-1}$, ' + f'Peak Center = {center}' + ' Å$^{-1}$')\n",
    "    fig.suptitle(f'{DA.film} Film, Raw Intensity Linecut Fit, {chi_min}° to {chi_max}° $\\chi$, Incident Angle = {DA.incident_angle[2:-1]}°')\n",
    "\n",
    "# fig.savefig(outPath.joinpath('A1-3set_waxs/linecut_fits', f'{DA.film}_{intensity_type}_{DA.incident_angle}_{chi_min}to{chi_max}chi.png'), dpi=120)\n",
    "plt.show()\n",
    "\n",
    "print(f'FWHM = {FWHM}, Lc = {Lc}\\n')\n",
    "display(out.best_values)"
   ]
  },
  {
   "cell_type": "code",
   "execution_count": null,
   "id": "edca44da-8c61-4621-85d4-a30c376d59ff",
   "metadata": {},
   "outputs": [],
   "source": [
    "# A3\n",
    "intensity_type = 'raw'\n",
    "if intensity_type == 'corr':\n",
    "    DA = selected_corr_DAs[2].compute()\n",
    "elif intensity_type == 'raw':\n",
    "    DA = selected_raw_DAs[2].compute()\n",
    "else:\n",
    "    print('Must select intensity type')\n",
    "    \n",
    "OOP_linecut_DA = DA.sel(chi=slice(chi_min, chi_max), qr=slice(0.3, 1.9)).mean('chi')\n",
    "\n",
    "point_x = 0.3\n",
    "point_y = float(DA.sel(chi=slice(chi_min, chi_max), qr=slice(point_x-0.01, point_x+0.01)).mean('qr').mean('chi'))\n",
    "point_y = point_y - point_y*(0.08)\n",
    "\n",
    "x = OOP_linecut_DA.qr.data\n",
    "y = OOP_linecut_DA.data\n",
    "\n",
    "# Define all models to include in fitting\n",
    "bkg_mod = models.LinearModel(prefix='bkg_')\n",
    "# pars = bkg_mod.make_params()\n",
    "pars = bkg_mod.make_params(intercept=point_y, slope=0)\n",
    "pars['bkg_intercept'].set(vary=False)\n",
    "pars['bkg_slope'].set(vary=False)\n",
    "\n",
    "pk1_mod = models.PseudoVoigtModel(prefix='pk1_')\n",
    "# pars = pk1_mod.make_params(center=0.55)\n",
    "pars += pk1_mod.guess(y, x, center=0.55)\n",
    "# pars['pk1_amplitude'].set(min=0.5)\n",
    "\n",
    "pk2_mod = models.PseudoVoigtModel(prefix='pk2_')\n",
    "pars += pk2_mod.guess(y, x, center=1.7)\n",
    "# pars['pk2_center'].set(max = 0.62, min = 0.58)\n",
    "# pars['pk2_sigma'].set(max = 0.03)\n",
    "# pars['pk2_amplitude'].set(min=0.5)\n",
    "\n",
    "# Combine into full model\n",
    "mod = bkg_mod + pk1_mod + pk2_mod\n",
    "\n",
    "# Run fit and store all info in a ModelResult object\n",
    "out = mod.fit(y, pars, x=x)\n",
    "FWHM = np.round(float(out.params['pk2_fwhm']), 2)\n",
    "center = np.round(float(out.params['pk2_center']), 2)\n",
    "Lc = np.round((2*np.pi*0.9)/FWHM, 2)\n",
    "\n",
    "# Plot\n",
    "axs, fig = fit_plotter(x, y, out)\n",
    "fig.set(tight_layout=True)\n",
    "FWHM = np.round(float(out.params['pk2_fwhm']), 2)\n",
    "Lc = np.round((2*np.pi*0.9)/FWHM, 2)\n",
    "\n",
    "if intensity_type == 'corr':\n",
    "    axs[0].set(ylabel=f'Meaned (Intensity * sin($\\chi$)) [arb. units]', title=f'Scherrer Coherence Length = {Lc} Å')\n",
    "    axs[1].set(title=f'Pi-Pi Peak: FWHM = {FWHM}' + ' Å$^{-1}$, ' + f'Peak Center = {center}' + ' Å$^{-1}$')\n",
    "    fig.suptitle(f'{DA.film} Film, sin($\\chi$)-corrected Linecut Fit, {chi_min}° to {chi_max}° $\\chi$, Incident Angle = {DA.incident_angle[2:-1]}°')    \n",
    "elif intensity_type =='raw':\n",
    "    axs[0].set(ylabel=f'Meaned Raw Intensity [arb. units]', title=f'Scherrer Coherence Length = {Lc} Å')\n",
    "    axs[1].set(title=f'Pi-Pi Peak: FWHM = {FWHM}' + ' Å$^{-1}$, ' + f'Peak Center = {center}' + ' Å$^{-1}$')\n",
    "    fig.suptitle(f'{DA.film} Film, Raw Intensity Linecut Fit, {chi_min}° to {chi_max}° $\\chi$, Incident Angle = {DA.incident_angle[2:-1]}°')\n",
    "\n",
    "fig.savefig(outPath.joinpath('A1-3set_waxs/linecut_fits', f'{DA.film}_{intensity_type}_{DA.incident_angle}_{chi_min}to{chi_max}chi.png'), dpi=120)\n",
    "plt.show()\n",
    "\n",
    "print(f'FWHM = {FWHM}, Lc = {Lc}\\n')\n",
    "display(out.best_values)\n"
   ]
  },
  {
   "cell_type": "markdown",
   "id": "312c3464-7a2d-4371-8169-97b5098caa26",
   "metadata": {
    "tags": []
   },
   "source": [
    "### Pole Figures"
   ]
  },
  {
   "cell_type": "markdown",
   "id": "9cfbb2a1-f0c6-4d9e-b38c-83c19a8ea09a",
   "metadata": {
    "jp-MarkdownHeadingCollapsed": true,
    "tags": []
   },
   "source": [
    "#### Pi-pi "
   ]
  },
  {
   "cell_type": "code",
   "execution_count": null,
   "id": "e75594d9-cfc1-422b-b884-c2a565ad0996",
   "metadata": {
    "tags": []
   },
   "outputs": [],
   "source": [
    "### Set limits\n",
    "q_min = 1.1\n",
    "q_max = 2.4\n",
    "chi_min = 8\n",
    "chi_max = 87  # to ~45 least until I mask out the silicon(?) background scattering that interferes\n",
    "\n",
    "# Set savePath\n",
    "savePath = outPath.joinpath('pipi_pole_figures_v1')\n",
    "\n",
    "selected_attrs_dict = {}\n",
    "\n",
    "selected_DAs = select_attrs(folded_corr_DAs, selected_attrs_dict)\n",
    "peak_areas_dict = {}    \n",
    "for DA in tqdm(selected_DAs):\n",
    "    chis = DA.chi.sel(chi=slice(chi_min,chi_max)).data\n",
    "    \n",
    "    peak_areas = np.array([])\n",
    "    peak_centers = np.array([])\n",
    "    \n",
    "    for chi in chis:\n",
    "        sliced_DA = DA.sel(qr=slice(q_min, q_max), chi=float(chi))\n",
    "\n",
    "        points_x = [q_min+0.05, q_max-0.05]\n",
    "        points_y = [float(sliced_DA.sel(qr=slice(points_x[0]-0.05, points_x[0]+0.05)).mean('qr')), \n",
    "                    float(sliced_DA.sel(qr=slice(points_x[1]-0.2, points_x[1]+0.2)).mean('qr'))]\n",
    "        m = (points_y[1]-points_y[0])/(points_x[1]-points_x[0])\n",
    "        b = points_y[1] - (m*points_x[1])\n",
    "        y_fit = np.polyval([m, b], sliced_DA.qr)\n",
    "        \n",
    "        sub_sliced_DA = sliced_DA-y_fit\n",
    "\n",
    "        peak_area = sub_sliced_DA.sel(qr=slice(1.5,1.8)).integrate('qr')\n",
    "        peak_area = np.nan if peak_area<0 else peak_area  # remove negatives as they are nonphysical\n",
    "        \n",
    "        peak_areas = np.append(peak_areas, float(peak_area))\n",
    "                        \n",
    "#         # Plot linecuts for each chi\n",
    "#         fig, ax = plt.subplots()\n",
    "#         sliced_DA.plot(ax=ax)\n",
    "#         ax.plot(points_x, points_y)\n",
    "#         plt.show()\n",
    "\n",
    "#         plt.close('all')\n",
    "\n",
    "    normed_peak_areas = peak_areas / np.nansum(peak_areas)\n",
    "    data = np.vstack((chis, normed_peak_areas)).T\n",
    "    # peak_areas_dict[DA.attrs['material']+'-'+DA.attrs['solvent']+'-'+DA.attrs['rpm']+'-'+DA.attrs['incident_angle']] = data\n",
    "    peak_areas_dict[DA.attrs['sampleid']+'-'+DA.attrs['incident_angle']] = data\n",
    "\n",
    "    # Individual measurement pole figure plot\n",
    "    fig, ax = plt.subplots(figsize=(5,3.3))\n",
    "    fig.set(dpi=120)\n",
    "    \n",
    "    ax.plot(chis, normed_peak_areas)\n",
    "    fig.suptitle(f'{DA.sampleid} Pole Figure; $\\\\alpha_i = $ {DA.incident_angle[2:-1]}°', x=0.54)\n",
    "    ax.set(title=f'{q_min} to {q_max} 1/Å Q Bounds; {chi_min}° to {chi_max}° $\\chi$')\n",
    "    ax.set(xlabel='$\\chi$ [°]', ylabel='Integrated Pi-Pi Peak Area [arb. units]')\n",
    "    plt.subplots_adjust(top=0.85, bottom=0.2, left=0.2)\n",
    "    \n",
    "    # fig.savefig(savePath.joinpath(f'{DA.sampleid}_chi{chi_min}to{chi_max}_q{q_min}to{q_max}_{DA.incident_angle}.png'), dpi=150)\n",
    "\n",
    "    plt.show()\n",
    "    \n",
    "    plt.close('all')"
   ]
  },
  {
   "cell_type": "code",
   "execution_count": null,
   "id": "e42f2d83-b3f4-4e3b-b47b-82a36ce5a18b",
   "metadata": {
    "tags": []
   },
   "outputs": [],
   "source": [
    "### Set savePath\n",
    "# savePath = outPath.joinpath('PM6-Y6series/var/pipi_pole_figures_v1')\n",
    "savePath = outPath.joinpath('PM6-Y6series/fix/pipi_pole_figures_v1')\n",
    "\n",
    "for th in tqdm(['th0.080', 'th0.100', 'th0.120', 'th0.140']):\n",
    "    selected_dict_items = [(name, data) for (name, data) in peak_areas_dict.items() if \n",
    "                           # # 'Y7BO-' in name and\n",
    "                           # 'CF' in name and '3000' in name and \n",
    "                           # th in name]    \n",
    "                           'CFCN-' in name]    \n",
    "\n",
    "\n",
    "    fig, ax = plt.subplots(figsize=(5,3.3))\n",
    "    fig.set(dpi=120)\n",
    "    \n",
    "    colors = plt.cm.Dark2(np.linspace(0,1,len(selected_dict_items)))\n",
    "\n",
    "    for i, (measurement, pole_fig_arr_data) in enumerate(selected_dict_items):\n",
    "        chis = pole_fig_arr_data[:,0]\n",
    "        normed_peak_areas = pole_fig_arr_data[:,1]\n",
    "        ax.plot(chis, normed_peak_areas, color=colors[i], label=measurement)\n",
    "        fig.suptitle('Pole Figure', x=0.55)\n",
    "        ax.set(title=f'{q_min} to {q_max} 1/Å Q Fit Region; {chi_min}° to {chi_max}° $\\chi$')\n",
    "        ax.set(xlabel='$\\chi$ [°]', ylabel='Normalized Peak Area')\n",
    "    \n",
    "    plt.subplots_adjust(top=0.85, bottom=0.2, left=0.2)\n",
    "    ax.legend()\n",
    "    \n",
    "    # fig.savefig(savePath.joinpath(f'multiple-Y6_chi{chi_min}to{chi_max}_q{q_min}to{q_max}_{th}.png'), dpi=150)\n",
    "    # fig.savefig(savePath.joinpath(f'multiple-Y6BO_chi{chi_min}to{chi_max}_q{q_min}to{q_max}_{th}.png'), dpi=150)\n",
    "    # fig.savefig(savePath.joinpath(f'multiple-Y7_chi{chi_min}to{chi_max}_q{q_min}to{q_max}_{th}.png'), dpi=150)\n",
    "    # fig.savefig(savePath.joinpath(f'multiple-Y7BO_chi{chi_min}to{chi_max}_q{q_min}to{q_max}_{th}.png'), dpi=150)\n",
    "    \n",
    "    # fig.savefig(savePath.joinpath(f'multiple-CB3000_chi{chi_min}to{chi_max}_q{q_min}to{q_max}_{th}.png'), dpi=150)\n",
    "    # fig.savefig(savePath.joinpath(f'multiple-CB2000_chi{chi_min}to{chi_max}_q{q_min}to{q_max}_{th}.png'), dpi=150)\n",
    "    # fig.savefig(savePath.joinpath(f'multiple-CBCN_chi{chi_min}to{chi_max}_q{q_min}to{q_max}_{th}.png'), dpi=150)\n",
    "    # fig.savefig(savePath.joinpath(f'multiple-CF3000_chi{chi_min}to{chi_max}_q{q_min}to{q_max}_{th}.png'), dpi=150)\n",
    "    # fig.savefig(savePath.joinpath(f'multiple-CF2000_chi{chi_min}to{chi_max}_q{q_min}to{q_max}_{th}.png'), dpi=150)\n",
    "    # fig.savefig(savePath.joinpath(f'multiple-CFCN_chi{chi_min}to{chi_max}_q{q_min}to{q_max}_{th}.png'), dpi=150)\n",
    "    \n",
    "    # fig.savefig(savePath.joinpath(f'multiple-PM6_chi{chi_min}to{chi_max}_q{q_min}to{q_max}_{th}.png'), dpi=150)\n",
    "    # fig.savefig(savePath.joinpath(f'multiple-PM6-CB_chi{chi_min}to{chi_max}_q{q_min}to{q_max}_{th}.png'), dpi=150)\n",
    "    # fig.savefig(savePath.joinpath(f'multiple-PM6-CBCN_chi{chi_min}to{chi_max}_q{q_min}to{q_max}_{th}.png'), dpi=150)\n",
    "    # fig.savefig(savePath.joinpath(f'multiple-PM6-CF_chi{chi_min}to{chi_max}_q{q_min}to{q_max}_{th}.png'), dpi=150)\n",
    "    fig.savefig(savePath.joinpath(f'multiple-PM6-CFCN_chi{chi_min}to{chi_max}_q{q_min}to{q_max}_{th}.png'), dpi=150)\n",
    "    \n",
    "    plt.show()\n",
    "    plt.close('all')"
   ]
  },
  {
   "cell_type": "markdown",
   "id": "abfe059c-0c3b-4383-84ed-b838175123b9",
   "metadata": {
    "tags": []
   },
   "source": [
    "#### Lamella"
   ]
  },
  {
   "cell_type": "code",
   "execution_count": null,
   "id": "9371635b-56ba-4d10-b9fb-919e476cd5d8",
   "metadata": {
    "tags": []
   },
   "outputs": [],
   "source": [
    "### Set limits\n",
    "q_min = 0.2\n",
    "q_max = 0.45\n",
    "chi_min = 2\n",
    "chi_max = 87  # to ~45 least until I mask out the silicon(?) background scattering that interferes\n",
    "\n",
    "# Set savePath\n",
    "savePath = outPath.joinpath('lamella_pole_figures_v1')\n",
    "\n",
    "selected_attrs_dict = {}\n",
    "selected_DAs = select_attrs(folded_corr_DAs, selected_attrs_dict)\n",
    " \n",
    "peak_areas_dict = {}    \n",
    "for DA in tqdm(selected_DAs):\n",
    "    chis = DA.chi.sel(chi=slice(chi_min,chi_max)).data\n",
    "    \n",
    "    peak_areas = np.array([])\n",
    "    peak_centers = np.array([])\n",
    "    \n",
    "    for chi in chis:\n",
    "        sliced_DA = DA.sel(qr=slice(q_min, q_max), chi=float(chi))\n",
    "\n",
    "        points_x = [q_min, q_max]\n",
    "        points_y = [float(sliced_DA.sel(qr=slice(points_x[0]-0.05, points_x[0]+0.05)).mean('qr')), \n",
    "                    float(sliced_DA.sel(qr=slice(points_x[1]-0.05, points_x[1]+0.05)).mean('qr'))]\n",
    "        # points_y = [float(sliced_DA.sel(qr=q_min, method='nearest')), \n",
    "        #             float(sliced_DA.sel(qr=q_max, method='nearest'))]\n",
    "        m = (points_y[1]-points_y[0])/(points_x[1]-points_x[0])\n",
    "        b = points_y[1] - (m*points_x[1])\n",
    "        y_fit = np.polyval([m, b], sliced_DA.qr)\n",
    "        \n",
    "        sub_sliced_DA = sliced_DA-y_fit\n",
    "\n",
    "        peak_area = sub_sliced_DA.sel(qr=slice(None,0.45)).integrate('qr')\n",
    "\n",
    "        # peak_area = sliced_DA.sel(qr=slice(None,0.45)).integrate('qr')\n",
    "        peak_area = np.nan if peak_area<0 else peak_area  # remove negatives as they are nonphysical\n",
    "        \n",
    "        peak_areas = np.append(peak_areas, float(peak_area))\n",
    "                        \n",
    "#         # Plot linecuts for each chi\n",
    "#         fig, ax = plt.subplots()\n",
    "#         sliced_DA.plot(ax=ax)\n",
    "#         ax.plot(points_x, points_y)\n",
    "#         plt.show()\n",
    "\n",
    "#         plt.close('all')\n",
    "\n",
    "    normed_peak_areas = peak_areas / np.nansum(peak_areas)\n",
    "    data = np.vstack((chis, normed_peak_areas)).T\n",
    "    # peak_areas_dict[DA.attrs['material']+'-'+DA.attrs['solvent']+'-'+DA.attrs['rpm']+'-'+DA.attrs['incident_angle']] = data\n",
    "    peak_areas_dict[DA.attrs['sampleid']+'-'+DA.attrs['incident_angle']] = data\n",
    "\n",
    "\n",
    "    # Individual measurement pole figure plot\n",
    "    fig, ax = plt.subplots(figsize=(5,3.3))\n",
    "    fig.set(dpi=120)\n",
    "    \n",
    "    ax.plot(chis, normed_peak_areas)\n",
    "    fig.suptitle(f'{DA.sampleid} Pole Figure; $\\\\alpha_i = $ {DA.incident_angle[2:-1]}°', x=0.54)\n",
    "\n",
    "    ax.set(title=f'{q_min} to {q_max} 1/Å Q Bounds; {chi_min}° to {chi_max}° $\\chi$')\n",
    "    ax.set(xlabel='$\\chi$ [°]', ylabel='Integrated Pi-Pi Peak Area [arb. units]')\n",
    "    plt.subplots_adjust(top=0.85, bottom=0.2, left=0.2)\n",
    "    \n",
    "    # fig.savefig(savePath.joinpath(f'{DA.material}-{DA.solvent}-{DA.rpm}_chi{chi_min}to{chi_max}_q{q_min}to{q_max}_{DA.incident_angle}.png'), dpi=150)\n",
    "    \n",
    "    # plt.show()\n",
    "    \n",
    "    plt.close('all')"
   ]
  },
  {
   "cell_type": "code",
   "execution_count": null,
   "id": "efa555b4-63dc-4804-940a-1e42217ea9ad",
   "metadata": {
    "tags": []
   },
   "outputs": [],
   "source": [
    "### Set savePath\n",
    "# savePath = outPath.joinpath('PM6-Y6series/var/lamella_pole_figures_v1')\n",
    "savePath = outPath.joinpath('PM6-Y6series/fix/lamella_pole_figures_v1')\n",
    "\n",
    "for th in tqdm(['th0.080', 'th0.100', 'th0.120', 'th0.140']):\n",
    "    selected_dict_items = [(name, data) for (name, data) in peak_areas_dict.items() if \n",
    "                           # # 'Y7BO-' in name and\n",
    "                           # 'CF' in name and '3000' in name and \n",
    "                           # 'CS9-S' in name]     \n",
    "                           # th in name] \n",
    "\n",
    "    fig, ax = plt.subplots(figsize=(5,3.3))\n",
    "    fig.set(dpi=120)\n",
    "    \n",
    "    colors = plt.cm.Dark2(np.linspace(0,1,len(selected_dict_items)))\n",
    "\n",
    "    for i, (measurement, pole_fig_arr_data) in enumerate(selected_dict_items):\n",
    "        chis = pole_fig_arr_data[:,0]\n",
    "        normed_peak_areas = pole_fig_arr_data[:,1]\n",
    "        ax.plot(chis, normed_peak_areas, color=colors[i], label=measurement)\n",
    "        fig.suptitle('Pole Figure', x=0.55)\n",
    "        ax.set(title=f'{q_min} to {q_max} 1/Å Q Fit Region ; {chi_min}° to {chi_max}° $\\chi$')\n",
    "        ax.set(xlabel='$\\chi$ [°]', ylabel='Normalized Peak Area')\n",
    "    \n",
    "    plt.subplots_adjust(top=0.85, bottom=0.2, left=0.2)\n",
    "    ax.legend()\n",
    "    \n",
    "    # fig.savefig(savePath.joinpath(f'multiple-Y6_chi{chi_min}to{chi_max}_q{q_min}to{q_max}_{th}.png'), dpi=150)\n",
    "    # fig.savefig(savePath.joinpath(f'multiple-Y6BO_chi{chi_min}to{chi_max}_q{q_min}to{q_max}_{th}.png'), dpi=150)\n",
    "    # fig.savefig(savePath.joinpath(f'multiple-Y7_chi{chi_min}to{chi_max}_q{q_min}to{q_max}_{th}.png'), dpi=150)\n",
    "    # fig.savefig(savePath.joinpath(f'multiple-Y7BO_chi{chi_min}to{chi_max}_q{q_min}to{q_max}_{th}.png'), dpi=150)\n",
    "\n",
    "    # fig.savefig(savePath.joinpath(f'multiple-CB3000_chi{chi_min}to{chi_max}_q{q_min}to{q_max}_{th}.png'), dpi=150)\n",
    "    # fig.savefig(savePath.joinpath(f'multiple-CB2000_chi{chi_min}to{chi_max}_q{q_min}to{q_max}_{th}.png'), dpi=150)\n",
    "    # fig.savefig(savePath.joinpath(f'multiple-CBCN_chi{chi_min}to{chi_max}_q{q_min}to{q_max}_{th}.png'), dpi=150)\n",
    "    # fig.savefig(savePath.joinpath(f'multiple-CF3000_chi{chi_min}to{chi_max}_q{q_min}to{q_max}_{th}.png'), dpi=150)\n",
    "    # fig.savefig(savePath.joinpath(f'multiple-CF2000_chi{chi_min}to{chi_max}_q{q_min}to{q_max}_{th}.png'), dpi=150)\n",
    "    # fig.savefig(savePath.joinpath(f'multiple-CFCN_chi{chi_min}to{chi_max}_q{q_min}to{q_max}_{th}.png'), dpi=150)\n",
    "    \n",
    "    # fig.savefig(savePath.joinpath(f'multiple-PM6_chi{chi_min}to{chi_max}_q{q_min}to{q_max}_{th}.png'), dpi=150)\n",
    "    # fig.savefig(savePath.joinpath(f'multiple-PM6-CB_chi{chi_min}to{chi_max}_q{q_min}to{q_max}_{th}.png'), dpi=150)\n",
    "    # fig.savefig(savePath.joinpath(f'multiple-PM6-CBCN_chi{chi_min}to{chi_max}_q{q_min}to{q_max}_{th}.png'), dpi=150)\n",
    "    # fig.savefig(savePath.joinpath(f'multiple-PM6-CF_chi{chi_min}to{chi_max}_q{q_min}to{q_max}_{th}.png'), dpi=150)\n",
    "    # fig.savefig(savePath.joinpath(f'multiple-PM6-CFCN_chi{chi_min}to{chi_max}_q{q_min}to{q_max}_{th}.png'), dpi=150)\n",
    "\n",
    "\n",
    "    plt.show()\n",
    "    plt.close('all')"
   ]
  },
  {
   "cell_type": "markdown",
   "id": "8f5306ce-5a7f-4a83-a7c2-842fd2168e8f",
   "metadata": {
    "jp-MarkdownHeadingCollapsed": true,
    "tags": []
   },
   "source": [
    "# Original notebook code"
   ]
  },
  {
   "cell_type": "markdown",
   "id": "fbfcb7d6-878f-4fc8-a624-36ed8d3022a3",
   "metadata": {
    "tags": []
   },
   "source": [
    "### 2D plots"
   ]
  },
  {
   "cell_type": "markdown",
   "id": "0e4fa209-1b91-44f5-990e-8643c21f79b9",
   "metadata": {
    "jp-MarkdownHeadingCollapsed": true,
    "tags": []
   },
   "source": [
    "#### Caked Images"
   ]
  },
  {
   "cell_type": "code",
   "execution_count": null,
   "id": "96d06371-37ed-4b6b-947e-e955785b9cda",
   "metadata": {
    "tags": []
   },
   "outputs": [],
   "source": [
    "filename = 'fix_caked_stitched.zarr'\n",
    "DS = xr.open_zarr(zarrsPath.joinpath(filename))\n",
    "DS = DS.where(DS>1e-5)\n",
    "DS"
   ]
  },
  {
   "cell_type": "code",
   "execution_count": null,
   "id": "519afdb6-8f5b-4e6f-aec1-9372e1c8b6bc",
   "metadata": {},
   "outputs": [],
   "source": [
    "# # How one could apply a sin chi correction\n",
    "# sin_chi_DA = np.sin(np.radians(np.abs(DA.chi)))\n",
    "# # sin_chi_DA\n",
    "\n",
    "# corr_DA = DA * sin_chi_DA\n",
    "# # corr_DA"
   ]
  },
  {
   "cell_type": "code",
   "execution_count": null,
   "id": "93ef1d8d-30f2-4eb3-a72c-e437484bc2b5",
   "metadata": {},
   "outputs": [],
   "source": [
    "# A way to select dataarrays based on attribute values:\n",
    "selected_DAs = [da for da in DS.data_vars.values() if \n",
    "                da.attrs['material']]\n",
    "                # da.attrs['material'] in ['Y6', 'Y7'] and \n",
    "                # da.attrs['incident_angle'] in ['th0.120', 'th0.140']]\n",
    "\n",
    "len(selected_DAs)"
   ]
  },
  {
   "cell_type": "code",
   "execution_count": null,
   "id": "b58f83a8-a030-4947-be20-e14ccea6107a",
   "metadata": {
    "tags": []
   },
   "outputs": [],
   "source": [
    "# Plot and optionally save selected dataarrays:\n",
    "# Set chi range: Full range\n",
    "chi_min = -90\n",
    "chi_max = 90\n",
    "\n",
    "for DA in tqdm(selected_DAs):\n",
    "    # Slice dataarray to select plotting region \n",
    "    sliced_DA = DA.sel(chi=slice(chi_min,chi_max))\n",
    "    \n",
    "    # real_min = float(DA.sel(q_xy=slice(-0.5, -0.1), q_z=slice(0.1, 0.4)).compute().quantile(1e-3))\n",
    "    real_min = float(DA.compute().quantile(0.01))\n",
    "    cmin = 1 if real_min < 1 else real_min\n",
    "    \n",
    "    # cmax = float(DA.sel(q_xy=slice(-0.5, -0.1), q_z=slice(0.1, 2)).compute().quantile(1))   \n",
    "    cmax = float(DA.compute().quantile(0.99))   \n",
    "    \n",
    "    # Plot sliced dataarray\n",
    "    ax = sliced_DA.plot.imshow(cmap=cmap, norm=plt.Normalize(cmin, cmax), figsize=(5,4), interpolation='antialiased')  # plot, optional parameter interpolation='antialiased' for image smoothing\n",
    "    ax.colorbar.set_label('Intensity [arb. units]', rotation=270, labelpad=15)  # set colorbar label & parameters \n",
    "    ax.axes.set(title=f'Polar Plot: {DA.material} {DA.solvent}, {float(DA.incident_angle[2:])}° Incidence',\n",
    "                xlabel='q$_r$ [Å$^{-1}$]', ylabel='$\\chi$ [°]')  # set title, axis labels, misc\n",
    "    ax.figure.set(tight_layout=True, dpi=130)  # Adjust figure dpi & plotting style\n",
    "    \n",
    "    plt.show()  # Comment to mute plotting output\n",
    "    \n",
    "    # Uncomment below line and set savepath/savename for saving plots, I usually like to check \n",
    "    # ax.figure.savefig(outPath.joinpath('PM6-Y6set_waxs', f'polar-2D_{DA.sample_id}_{chi_min}to{chi_max}chi_{DA.incident_angle}.png'), dpi=150)\n",
    "    plt.close('all')"
   ]
  },
  {
   "cell_type": "code",
   "execution_count": null,
   "id": "1f1c0569-17bb-4237-a711-72cb191351f8",
   "metadata": {
    "tags": []
   },
   "outputs": [],
   "source": [
    "# Plot and optionally save selected dataarrays:\n",
    "# Set chi range: Full range\n",
    "chi_min = -90\n",
    "chi_max = 90\n",
    "\n",
    "for DA in tqdm(selected_DAs):\n",
    "    # Slice dataarray to select plotting region \n",
    "    sliced_DA = DA.sel(chi=slice(chi_min,chi_max))\n",
    "    \n",
    "    # real_min = float(DA.sel(q_xy=slice(-0.5, -0.1), q_z=slice(0.1, 0.4)).compute().quantile(1e-3))\n",
    "    real_min = float(DA.compute().quantile(0.01))\n",
    "    cmin = 1 if real_min < 1 else real_min\n",
    "    \n",
    "    # cmax = float(DA.sel(q_xy=slice(-0.5, -0.1), q_z=slice(0.1, 2)).compute().quantile(1))   \n",
    "    cmax = float(DA.compute().quantile(0.999))   \n",
    "    \n",
    "    # Plot sliced dataarray\n",
    "    ax = sliced_DA.plot.imshow(cmap=cmap, norm=plt.Normalize(cmin, cmax), figsize=(5,4), interpolation='antialiased')  # plot, optional parameter interpolation='antialiased' for image smoothing\n",
    "    ax.colorbar.set_label('Intensity [arb. units]', rotation=270, labelpad=15)  # set colorbar label & parameters \n",
    "    ax.axes.set(title=f'Polar Plot: {DA.material} {DA.solvent} {DA.rpm}, {float(DA.incident_angle[2:])}° Incidence',\n",
    "                xlabel='q$_r$ [Å$^{-1}$]', ylabel='$\\chi$ [°]')  # set title, axis labels, misc\n",
    "    ax.figure.set(tight_layout=True, dpi=130)  # Adjust figure dpi & plotting style\n",
    "    \n",
    "    plt.show()  # Comment to mute plotting output\n",
    "    \n",
    "    # Uncomment below line and set savepath/savename for saving plots, I usually like to check \n",
    "    # ax.figure.savefig(outPath.joinpath('PM6-Y6set_waxs', f'polar-2D_{DA.sample_id}_{chi_min}to{chi_max}chi_{DA.incident_angle}.png'), dpi=150)\n",
    "    plt.close('all')"
   ]
  },
  {
   "cell_type": "code",
   "execution_count": null,
   "id": "b89ad7b1-406b-4c59-a9c4-70cb8b3d05b1",
   "metadata": {
    "tags": []
   },
   "outputs": [],
   "source": [
    "# Plot and optionally save selected dataarrays:\n",
    "# Set chi range: In plane slice, choose a smooth section without detector gap/edge effects\n",
    "chi_min = 72\n",
    "chi_max = 82\n",
    "\n",
    "for DA in tqdm(selected_DAs):\n",
    "    # Slice dataarray to select plotting region \n",
    "    sliced_DA = DA.sel(chi=slice(chi_min,chi_max), qr=slice(0.23,2.05))\n",
    "    cmin = float(sliced_DA.compute().quantile(1e-2))  # Set color minimum value, based on quantile \n",
    "    cmax = float(sliced_DA.compute().quantile(1-1e-6))  # Set color maximum value, based on quantile\n",
    "    \n",
    "    # Plot sliced dataarray\n",
    "    ax = sliced_DA.plot.imshow(cmap=cmap, norm=LogNorm(cmin, cmax), figsize=(5,4))  # plot\n",
    "    ax.colorbar.set_label('Intensity [arb. units]', rotation=270, labelpad=15)  # set colorbar label & parameters \n",
    "    ax.axes.set(title=f'Polar Plot: {DA.sample_id}, {float(DA.incident_angle[2:])}° Incidence',\n",
    "                xlabel='q$_r$ [Å$^{-1}$]', ylabel='$\\chi$ [°]')  # set title, axis labels, misc\n",
    "    ax.figure.set(tight_layout=True, dpi=130)  # Adjust figure dpi & plotting style\n",
    "    \n",
    "    plt.show()  # Comment to mute plotting output\n",
    "    \n",
    "    # Uncomment below line and set savepath/savename for saving plots, I usually like to check \n",
    "    # ax.figure.savefig(outPath.joinpath('PM6-Y6set_waxs', f'polar-2D_{DA.sample_id}_{chi_min}to{chi_max}chi_{DA.incident_angle}.png'), dpi=150)\n",
    "    plt.close('all')"
   ]
  },
  {
   "cell_type": "code",
   "execution_count": null,
   "id": "2326db38-33f2-4b64-9449-e3bdf2b30a2b",
   "metadata": {},
   "outputs": [],
   "source": [
    "# # A way to save data as csv files  \n",
    "# for DA in DS.data_vars.values():\n",
    "#     # qr columns, chi rows\n",
    "#     DA.to_pandas().to_csv(outPath.joinpath('PM6-Y6_waxs', f'polar-2D_{DA.polymer}-{DA.weight_percent}_{DA.incident_angle}_{DA.scan_id}.csv'))"
   ]
  },
  {
   "cell_type": "code",
   "execution_count": null,
   "id": "1fdc502d-edae-4eb6-88b4-2f6eeecd9241",
   "metadata": {},
   "outputs": [],
   "source": []
  },
  {
   "cell_type": "code",
   "execution_count": null,
   "id": "d5892802-e160-40b0-89d6-0b985500860f",
   "metadata": {
    "tags": []
   },
   "outputs": [],
   "source": [
    "filename = 'fix_raw_stitched.zarr'\n",
    "DS = xr.open_zarr(zarrsPath.joinpath(filename))\n",
    "DS = DS.where(DS>1e-6)\n",
    "DS"
   ]
  },
  {
   "cell_type": "code",
   "execution_count": null,
   "id": "41578001-68a8-4003-8893-2a0e202be4bb",
   "metadata": {},
   "outputs": [],
   "source": [
    "selected_DAs = [da for da in DS.data_vars.values() if \n",
    "                da.attrs['incident_angle']]\n",
    "len(selected_DAs)"
   ]
  },
  {
   "cell_type": "code",
   "execution_count": null,
   "id": "f5d0bd7f-58b9-4a52-ba7c-a7181a304cca",
   "metadata": {
    "tags": []
   },
   "outputs": [],
   "source": [
    "# Plot & optionally save each selected polymer: fix data set\n",
    "for DA in tqdm(selected_DAs):\n",
    "    # Slice data for selected q ranges (will need to rename q_xy if dimensions are differently named)\n",
    "    sliced_DA = DA.copy()\n",
    "    sliced_DA = DA.sel(pix_y=slice(None, 680), pix_x=slice(150,None))\n",
    "\n",
    "    # real_min = float(DA.sel(q_xy=slice(-0.5, -0.1), q_z=slice(0.1, 0.4)).compute().quantile(1e-3))\n",
    "    real_min = float(DA.compute().quantile(0.01))\n",
    "    cmin = 1 if real_min < 1 else real_min\n",
    "    \n",
    "    # cmax = float(DA.sel(q_xy=slice(-0.5, -0.1), q_z=slice(0.1, 2)).compute().quantile(1))   \n",
    "    cmax = float(DA.compute().quantile(0.999))   \n",
    "    \n",
    "    # Same plotting procedure as above\n",
    "    # ax = sliced_DA.plot.imshow(cmap=cmap, norm=LogNorm(cmin, cmax), interpolation='antialiased', figsize=(5.5,3.3))\n",
    "    ax = sliced_DA.plot.imshow(cmap=cmap, norm=plt.Normalize(cmin, cmax), interpolation='antialiased', figsize=(5.5,3.3),\n",
    "                               origin='upper')\n",
    "\n",
    "    ax.colorbar.set_label('Intensity [arb. units]', rotation=270, labelpad=15)\n",
    "    ax.axes.set(title=f'Raw Detector: {DA.material} {DA.solvent}, {float(DA.incident_angle[2:])}° Incidence',\n",
    "                aspect='equal')\n",
    "    ax.figure.set(tight_layout=True, dpi=130)\n",
    "    \n",
    "    # ax.figure.savefig(outPath.joinpath('recip_plots/stitched_v2', f'{DA.material}_{DA.solvent}_{DA.incident_angle}.png'), dpi=120)\n",
    "    plt.show()\n",
    "    plt.close('all')"
   ]
  },
  {
   "cell_type": "markdown",
   "id": "2a8a902e-8ce1-4b80-9760-975d907eb354",
   "metadata": {
    "tags": []
   },
   "source": [
    "#### Reciprocal Space Images"
   ]
  },
  {
   "cell_type": "code",
   "execution_count": null,
   "id": "4d456826-6758-4de8-a0ca-5765ef10b813",
   "metadata": {
    "tags": []
   },
   "outputs": [],
   "source": [
    "filename = 'var_recip_stitched.zarr'\n",
    "DS = xr.open_zarr(zarrsPath.joinpath(filename))\n",
    "DS = DS.where(DS>1e-6)\n",
    "DS"
   ]
  },
  {
   "cell_type": "code",
   "execution_count": null,
   "id": "0b992c21-2ee9-466c-90d8-737a000efdfa",
   "metadata": {},
   "outputs": [],
   "source": [
    "selected_DAs = [da for da in DS.data_vars.values() if \n",
    "                da.attrs['incident_angle']]\n",
    "len(selected_DAs)"
   ]
  },
  {
   "cell_type": "code",
   "execution_count": null,
   "id": "e56947e3-ec74-4df2-905c-11c4e61a1ea9",
   "metadata": {
    "tags": []
   },
   "outputs": [],
   "source": [
    "# Plot & optionally save each selected polymer: fix data set\n",
    "for DA in tqdm(selected_DAs):\n",
    "    # Slice data for selected q ranges (will need to rename q_xy if dimensions are differently named)\n",
    "    sliced_DA = DA.sel(q_xy=slice(-1.1, 2.1), q_z=slice(-0.01, 2.2))\n",
    "    # sliced_DA = DA.sel(q_xy=slice(-0.5, -0.25), q_z=slice(1.5, 1.75))\n",
    "\n",
    "    # real_min = float(DA.sel(q_xy=slice(-0.5, -0.1), q_z=slice(0.1, 0.4)).compute().quantile(1e-3))\n",
    "    real_min = float(DA.compute().quantile(0.01))\n",
    "    cmin = 1 if real_min < 1 else real_min\n",
    "    \n",
    "    # cmax = float(DA.sel(q_xy=slice(-0.5, -0.1), q_z=slice(0.1, 2)).compute().quantile(1))   \n",
    "    cmax = float(DA.compute().quantile(0.999))   \n",
    "    \n",
    "    # Same plotting procedure as above\n",
    "    # ax = sliced_DA.plot.imshow(cmap=cmap, norm=LogNorm(cmin, cmax), interpolation='antialiased', figsize=(5.5,3.3))\n",
    "    ax = sliced_DA.plot.imshow(cmap=cmap, norm=plt.Normalize(cmin, cmax), interpolation='antialiased', figsize=(5.5,3.3))\n",
    "\n",
    "    ax.colorbar.set_label('Intensity [arb. units]', rotation=270, labelpad=15)\n",
    "    ax.axes.set(title=f'Cartesian Plot: {DA.material} {DA.solvent}, {float(DA.incident_angle[2:])}° Incidence',\n",
    "                aspect='equal', xlabel='q$_{xy}$ [Å$^{-1}$]', ylabel='q$_z$ [Å$^{-1}$]')\n",
    "    ax.figure.set(tight_layout=True, dpi=130)\n",
    "    \n",
    "    ax.figure.savefig(outPath.joinpath('recip_plots/stitched_v2', f'{DA.material}_{DA.solvent}_{DA.incident_angle}.png'), dpi=120)\n",
    "    # plt.show()\n",
    "    plt.close('all')"
   ]
  },
  {
   "cell_type": "code",
   "execution_count": null,
   "id": "de525325-773d-4ce5-908c-aa6facf88dc7",
   "metadata": {
    "tags": []
   },
   "outputs": [],
   "source": [
    "# Plot & optionally save each selected polymer: var data set\n",
    "for DA in tqdm(selected_DAs):\n",
    "    # Slice data for selected q ranges (will need to rename q_xy if dimensions are differently named)\n",
    "    sliced_DA = DA.sel(q_xy=slice(-1.1, 2.1), q_z=slice(-0.01, 2.2))\n",
    "    # sliced_DA = DA.sel(q_xy=slice(-0.5, -0.25), q_z=slice(1.5, 1.75))\n",
    "\n",
    "    # real_min = float(DA.sel(q_xy=slice(-0.5, -0.1), q_z=slice(0.1, 0.4)).compute().quantile(1e-3))\n",
    "    real_min = float(DA.compute().quantile(0.01))\n",
    "    cmin = 1 if real_min < 1 else real_min\n",
    "    \n",
    "    # cmax = float(DA.sel(q_xy=slice(-0.5, -0.25), q_z=slice(0.1, 1.75)).compute().quantile(1-1e-10))   \n",
    "    cmax = float(DA.compute().quantile(0.999))   \n",
    "    \n",
    "    # Same plotting procedure as above\n",
    "    ax = sliced_DA.plot.imshow(cmap=cmap, norm=plt.Normalize(cmin, cmax), interpolation='antialiased', figsize=(5.5,3.3))\n",
    "    ax.colorbar.set_label('Intensity [arb. units]', rotation=270, labelpad=15)\n",
    "    ax.axes.set(title=f'Cartesian Plot: {DA.material} {DA.solvent} {DA.rpm}, {float(DA.incident_angle[2:])}° Incidence',\n",
    "                aspect='equal', xlabel='q$_{xy}$ [Å$^{-1}$]', ylabel='q$_z$ [Å$^{-1}$]')\n",
    "    ax.figure.set(tight_layout=True, dpi=130)\n",
    "    \n",
    "    ax.figure.savefig(outPath.joinpath('recip_plots/stitched_v2', f'{DA.material}_{DA.solvent}_{DA.rpm}_{DA.incident_angle}.png'), dpi=120)\n",
    "    # plt.show()\n",
    "    plt.close('all')"
   ]
  },
  {
   "cell_type": "code",
   "execution_count": null,
   "id": "12a0b2cb-f757-446d-85e4-8a130b147e44",
   "metadata": {},
   "outputs": [],
   "source": [
    "# # A way to save data as csv files\n",
    "# for DA in tqdm(DS.data_vars.values()):\n",
    "#     # qxy columns, qz rows\n",
    "#     DA.to_pandas().to_csv(outPath.joinpath('PM6-Y6_waxs', f'cartesian-2D_{DA.polymer}-{DA.weight_percent}_{DA.incident_angle}_{DA.scan_id}.csv'))"
   ]
  },
  {
   "cell_type": "markdown",
   "id": "f164c8c0-98bb-43b3-8d63-9d6de075640e",
   "metadata": {
    "tags": []
   },
   "source": [
    "### 1D Plots"
   ]
  },
  {
   "cell_type": "code",
   "execution_count": null,
   "id": "38841f0e-dcb4-4c6b-abb4-cd70d77f7e8f",
   "metadata": {
    "tags": []
   },
   "outputs": [],
   "source": [
    "filename = 'caked_PM6-Y6_waxs_stitched.zarr'\n",
    "DS = xr.open_zarr(samplesPath.joinpath(filename))\n",
    "DS = DS.where(DS>1e-5)\n",
    "DS"
   ]
  },
  {
   "cell_type": "code",
   "execution_count": null,
   "id": "f3a4cd9d-e268-4e87-897e-9102f1980336",
   "metadata": {},
   "outputs": [],
   "source": [
    "selected_DAs = [da for da in DS.data_vars.values() if \n",
    "                da.attrs['incident_angle'] == 'th0.120']\n",
    "len(selected_DAs)"
   ]
  },
  {
   "cell_type": "code",
   "execution_count": null,
   "id": "954d1667-14e5-425f-9bb5-b74154e72d3f",
   "metadata": {
    "tags": []
   },
   "outputs": [],
   "source": [
    "fpath = outPath.joinpath('PM6-Y6set_waxs', f'linecut_IP_{DA.polymer}-{DA.weight_percent}_{chi_min}to{chi_max}chi_{DA.incident_angle}.csv')\n",
    "OOP_linecut_DA.to_dataframe('OOP Intensity').to_csv(fpath)"
   ]
  },
  {
   "cell_type": "code",
   "execution_count": null,
   "id": "3d3f6381-4597-41f5-916d-cd805f1ba00b",
   "metadata": {
    "tags": []
   },
   "outputs": [],
   "source": [
    "# Plot linecuts for selected chi ranges, here I've put both in plane and out of plane selections into the loop\n",
    "\n",
    "for DA in tqdm(DS.data_vars.values()):\n",
    "    # OOP\n",
    "    chi_min = -18\n",
    "    chi_max = -8\n",
    "    OOP_linecut_DA = DA.sel(chi=slice(chi_min, chi_max), qr=slice(0.14,2.01)).sum('chi')\n",
    "    OOP_linecut_DA.plot.line(figsize=(6,4))\n",
    "\n",
    "    # A plot.line xarray plot does not return an AxesImage object like imshow does, so I use plt.gca() and plt.gcf() to access the axes & figure parameters\n",
    "    ax = plt.gca()\n",
    "    fig = plt.gcf()\n",
    "    \n",
    "    ax.set(title=f'OOP Linecut, {chi_min}° to {chi_max}° $\\chi$: {DA.polymer}-{DA.weight_percent}, {float(DA.incident_angle[2:])}° Incidence',\n",
    "           yscale='log', ylabel='Intensity [arb. units]', xlabel='q$_r$ [Å$^{-1}$]')\n",
    "    ax.grid(visible=True, which='major', axis='x')\n",
    "    fig.set(tight_layout=True, dpi=130)\n",
    "    \n",
    "    plt.show()\n",
    "    fpath = outPath.joinpath('PM6-Y6set_waxs', f'linecut_OOP_{DA.polymer}-{DA.weight_percent}_{chi_min}to{chi_max}chi_{DA.incident_angle}.csv')\n",
    "    print('Saving csv data...')\n",
    "    OOP_linecut_DA.to_dataframe('OOP_Intensity').to_csv(fpath)\n",
    "    print('Saved!')\n",
    "    # fig.savefig(outPath.joinpath('bladecoated-set_waxs', f'linecut_OOP_{DA.polymer}-{DA.weight_percent}_{chi_min}to{chi_max}chi_{DA.incident_angle}.png'), dpi=150)\n",
    "    plt.close('all')\n",
    "    \n",
    "    # IP\n",
    "    chi_min = 72\n",
    "    chi_max = 82\n",
    "    IP_linecut_DA = DA.sel(chi=slice(chi_min, chi_max), qr=slice(0.23,2.01)).sum('chi')\n",
    "    IP_linecut_DA.plot.line(figsize=(6,4))  \n",
    "    \n",
    "    ax = plt.gca()\n",
    "    fig = plt.gcf()\n",
    "    \n",
    "    ax.set(title=f'IP Linecut, {chi_min}° to {chi_max}° $\\chi$: {DA.polymer}-{DA.weight_percent}, {float(DA.incident_angle[2:])}° Incidence',\n",
    "           yscale='log', ylabel='Intensity [arb. units]', xlabel='q$_r$ [Å$^{-1}$]')\n",
    "    ax.grid(visible=True, which='major', axis='x')\n",
    "    fig.set(tight_layout=True, dpi=130)\n",
    "    \n",
    "    plt.show()\n",
    "    fpath = outPath.joinpath('PM6-Y6set_waxs', f'linecut_IP_{DA.polymer}-{DA.weight_percent}_{chi_min}to{chi_max}chi_{DA.incident_angle}.csv')\n",
    "    print('Saving csv data...')\n",
    "    IP_linecut_DA.to_dataframe('IP_Intensity').to_csv(fpath)  \n",
    "    print('Saved!')\n",
    "    # fig.savefig(outPath.joinpath('PM6-Y6set_waxs', f'linecut_IP_{DA.polymer}-{DA.weight_percent}_{chi_min}to{chi_max}chi_{DA.incident_angle}.png'), dpi=150)\n",
    "    plt.close('all')\n",
    "    "
   ]
  },
  {
   "cell_type": "code",
   "execution_count": null,
   "id": "8d21e65b-229b-4cba-9cd1-c80ab7a271e2",
   "metadata": {},
   "outputs": [],
   "source": []
  }
 ],
 "metadata": {
  "kernelspec": {
   "display_name": "Python 3 (ipykernel)",
   "language": "python",
   "name": "python3"
  },
  "language_info": {
   "codemirror_mode": {
    "name": "ipython",
    "version": 3
   },
   "file_extension": ".py",
   "mimetype": "text/x-python",
   "name": "python",
   "nbconvert_exporter": "python",
   "pygments_lexer": "ipython3",
   "version": "3.9.15"
  }
 },
 "nbformat": 4,
 "nbformat_minor": 5
}
