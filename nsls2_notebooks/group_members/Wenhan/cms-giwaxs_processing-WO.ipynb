{
 "cells": [
  {
   "cell_type": "markdown",
   "id": "b3c13da0-ce45-4653-9fb2-5f71078d5a36",
   "metadata": {},
   "source": [
    "# CMS ex situ GIWAXS 2023C3\n",
    "\n",
    "# Wenhan Samples CMS GIWAXS raw data processing & exporting notebook\n",
    "In this notebook you output xr.DataSets stored as .zarr stores containing all your raw,\n",
    "remeshed (reciprocal space), and caked CMS GIWAXS data. Saving as a zarr automatically converts the array to a dask array"
   ]
  },
  {
   "cell_type": "code",
   "execution_count": null,
   "id": "890da6d6-cd22-4687-a4e8-1166e36cb22d",
   "metadata": {
    "tags": []
   },
   "outputs": [],
   "source": [
    "### Kernel updates if needed, remember to restart kernel after running this cell!:\n",
    "!pip install -e /nsls2/users/alevin/repos/PyHyperScattering  # to use pip to install via directory"
   ]
  },
  {
   "cell_type": "markdown",
   "id": "96625ca6-7ec2-4690-bf01-72b422801f76",
   "metadata": {},
   "source": [
    "## Imports"
   ]
  },
  {
   "cell_type": "code",
   "execution_count": null,
   "id": "dd667c0e-baba-4a5d-857a-ca8bd5ce1407",
   "metadata": {},
   "outputs": [],
   "source": [
    "### Imports:\n",
    "import pathlib\n",
    "import numpy as np\n",
    "import matplotlib.pyplot as plt\n",
    "from matplotlib.colors import LogNorm\n",
    "import xarray as xr\n",
    "import PyHyperScattering as phs\n",
    "import pygix\n",
    "import gc\n",
    "from tqdm.auto import tqdm  # progress bar loader!\n",
    "\n",
    "print(f'Using PyHyperScattering Version: {phs.__version__}')"
   ]
  },
  {
   "cell_type": "markdown",
   "id": "7dffa6de-0360-4fcb-b0bf-f320927837d0",
   "metadata": {
    "tags": []
   },
   "source": [
    "## Defining some objects"
   ]
  },
  {
   "cell_type": "markdown",
   "id": "b36b6f6c-4643-46b3-9784-9a6071c754ba",
   "metadata": {},
   "source": [
    "### Define & check paths"
   ]
  },
  {
   "cell_type": "code",
   "execution_count": null,
   "id": "d97aee8c-7d57-489b-854c-03cb6aab2154",
   "metadata": {},
   "outputs": [],
   "source": [
    "# pix_size = 0.000172\n",
    "# 668 * pix_size"
   ]
  },
  {
   "cell_type": "raw",
   "id": "0495363e-6b87-4aa2-a360-66c50d54afcd",
   "metadata": {},
   "source": [
    "/nsls2/data/cms/proposals/2023-3/pass-311415\n",
    "/nsls2/data/cms/legacy/xf11bm/data/2024_1/beamline/RLi/WOu\n",
    "\n",
    "\n",
    "### rclone line typed into terminal to copy data\n",
    "rclone --dry-run copy -P /nsls2/data/cms/legacy/xf11bm/data/2024_1/beamline/RLi/WOu /nsls2/data/cms/proposals/2023-3/pass-311415/AL_processed_data/WOu"
   ]
  },
  {
   "cell_type": "code",
   "execution_count": null,
   "id": "8db0fc93-6739-457a-a7fe-ba695bb41716",
   "metadata": {},
   "outputs": [],
   "source": [
    "# I like pathlib for its readability & checkability, it's also necessary for the loadSeries function later on\n",
    "# Replace the paths with the ones relevant to your data, you can use the \".exists()\" method to make sure you defined a path correctly\n",
    "propPath = pathlib.Path('/nsls2/data/cms/proposals/2023-3/pass-311415')\n",
    "dataPath = propPath.joinpath('AL_processed_data/WOu/waxs')\n",
    "rawPath = dataPath.joinpath('raw')\n",
    "samplesPath = dataPath.joinpath('stitched')\n",
    "\n",
    "notebookPath = pathlib.Path.cwd()\n",
    "poniFile = notebookPath.joinpath('WO_bcx_bcy.poni')\n",
    "maskFile = notebookPath.joinpath('blank.json')\n",
    "\n",
    "# outPath = propPath.joinpath('AL_processed_data')\n",
    "\n",
    "# Select poni & mask filepaths\n",
    "# poniFile = maskponiPath.joinpath('CeO2_2023-12-03_y673_x464p3.poni')\n",
    "# maskFile = maskponiPath.joinpath('pilatus1m_vertical_gaps_only.json')\n",
    "\n",
    "# # Create pg Transform objects with the above information:\n",
    "# # Can set the energy to overwrite default poni energy, this MUST be correct for your samples!\n",
    "# pg_transformer = phs.GIWAXS.Transform(poniPath=poniFile, maskPath=None, energy=12.7)\n",
    "\n",
    "# Colormap\n",
    "cmap = plt.cm.turbo\n",
    "cmap.set_bad('black')"
   ]
  },
  {
   "cell_type": "code",
   "execution_count": null,
   "id": "e2d7ba44-ea07-487f-975b-443821081be9",
   "metadata": {},
   "outputs": [],
   "source": [
    "def poni_centers(poniFile, pix_size=0.000172):\n",
    "    \"\"\"\n",
    "    Returns poni center value and the corresponding pixel position. Default pixel size is 172 microns (Pilatus 1M)\n",
    "    \n",
    "    Inputs: poniFile as pathlib path object to the poni file\n",
    "    Outputs: ((poni1, y_center), (poni2, x_center))\n",
    "    \"\"\"\n",
    "    \n",
    "    with poniFile.open('r') as f:\n",
    "        lines = list(f.readlines())\n",
    "    poni1_str = lines[6]\n",
    "    poni2_str = lines[7]\n",
    "\n",
    "    poni1 = float(poni1_str.split(' ')[1])\n",
    "    poni2 = float(poni2_str.split(' ')[1])\n",
    "\n",
    "    y_center = poni1 / pix_size\n",
    "    x_center = poni2 / pix_size\n",
    "        \n",
    "    return ((poni1, y_center), (poni2, x_center))\n",
    "\n",
    "poni_centers(poniFile)"
   ]
  },
  {
   "cell_type": "markdown",
   "id": "c1840638-1577-4dea-8819-ffb69d6f80b8",
   "metadata": {},
   "source": [
    "### Define metadata naming scheme & initialize loaders"
   ]
  },
  {
   "cell_type": "code",
   "execution_count": null,
   "id": "a27b03be-2a85-4357-9f07-5058f0d320d4",
   "metadata": {
    "tags": []
   },
   "outputs": [],
   "source": [
    "[f.name for f in sorted(samplesPath.glob('*'))]"
   ]
  },
  {
   "cell_type": "code",
   "execution_count": null,
   "id": "b209cf8a-6498-4398-8365-296dd80c6779",
   "metadata": {
    "tags": []
   },
   "outputs": [],
   "source": [
    "WO_set = sorted(samplesPath.glob('*'))"
   ]
  },
  {
   "cell_type": "code",
   "execution_count": null,
   "id": "ea6c6a7d-ca05-4602-9643-cafb0414f743",
   "metadata": {},
   "outputs": [],
   "source": [
    "WO_set = [f for f in WO_set if len(f.name.split('_'))==9]\n",
    "[f.name for f in WO_set]"
   ]
  },
  {
   "cell_type": "code",
   "execution_count": null,
   "id": "fdd31494-d2e4-43d7-adce-d31098c55edb",
   "metadata": {},
   "outputs": [],
   "source": [
    "# set ex situ metadata filename naming schemes:\n",
    "WO_md_naming_scheme = ['project', 'sampleid','detector_pos', 'sample_pos', \n",
    "                       'incident_angle', 'exposure_time', 'scan_id', 'detector', 'image_type']\n",
    "\n",
    "# Initalize CMSGIWAXSLoader objects with the above naming schemes\n",
    "WO_loader = phs.load.CMSGIWAXSLoader(md_naming_scheme=WO_md_naming_scheme)"
   ]
  },
  {
   "cell_type": "markdown",
   "id": "89d72a19-8729-4ebd-914a-9cba20016a72",
   "metadata": {
    "tags": []
   },
   "source": [
    "## Data processing\n",
    "Break this section up however makes sense for your data"
   ]
  },
  {
   "cell_type": "code",
   "execution_count": null,
   "id": "0627327e-f0dd-444d-b643-cd40969ba7b6",
   "metadata": {},
   "outputs": [],
   "source": [
    "# loader = phs.load.CMSGIWAXSLoader()\n",
    "# # calibPath = pathlib.Path('/nsls2/data/cms/proposals/2023-2/pass-311415/KWhite5/maxs/raw/LaB6_5.6m_12.7keV_4250.1s_x0.001_th0.120_10.00s_1118442_maxs.tiff')\n",
    "# calib_DA = loader.loadSingleImage(calibPath)  # Loads the file specified at calibPath into an xr.DataArray object"
   ]
  },
  {
   "cell_type": "code",
   "execution_count": null,
   "id": "b9f42ff5-d8ba-4bf3-b551-ee726e750e06",
   "metadata": {
    "tags": []
   },
   "outputs": [],
   "source": [
    "# # Load a mask as np.array (can use any method)\n",
    "# draw = phs.IntegrationUtils.DrawMask(calib_DA)\n",
    "# draw.load(maskFile)\n",
    "\n",
    "# mask = draw.mask  # Loads mask as numpy array\n",
    "\n",
    "# # Show np.array mask:\n",
    "# plt.imshow(mask)\n",
    "# plt.colorbar()\n",
    "\n",
    "# Initialize a transformer:\n",
    "transformer = phs.GIWAXS.Transform(poniPath=poniFile, maskPath=maskFile)"
   ]
  },
  {
   "cell_type": "code",
   "execution_count": null,
   "id": "4970963d",
   "metadata": {
    "tags": []
   },
   "outputs": [],
   "source": [
    "WO_raw_DS, WO_recip_DS, WO_caked_DS = phs.GIWAXS.single_images_to_dataset(WO_set, WO_loader, transformer)  "
   ]
  },
  {
   "cell_type": "code",
   "execution_count": null,
   "id": "5d971b73-6b87-4477-8f1d-3c12e66c7907",
   "metadata": {},
   "outputs": [],
   "source": [
    "WO_raw_DS"
   ]
  },
  {
   "cell_type": "code",
   "execution_count": null,
   "id": "98618f06-a138-42d8-942f-f44e3d35112d",
   "metadata": {},
   "outputs": [],
   "source": [
    "display(WO_recip_DS)"
   ]
  },
  {
   "cell_type": "code",
   "execution_count": null,
   "id": "bafd5204-aa99-4705-839d-273d40a65ec6",
   "metadata": {},
   "outputs": [],
   "source": [
    "display(WO_caked_DS)"
   ]
  },
  {
   "cell_type": "code",
   "execution_count": null,
   "id": "a4b28135-39a3-40dc-9dde-0aeb84b1bd33",
   "metadata": {},
   "outputs": [],
   "source": [
    "def select_attrs(data_arrays_iterable, selected_attrs_dict):\n",
    "    \"\"\"\n",
    "    Selects data arrays whose attributes match the specified values.\n",
    "\n",
    "    Parameters:\n",
    "    data_arrays_iterable: Iterable of xarray.DataArray objects.\n",
    "    selected_attrs_dict: Dictionary where keys are attribute names and \n",
    "                         values are the attributes' desired values.\n",
    "\n",
    "    Returns:\n",
    "    List of xarray.DataArray objects that match the specified attributes.\n",
    "    \"\"\"    \n",
    "    sublist = list(data_arrays_iterable)\n",
    "    \n",
    "    for attr_name, attr_values in selected_attrs_dict.items():\n",
    "        sublist = [da for da in sublist if da.attrs[attr_name] in attr_values]\n",
    "                \n",
    "    return sublist"
   ]
  },
  {
   "cell_type": "code",
   "execution_count": null,
   "id": "558dfce2-3f20-4cbd-8d77-815cbdaa2f6a",
   "metadata": {
    "tags": []
   },
   "outputs": [],
   "source": [
    "# Example of a quick plot check if desired here:\n",
    "# for DA in tqdm(fixed_recip_DS.data_vars.values()):   \n",
    "\n",
    "selected_attrs_dict = {}\n",
    "selected_DAs = select_attrs(WO_raw_DS.data_vars.values(), selected_attrs_dict)\n",
    "\n",
    "for DA in tqdm(selected_DAs):   \n",
    "    # Slice data for selected q ranges (will need to rename q_xy if dimensions are differently named)\n",
    "    sliced_DA = DA\n",
    "    # sliced_DA = DA.sel(q_xy=slice(-0.5, -0.25), q_z=slice(1.5, 1.75))\n",
    "\n",
    "    # real_min = float(DA.sel(q_xy=slice(-0.5, -0.1), q_z=slice(0.1, 0.4)).compute().quantile(1e-3))\n",
    "    real_min = float(DA.compute().quantile(0.05))\n",
    "    cmin = 1 if real_min < 1 else real_min\n",
    "    \n",
    "    # cmax = float(DA.sel(q_xy=slice(-0.5, -0.1), q_z=slice(0.1, 2)).compute().quantile(1))   \n",
    "    cmax = float(DA.compute().quantile(0.999))   \n",
    "    \n",
    "    # Same plotting procedure as above\n",
    "    # ax = sliced_DA.plot.imshow(cmap=cmap, norm=LogNorm(cmin, cmax), interpolation='antialiased', figsize=(5.5,3.3))\n",
    "    ax = sliced_DA.plot.imshow(origin='upper', cmap=cmap, norm=plt.Normalize(cmin, cmax), figsize=(5.5,3.3))\n",
    "\n",
    "    ax.colorbar.set_label('Intensity [arb. units]', rotation=270, labelpad=15)\n",
    "    ax.axes.set(title=f'{DA.sampleid}, incident angle: {DA.incident_angle}, scan id: {DA.scan_id}',\n",
    "                aspect='equal', xlabel='q$_{xy}$ [Å$^{-1}$]', ylabel='q$_z$ [Å$^{-1}$]')\n",
    "    ax.figure.set(tight_layout=True, dpi=130)\n",
    "    \n",
    "    # ax.figure.savefig(outPath.joinpath('recip_plots/stitched_v2', f'{DA.material}_{DA.solvent}_{DA.incident_angle}.png'), dpi=120)\n",
    "    plt.show()\n",
    "    plt.close('all')"
   ]
  },
  {
   "cell_type": "code",
   "execution_count": null,
   "id": "4fed15ad-ecf1-4bce-ac00-72eb63042643",
   "metadata": {
    "tags": []
   },
   "outputs": [],
   "source": [
    "# Example of a quick plot check if desired here:\n",
    "# for DA in tqdm(fixed_recip_DS.data_vars.values()):   \n",
    "\n",
    "selected_attrs_dict = {}\n",
    "selected_DAs = select_attrs(WO_recip_DS.data_vars.values(), selected_attrs_dict)\n",
    "\n",
    "for DA in tqdm(selected_DAs):   \n",
    "    # Slice data for selected q ranges (will need to rename q_xy if dimensions are differently named)\n",
    "    sliced_DA = DA.sel(q_xy=slice(-1, 3), q_z=slice(0, None))\n",
    "    # sliced_DA = DA.sel(q_xy=slice(-0.5, -0.25), q_z=slice(1.5, 1.75))\n",
    "\n",
    "    # real_min = float(DA.sel(q_xy=slice(-0.5, -0.1), q_z=slice(0.1, 0.4)).compute().quantile(1e-3))\n",
    "    real_min = float(DA.compute().quantile(0.05))\n",
    "    cmin = 1 if real_min < 1 else real_min\n",
    "    \n",
    "    # cmax = float(DA.sel(q_xy=slice(-0.5, -0.1), q_z=slice(0.1, 2)).compute().quantile(1))   \n",
    "    cmax = float(DA.compute().quantile(0.999))   \n",
    "    \n",
    "    # Same plotting procedure as above\n",
    "    # ax = sliced_DA.plot.imshow(cmap=cmap, norm=LogNorm(cmin, cmax), interpolation='antialiased', figsize=(5.5,3.3))\n",
    "    ax = sliced_DA.plot.imshow(cmap=cmap, norm=plt.Normalize(cmin, cmax), interpolation='antialiased', figsize=(5.5,3.3))\n",
    "\n",
    "    ax.colorbar.set_label('Intensity [arb. units]', rotation=270, labelpad=15)\n",
    "    ax.axes.set(title=f'{DA.sampleid}, incident angle: {DA.incident_angle}, scan id: {DA.scan_id}',\n",
    "                aspect='equal', xlabel='q$_{xy}$ [Å$^{-1}$]', ylabel='q$_z$ [Å$^{-1}$]')\n",
    "    ax.figure.set(tight_layout=True, dpi=130)\n",
    "    \n",
    "    # ax.figure.savefig(outPath.joinpath('recip_plots/stitched_v2', f'{DA.material}_{DA.solvent}_{DA.incident_angle}.png'), dpi=120)\n",
    "    plt.show()\n",
    "    plt.close('all')"
   ]
  },
  {
   "cell_type": "code",
   "execution_count": null,
   "id": "f466b4f1-1e6e-4154-9165-4a7d6915c184",
   "metadata": {
    "tags": []
   },
   "outputs": [],
   "source": [
    "chi_min = -90\n",
    "chi_max = 90\n",
    "\n",
    "selected_attrs_dict = {}\n",
    "selected_DAs = select_attrs(WO_caked_DS.data_vars.values(), selected_attrs_dict)\n",
    "\n",
    "for DA in tqdm(selected_DAs):\n",
    "    # Slice dataarray to select plotting region \n",
    "    sliced_DA = DA.sel(chi=slice(chi_min,chi_max))\n",
    "    \n",
    "    # real_min = float(DA.sel(q_xy=slice(-0.5, -0.1), q_z=slice(0.1, 0.4)).compute().quantile(1e-3))\n",
    "    real_min = float(DA.compute().quantile(0.05))\n",
    "    cmin = 1 if real_min < 1 else real_min\n",
    "    \n",
    "    # cmax = float(DA.sel(q_xy=slice(-0.5, -0.1), q_z=slice(0.1, 2)).compute().quantile(1))   \n",
    "    cmax = float(DA.compute().quantile(0.999))  \n",
    "    \n",
    "    # Plot sliced dataarray\n",
    "    ax = sliced_DA.plot.imshow(cmap=cmap, norm=plt.Normalize(cmin, cmax), figsize=(5,4), interpolation='antialiased')  # plot, optional parameter interpolation='antialiased' for image smoothing\n",
    "    ax.colorbar.set_label('Intensity [arb. units]', rotation=270, labelpad=15)  # set colorbar label & parameters \n",
    "    ax.axes.set(title=f'Polar Plot: {DA.sampleid}, {float(DA.incident_angle[2:])}° Incidence',\n",
    "                xlabel='q$_r$ [Å$^{-1}$]', ylabel='$\\chi$ [°]')  # set title, axis labels, misc\n",
    "    ax.figure.set(tight_layout=True, dpi=130)  # Adjust figure dpi & plotting style\n",
    "    \n",
    "    plt.show()  # Comment to mute plotting output\n",
    "    \n",
    "    # Uncomment below line and set savepath/savename for saving plots, I usually like to check \n",
    "    # ax.figure.savefig(outPath.joinpath('PM6-Y6set_waxs', f'polar-2D_{DA.sample_id}_{chi_min}to{chi_max}chi_{DA.incident_angle}.png'), dpi=150)\n",
    "    plt.close('all')"
   ]
  },
  {
   "cell_type": "code",
   "execution_count": null,
   "id": "789d4890-27af-4f8a-ae19-59b2a2bac760",
   "metadata": {},
   "outputs": [],
   "source": [
    "whos PosixPath"
   ]
  },
  {
   "cell_type": "code",
   "execution_count": null,
   "id": "3871c1f0-8b61-4329-b4fa-68a0b91052b6",
   "metadata": {},
   "outputs": [],
   "source": [
    "savePath = dataPath.parent.joinpath('zarrs')"
   ]
  },
  {
   "cell_type": "code",
   "execution_count": null,
   "id": "43c9a438-7c01-49d5-88f6-41b1ff42bf60",
   "metadata": {},
   "outputs": [],
   "source": [
    "WO_recip_DS.to_zarr(savePath.joinpath('WO_recip_stitched.zarr'), mode='w')"
   ]
  },
  {
   "cell_type": "code",
   "execution_count": null,
   "id": "cda5e485-8870-41c2-a63e-6490ab3648a2",
   "metadata": {},
   "outputs": [],
   "source": [
    "WO_raw_DS.to_zarr(savePath.joinpath('WO_raw_stitched.zarr'), mode='w')"
   ]
  },
  {
   "cell_type": "code",
   "execution_count": null,
   "id": "fd28f9fb-511b-4ac2-815e-a46f3a410dee",
   "metadata": {},
   "outputs": [],
   "source": [
    "WO_caked_DS.to_zarr(savePath.joinpath('WO_caked_stitched.zarr'), mode='w')"
   ]
  },
  {
   "cell_type": "code",
   "execution_count": null,
   "id": "02c33b02-daf7-48b6-9471-4c701ee53f10",
   "metadata": {},
   "outputs": [],
   "source": []
  }
 ],
 "metadata": {
  "kernelspec": {
   "display_name": "Python 3 (ipykernel)",
   "language": "python",
   "name": "python3"
  },
  "language_info": {
   "codemirror_mode": {
    "name": "ipython",
    "version": 3
   },
   "file_extension": ".py",
   "mimetype": "text/x-python",
   "name": "python",
   "nbconvert_exporter": "python",
   "pygments_lexer": "ipython3",
   "version": "3.9.15"
  }
 },
 "nbformat": 4,
 "nbformat_minor": 5
}
