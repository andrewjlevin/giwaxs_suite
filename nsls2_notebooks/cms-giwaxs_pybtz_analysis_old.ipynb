{
 "cells": [
  {
   "cell_type": "markdown",
   "id": "b3c13da0-ce45-4653-9fb2-5f71078d5a36",
   "metadata": {},
   "source": [
    "# CMS GIWAXS plotting notebook"
   ]
  },
  {
   "cell_type": "markdown",
   "id": "96625ca6-7ec2-4690-bf01-72b422801f76",
   "metadata": {},
   "source": [
    "## Imports"
   ]
  },
  {
   "cell_type": "code",
   "execution_count": null,
   "id": "59dc5835-d98f-4719-98c8-df249db62159",
   "metadata": {},
   "outputs": [],
   "source": [
    "!pip install tifftools"
   ]
  },
  {
   "cell_type": "code",
   "execution_count": null,
   "id": "dd667c0e-baba-4a5d-857a-ca8bd5ce1407",
   "metadata": {},
   "outputs": [],
   "source": [
    "# Imports:\n",
    "import tifftools  # only needed if loading tiffs, requires installing into default ipykernel: !pip install tifftools\n",
    "import pathlib\n",
    "import numpy as np\n",
    "import pandas as pd\n",
    "import xarray as xr\n",
    "import matplotlib.pyplot as plt\n",
    "from matplotlib.colors import LogNorm\n",
    "from tqdm.auto import tqdm  \n",
    "\n",
    "\n",
    "# Define colormap:\n",
    "cmap = plt.cm.turbo\n",
    "cmap.set_bad('black')"
   ]
  },
  {
   "cell_type": "markdown",
   "id": "7dffa6de-0360-4fcb-b0bf-f320927837d0",
   "metadata": {
    "tags": []
   },
   "source": [
    "## Define & check paths"
   ]
  },
  {
   "cell_type": "code",
   "execution_count": null,
   "id": "8db0fc93-6739-457a-a7fe-ba695bb41716",
   "metadata": {},
   "outputs": [],
   "source": [
    "# Using pathlib is currently necessary for the loadSeries function later on, and it's just nice\n",
    "# Replace the paths with the ones relevant to your data, you can use the \".exists()\" method to make sure you defined a path correctly\n",
    "propPath = pathlib.Path('/nsls2/data/cms/proposals/2023-2/pass-311415')  # The proposals path is a good place to store large data\n",
    "\n",
    "\n",
    "# Choose various directories you'll need for your workflow (usually just source and destination folders)\n",
    "wliPath = propPath.joinpath('KWhite5/filmetrics_2023C2')\n",
    "outPath = propPath.joinpath('AL_processed_data')  \n",
    "qparasPath = outPath.joinpath('qpara_zarrs')\n",
    "qperpsPath = outPath.joinpath('qperp_zarrs')\n",
    "seriesPath = outPath.joinpath('series_zarrs')"
   ]
  },
  {
   "cell_type": "code",
   "execution_count": null,
   "id": "d10771ed-17cb-407c-a287-365fcb581df0",
   "metadata": {},
   "outputs": [],
   "source": [
    "def list_files(Path, glob_filter):\n",
    "    return sorted([f.name for f in Path.glob(glob_filter)])"
   ]
  },
  {
   "cell_type": "code",
   "execution_count": null,
   "id": "e4fdac03-46b0-4814-8fed-6b0b3de72404",
   "metadata": {
    "tags": []
   },
   "outputs": [],
   "source": [
    "# List the files inside a folder\n",
    "list_files(seriesPath, 'caked*pybtz*')"
   ]
  },
  {
   "cell_type": "markdown",
   "id": "b04db06b-b932-448d-bb16-33a5acf59804",
   "metadata": {
    "tags": []
   },
   "source": [
    "## Time-resolved GIWAXS Plotting"
   ]
  },
  {
   "cell_type": "markdown",
   "id": "1c1263d8-367b-4b09-b625-7f46bb561e90",
   "metadata": {
    "tags": []
   },
   "source": [
    "### Cartesian image stack processing"
   ]
  },
  {
   "cell_type": "code",
   "execution_count": null,
   "id": "ddf0b97b-f956-4ab6-a1a5-b0e37dad0c6c",
   "metadata": {
    "tags": []
   },
   "outputs": [],
   "source": [
    "# Load zarr dataset(s):\n",
    "filenames = sorted([f.name for f in seriesPath.glob('recip*pybtz*014*')])\n",
    "DA_0to10 = xr.open_zarr(outPath.joinpath('series_zarrs', filenames[0])).DA\n",
    "DA_10to90 = xr.open_zarr(outPath.joinpath('series_zarrs', filenames[1])).DA\n",
    "DA_90to180 = xr.open_zarr(outPath.joinpath('series_zarrs', filenames[2])).DA\n",
    "\n",
    "DA_0to10 = DA_0to10.where(DA_0to10>1e-8)\n",
    "DA_10to90 = DA_10to90.where(DA_10to90>1e-8)\n",
    "DA_90to180 = DA_90to180.where(DA_90to180>1e-8)\n",
    "\n",
    "# Concatenate into one dataarray along time dimension\n",
    "exposure_times = (0.095, 0.495, 1.995)\n",
    "DA = xr.concat([(DA_0to10/exposure_times[0]), (DA_10to90/exposure_times[1]), (DA_90to180/exposure_times[2])], dim='time')\n",
    "DA.attrs = DA_0to10.attrs\n",
    "DA.attrs['exposure_time'] = exposure_times\n",
    "DA"
   ]
  },
  {
   "cell_type": "code",
   "execution_count": null,
   "id": "3fbed9d1-cc9c-4440-a1b0-7c983aa415ce",
   "metadata": {
    "tags": []
   },
   "outputs": [],
   "source": [
    "# Facet plot of selected times\n",
    "cmin = float(DA.compute().quantile(1e-2))\n",
    "cmax = float(DA.compute().quantile(1-1e-5))\n",
    "times = [2, 5, 9, 12, 20, 30, 40, 170]\n",
    "\n",
    "fg = DA.sel(q_para=slice(-2, 0.7), q_z=slice(-0.01, 2)).sel(time=times, method='nearest').plot.imshow(figsize=(18, 6),\n",
    "                col='time', col_wrap=4, norm=LogNorm(cmin, cmax), cmap=cmap)\n",
    "fg.cbar.set_label('Intensity [arb. units]', rotation=270, labelpad=15)\n",
    "for axes in fg.axs.flatten():\n",
    "    axes.set(aspect='equal')\n",
    "\n",
    "plt.show()"
   ]
  },
  {
   "cell_type": "code",
   "execution_count": null,
   "id": "6c3bd883-dcaf-45c4-a2fe-825a13b37178",
   "metadata": {},
   "outputs": [],
   "source": [
    "### Saves tiff images for all time slices\n",
    "sample = f'{DA.material}_{DA.solvent}_{DA.sample_number}'\n",
    "\n",
    "for time in tqdm(DA.time, desc='Making tiffs...'):\n",
    "    time = np.round(float(time), 1)\n",
    "    ax = DA.sel(time=time, method='nearest').sel(q_z=slice(-0.01,2), q_para=slice(-2, 0.7)).plot.imshow(figsize=(7,4), cmap=cmap, norm=LogNorm(cmin, cmax))\n",
    "    ax.axes.set(aspect='equal', xlabel='$q_{para}$ $[Å^{-1}]$', ylabel='$q_{z}$ $[Å^{-1}]$', title=f'PY-BTz BHJ in CB, 4% CN; Time = {time} s')\n",
    "    ax.figure.set_tight_layout(True)\n",
    "    # plt.show()\n",
    "    ax.figure.savefig(outPath.joinpath(f'single_tiffs/{sample}_time-{time}.tiff'), dpi=100)\n",
    "    plt.close('all')"
   ]
  },
  {
   "cell_type": "code",
   "execution_count": null,
   "id": "31e7e459-8637-4ef4-877f-933b3d7ce669",
   "metadata": {},
   "outputs": [],
   "source": [
    "### Stack tiff frames\n",
    "framePaths = sorted(outPath.joinpath('single_tiffs').glob(f'{sample}*'), key=lambda x: float(str(x).split('-')[-1][:-5]))\n",
    "frame1 = tifftools.read_tiff(framePaths[0])\n",
    "for framePath in tqdm(framePaths[1:], desc='Stacking tiffs...'):\n",
    "    frame = tifftools.read_tiff(framePath)\n",
    "    frame1['ifds'].extend(frame['ifds'])\n",
    "tifftools.write_tiff(frame1, outPath.joinpath(f'tiff_stacks/recip_{sample}_ExpTimeNormed.tiff'), allowExisting=True)"
   ]
  },
  {
   "cell_type": "markdown",
   "id": "5545a93c-54e0-49f9-a76e-db9e11505c66",
   "metadata": {
    "tags": []
   },
   "source": [
    "### Polar image stack processing"
   ]
  },
  {
   "cell_type": "code",
   "execution_count": null,
   "id": "f5fd846c-61fb-4c01-a0ac-baddcefdab04",
   "metadata": {
    "tags": []
   },
   "outputs": [],
   "source": [
    "# Load zarr dataset(s):\n",
    "filenames = sorted([f.name for f in seriesPath.glob('caked*pybtz*014*')])\n",
    "DA_0to10 = xr.open_zarr(outPath.joinpath('series_zarrs', filenames[0])).DA\n",
    "DA_10to90 = xr.open_zarr(outPath.joinpath('series_zarrs', filenames[1])).DA\n",
    "DA_90to180 = xr.open_zarr(outPath.joinpath('series_zarrs', filenames[2])).DA\n",
    "\n",
    "DA_0to10 = DA_0to10.where(DA_0to10>1e-8)\n",
    "DA_10to90 = DA_10to90.where(DA_10to90>1e-8)\n",
    "DA_90to180 = DA_90to180.where(DA_90to180>1e-8)\n",
    "\n",
    "# Concatenate into one dataarray along time dimension\n",
    "exposure_times = (0.095, 0.495, 1.995)\n",
    "DA = xr.concat([(DA_0to10/exposure_times[0]), (DA_10to90/exposure_times[1]), (DA_90to180/exposure_times[2])], dim='time')\n",
    "DA.attrs = DA_0to10.attrs\n",
    "DA.attrs['exposure_time'] = exposure_times\n",
    "\n",
    "# Add a dictionary so I stop forgetting to change plot titles for CN percent:\n",
    "percent_dict = {'CB':0, 'CBCNp1':1, 'CBCNp5':4}\n",
    "\n",
    "# Optionally remove first few time slices:\n",
    "# for my PY-BTz samples: \n",
    "tzero_dict = {'CB':0, 'CBCNp1':0.7, 'CBCNp5':1.2}\n",
    "tzero = tzero_dict[DA.solvent]\n",
    "DA = DA.sel(time=slice(tzero, 400))\n",
    "DA['time'] = np.round(DA['time'] - (tzero-0.1), 1)\n",
    "DA"
   ]
  },
  {
   "cell_type": "code",
   "execution_count": null,
   "id": "d4001c33-721f-4a12-b132-1fe54b9e8b67",
   "metadata": {
    "tags": []
   },
   "outputs": [],
   "source": [
    "# Facet plot of selected times, mostly to check clims and that nothing weird is happening\n",
    "cmin = float(DA.compute().quantile(1e-2))\n",
    "cmax = float(DA.compute().quantile(1-1e-5))\n",
    "times = [0, 5, 9, 12, 20, 30, 40, 170]\n",
    "\n",
    "# axs = DA.sel(time=times, method='nearest').sel(chi=slice(-90, 60), qr=slice(0,2)).plot.imshow(figsize=(18,6), col='time', col_wrap=4, norm=LogNorm(cmin, cmax), cmap=cmap)\n",
    "# plt.show()\n",
    "# plt.close('all')"
   ]
  },
  {
   "cell_type": "code",
   "execution_count": null,
   "id": "fb7c341c-fbc6-4146-803f-3a97f697b7f9",
   "metadata": {
    "tags": []
   },
   "outputs": [],
   "source": [
    "# Select chi regions, zoom into plot to check positions of detector gaps / anomalies\n",
    "OOP_chi_min = 8\n",
    "OOP_chi_max = 18\n",
    "\n",
    "IP_chi_min = -85\n",
    "IP_chi_max = -75\n",
    "\n",
    "OOP_DA = DA.sel(chi=slice(OOP_chi_min, OOP_chi_max))\n",
    "OOP_cmin = float(OOP_DA.compute().quantile(1e-2))\n",
    "OOP_cmax = float(OOP_DA.compute().quantile(1-1e-5))\n",
    "\n",
    "IP_DA = DA.sel(chi=slice(IP_chi_min, IP_chi_max))\n",
    "IP_cmin = float(IP_DA.compute().quantile(1e-2))\n",
    "IP_cmax = float(IP_DA.compute().quantile(1-1e-5))\n",
    "\n",
    "axs = OOP_DA.sel(time=[10, 70, 100], method='nearest').sel(qr=slice(0.22,2)).plot.imshow(figsize=(15,5),\n",
    "        col='time', cmap=cmap, norm=LogNorm(OOP_cmin, OOP_cmax), interpolation='antialiased')\n",
    "axs.fig.suptitle('Out of Plane Slice', y=1.02)\n",
    "\n",
    "axs = IP_DA.sel(time=[10, 70, 100], method='nearest').sel(qr=slice(0,2)).plot.imshow(figsize=(15,5),\n",
    "        col='time', cmap=cmap, norm=LogNorm(IP_cmin, IP_cmax), interpolation='antialiased')\n",
    "axs.fig.suptitle('In Plane Slice', y=1.02)\n",
    "\n",
    "plt.show()"
   ]
  },
  {
   "cell_type": "code",
   "execution_count": null,
   "id": "ef63a849-1801-4f45-b74f-da10329a58b9",
   "metadata": {},
   "outputs": [],
   "source": [
    "# Interpolate detector gaps along a chosen dimension \n",
    "plt.close('all')\n",
    "method='linear'\n",
    "dim='chi'\n",
    "interp_DA = DA.compute().interpolate_na(dim=dim, method=method)"
   ]
  },
  {
   "cell_type": "code",
   "execution_count": null,
   "id": "7dee14df-348f-4963-963f-6fa145cd80fa",
   "metadata": {
    "tags": []
   },
   "outputs": [],
   "source": [
    "# Plot interpolated region, only necessary when detector gap is not easily to be avoided\n",
    "# As seen above, that is only the case for my in my in plane region:\n",
    "interp_IP_DA = interp_DA.sel(chi=slice(IP_chi_min, IP_chi_max))\n",
    "\n",
    "axs = interp_IP_DA.sel(time=[10, 70, 100], method='nearest').sel(qr=slice(0,2)).plot.imshow(figsize=(15,5),\n",
    "        col='time', cmap=cmap, norm=LogNorm(IP_cmin, IP_cmax), interpolation='antialiased')\n",
    "axs.fig.suptitle(f'In Plane Slice Interpolated Along {dim}', y=1.02)\n",
    "\n",
    "plt.show()\n",
    "plt.close('all')"
   ]
  },
  {
   "cell_type": "code",
   "execution_count": null,
   "id": "63dc8a98-8722-40ba-9b71-feedb1502a24",
   "metadata": {},
   "outputs": [],
   "source": [
    "# Choose and save OOP & IP dataarrays as .csv's for Yilei\n",
    "OOP_DA.sum('chi').to_pandas().to_csv(outPath.joinpath('tr_OOP-IP', f'{DA.material}-{DA.solvent}_{DA.sample_number}_OOP.csv'))\n",
    "interp_IP_DA.sum('chi').to_pandas().to_csv(outPath.joinpath('tr_OOP-IP', f'{DA.material}-{DA.solvent}_{DA.sample_number}_IP.csv'))"
   ]
  },
  {
   "cell_type": "markdown",
   "id": "cb3801ba-ffb7-42be-bbac-625b92596ecc",
   "metadata": {},
   "source": [
    "#### Time resolved in plane & out of plane linecuts plotting"
   ]
  },
  {
   "cell_type": "code",
   "execution_count": null,
   "id": "d73e5f44-08e5-40bf-994e-fda296760ec5",
   "metadata": {
    "tags": []
   },
   "outputs": [],
   "source": [
    "# Plot\n",
    "time_slice = slice(60,120)\n",
    "\n",
    "colors = cmap(np.linspace(0,1,len(DA.sel(time=time_slice).time)))\n",
    "fig, axs = plt.subplots(1, 2, figsize=(9,3))\n",
    "\n",
    "for i, time in enumerate(tqdm(DA.sel(time=time_slice).time)):\n",
    "    # DA.sel(time=time, method='nearest').sel(chi=slice(7, 20), qr=slice(0.2,1.8)).sum('chi').plot.line(ax=axs[0], color=colors[i])\n",
    "    OOP_DA.sum('chi').sel(time=time, method='nearest').sel(qr=slice(0.2,1.15)).plot.line(ax=axs[0], color=colors[i])\n",
    "    OOP_DA.sum('chi').sel(time=time, method='nearest').sel(qr=slice(1.31,2)).plot.line(ax=axs[0], color=colors[i])\n",
    "    interp_IP_DA.sum('chi').sel(time=time, method='nearest').sel(qr=slice(0,2)).plot.line(ax=axs[1], color=colors[i])\n",
    "    \n",
    "# Create a ScalarMappable object with the colormap and normalization & add the colorbar to the figure\n",
    "sm = plt.cm.ScalarMappable(cmap=cmap, norm=plt.Normalize(vmin=time_slice.start, vmax=time_slice.stop))\n",
    "cax = axs[1].inset_axes([1.03, 0, 0.03, 1])\n",
    "cbar = fig.colorbar(sm, cax=cax, orientation='vertical')\n",
    "cbar.set_label(label=f'Time [seconds]', labelpad=14)\n",
    "cbar.set_ticks(np.linspace(time_slice.start, time_slice.stop, 5).astype('int'))\n",
    "\n",
    "# More plot customization\n",
    "fig.suptitle('PBDB-TF$_{0.25}$:PY-BTz BHJ ' + f'{percent_dict[DA.solvent]}% CN', fontsize=14)\n",
    "axs[0].set(xlim=(0.1, 2.05), title=f'OOP: {OOP_chi_min}° to {OOP_chi_max}° Chi', ylabel= 'Intensity [arb. units]', xlabel='q$_r$ [Å$^{-1}$]')\n",
    "axs[0].grid(visible=True, which='major', axis='x')\n",
    "axs[1].set(xlim=(0.1, 2.05), title=f'IP: {IP_chi_min}° to {IP_chi_max}° Chi (interpolated det. gap)', ylabel='', xlabel='q$_r$ [Å$^{-1}$]')\n",
    "axs[1].grid(visible=True, which='major', axis='x')\n",
    "\n",
    "fig.set(tight_layout=True, dpi=130)\n",
    "\n",
    "# fig.savefig(outPath.joinpath('trGIWAXS_OOP-IP', f'{DA.material}_{DA.solvent}_{DA.sample_number}_{time_slice.start}to{time_slice.stop}s_linecuts.png'), dpi=150)\n",
    "\n",
    "plt.show()\n",
    "plt.close('all')"
   ]
  },
  {
   "cell_type": "markdown",
   "id": "a2291e46-3215-475e-976a-428daae6eaae",
   "metadata": {},
   "source": [
    "#### Time resolved in plane & out of plane 2D plotting"
   ]
  },
  {
   "cell_type": "code",
   "execution_count": null,
   "id": "753780c4-7de4-4a36-a7e6-309ec5aed71e",
   "metadata": {},
   "outputs": [],
   "source": [
    "outPath"
   ]
  },
  {
   "cell_type": "code",
   "execution_count": null,
   "id": "dda49817-0921-44d5-a7d3-dba5cc58909d",
   "metadata": {},
   "outputs": [],
   "source": [
    "# Slice/sum data as needed for IP & OOP DataArrays\n",
    "tr_OOP_DA = OOP_DA.sel(qr=slice(0.22,1.85), time=time_slice).sum('chi')\n",
    "tr_OOP_DA = tr_OOP_DA.where((tr_OOP_DA.qr<1.15) | (tr_OOP_DA.qr>1.31))\n",
    "tr_IP_DA = interp_IP_DA.sel(qr=slice(0.22,1.85), time=time_slice).sum('chi')\n",
    "\n",
    "fig, axs = plt.subplots(1, 2, figsize=(11,5))\n",
    "\n",
    "tr_OOP_DA.plot(ax=axs[0], x='time', cmap=cmap, norm=LogNorm(3.7e2, 2.3e3), add_colorbar=False)\n",
    "tr_IP_DA.plot(ax=axs[1], x='time', cmap=cmap, norm=LogNorm(2e2, 2.3e3), add_colorbar=False)\n",
    "\n",
    "# Create a ScalarMappable object with the colormap and normalization & add the colorbar to the figure\n",
    "sm = plt.cm.ScalarMappable(cmap=cmap, norm=LogNorm(2e2, 2.3e3))\n",
    "cax = axs[1].inset_axes([1.03, 0, 0.05, 1])\n",
    "cbar = fig.colorbar(sm, cax=cax, orientation='vertical')\n",
    "cbar.set_label(label='Intensity [arb. units]', labelpad=12)\n",
    "\n",
    "fig.suptitle('PBDB-TF$_{0.25}$:PY-BTz BHJ ' + f'{percent_dict[DA.solvent]}% CN', fontsize=14)\n",
    "fig.set(tight_layout=True)\n",
    "\n",
    "axs[0].set(title=f'OOP: {OOP_chi_min}° to {OOP_chi_max}° Chi', ylabel='q$_r$ [Å$^{-1}$]', xlabel='Time [seconds]')\n",
    "axs[1].set(title=f'IP: {IP_chi_min}° to {IP_chi_max}° Chi (interpolated det. gap)', ylabel='q$_r$ [Å$^{-1}$]', xlabel='Time [seconds]')\n",
    "\n",
    "# fig.savefig(outPath.joinpath('trGIWAXS_OOP-IP', f'{DA.material}_{DA.solvent}_{DA.sample_number}_{time_slice.start}to{time_slice.stop}s_2D-plot.png'), dpi=150)\n",
    "\n",
    "plt.show()\n",
    "plt.close('all')"
   ]
  },
  {
   "cell_type": "markdown",
   "id": "5baa0e6c-6bf4-4974-9c89-2712d8f41669",
   "metadata": {},
   "source": [
    "### Select 2D Plot"
   ]
  },
  {
   "cell_type": "code",
   "execution_count": null,
   "id": "e55292ff-d983-4b04-8201-9903c9155012",
   "metadata": {},
   "outputs": [],
   "source": [
    "cmap = plt.cm.turbo\n",
    "cmap.set_bad('black')"
   ]
  },
  {
   "cell_type": "code",
   "execution_count": null,
   "id": "6ca6dc32-49c2-4f4e-a6a2-2829ead06a34",
   "metadata": {
    "tags": []
   },
   "outputs": [],
   "source": [
    "ax = recip_DA.sel(time=120, method='nearest').sel(q_z=slice(-0.01,2), q_para=slice(-2,2)).plot.imshow(cmap=cmap, norm=LogNorm(0.8, 4e1), figsize=(10,4), interpolation='antialiased')\n",
    "ax.axes.set(aspect='equal', xlabel='$q_{para}$ $[Å^{-1}]$', ylabel='$q_{z}$ $[Å^{-1}]$')\n",
    "plt.show()"
   ]
  },
  {
   "cell_type": "code",
   "execution_count": null,
   "id": "0793c49a-b621-4e0e-a0d5-0097820f3db5",
   "metadata": {
    "tags": []
   },
   "outputs": [],
   "source": [
    "ax = DS.DA.sel(time=100, qr=slice(0,2), chi=slice(-90, 60)).plot.imshow(cmap=cmap, norm=LogNorm(4e1, 1e3), figsize=(8,6), interpolation='antialiased')\n",
    "ax.axes.set(aspect=1.5e-2)\n",
    "plt.show()"
   ]
  },
  {
   "cell_type": "code",
   "execution_count": null,
   "id": "92eaadb5-caf8-4978-9d4a-3ca0b0f8a327",
   "metadata": {
    "tags": []
   },
   "outputs": [],
   "source": [
    "caked_pybtz_CB_0to10s_series.sel(time=slice(0,1)).plot(col='time', col_size=4)"
   ]
  },
  {
   "cell_type": "code",
   "execution_count": null,
   "id": "e077f1ca-d587-4f4f-adc7-96c58754ddd4",
   "metadata": {},
   "outputs": [],
   "source": [
    "caked_pybtz_CB_90to180s_series.sel(time=100, qr=slice(0,2), chi=slice(5,25)).sum('chi').plot()"
   ]
  },
  {
   "cell_type": "code",
   "execution_count": null,
   "id": "18c246b7-4921-40f3-a6fb-304dcd650f79",
   "metadata": {},
   "outputs": [],
   "source": [
    "selected_dataarrays = [da for da in caked_DS.data_vars.values() \n",
    "                       if da.attrs['exposure_time'] == '5.00s' and \n",
    "                       da.attrs['incident_angle'] == 'th0.120']\n",
    "len(selected_dataarrays)"
   ]
  },
  {
   "cell_type": "markdown",
   "id": "cb87ca9c-45d4-44ed-948f-753daa6b4ab6",
   "metadata": {},
   "source": [
    "## Single image GIWAXS Plotting"
   ]
  },
  {
   "cell_type": "markdown",
   "id": "fbfcb7d6-878f-4fc8-a624-36ed8d3022a3",
   "metadata": {},
   "source": [
    "### 2D plots"
   ]
  },
  {
   "cell_type": "markdown",
   "id": "0e4fa209-1b91-44f5-990e-8643c21f79b9",
   "metadata": {},
   "source": [
    "#### Caked Images"
   ]
  },
  {
   "cell_type": "markdown",
   "id": "2a8a902e-8ce1-4b80-9760-975d907eb354",
   "metadata": {},
   "source": [
    "#### Reciprocal Space Images"
   ]
  },
  {
   "cell_type": "markdown",
   "id": "f164c8c0-98bb-43b3-8d63-9d6de075640e",
   "metadata": {},
   "source": [
    "### 1D Plots"
   ]
  },
  {
   "cell_type": "code",
   "execution_count": null,
   "id": "3c34faa5-3248-4c00-b381-173557b2b407",
   "metadata": {
    "tags": []
   },
   "outputs": [],
   "source": [
    "# ax = recip_DA.sel(q_perp=slice(-2, 1), q_z=slice(-0.01, 2)).plot.imshow(norm=LogNorm(4e1, 2.5e3), cmap=plt.cm.turbo, interpolation='antialiased')\n",
    "# ax.axes.set(aspect='equal', xlabel='$q_{perp}$ $[Å^{-1}]$', ylabel='$q_{z}$ $[Å^{-1}]$', title=f'1% CN, 5 s exposure, 0.12° incident angle')\n",
    "# ax.figure.set(size_inches=(7,3.5), tight_layout=True)\n",
    "# plt.show()\n",
    "# # ax.figure.savefig(savePath.joinpath(f'{recip_da.material}_{recip_da.solvent}_qperp_{recip_da.incident_angle}_{recip_da.exposure_time}_{recip_da.scan_id}.png'), dpi=120)\n",
    "# plt.close('all')"
   ]
  },
  {
   "cell_type": "markdown",
   "id": "5a1e60df-df11-4f83-8767-393e0939aea6",
   "metadata": {
    "tags": []
   },
   "source": [
    "## Load filmetrics data"
   ]
  },
  {
   "cell_type": "code",
   "execution_count": null,
   "id": "c4c5567d-36fa-4910-955e-4ae4ea1242d8",
   "metadata": {
    "tags": []
   },
   "outputs": [],
   "source": [
    "sample = 'pybtz_cb_013'\n",
    "filmdata = sorted(wliPath.joinpath(sample).glob('*.csv'))[:-1]"
   ]
  },
  {
   "cell_type": "code",
   "execution_count": null,
   "id": "a53d609e-3851-48b8-a908-f55d3b23d22d",
   "metadata": {
    "tags": []
   },
   "outputs": [],
   "source": [
    "filmdata"
   ]
  },
  {
   "cell_type": "code",
   "execution_count": null,
   "id": "0eafa443-237c-4965-95d6-f3c8db07878c",
   "metadata": {},
   "outputs": [],
   "source": [
    "thicknesses = []\n",
    "for f in filmdata:\n",
    "    df = pd.read_csv(f)\n",
    "    df.columns = ['Wavelength', 'Reflectance']\n",
    "    \n",
    "    peaks = argrelextrema(df['Reflectance'].values, np.greater)\n",
    "    beat_wavelengths = np.diff(df['Wavelength'].values[peaks])\n",
    "    thickness = np.mean(df['Wavelength'].values[peaks])**2 / (2 * 1.3 * beat_wavelengths.mean())\n",
    "    \n",
    "    thicknesses.append(thickness)"
   ]
  },
  {
   "cell_type": "code",
   "execution_count": null,
   "id": "1c4fe030-c98c-4db4-9de5-c5c5c3e2921e",
   "metadata": {},
   "outputs": [],
   "source": [
    "plt.plot(np.arange(0, len(filmdata), 1)[0:], thicknesses[0:])\n",
    "plt.show()"
   ]
  },
  {
   "cell_type": "code",
   "execution_count": null,
   "id": "d6a9d185-11dd-4d80-ab82-d69b5110b4d5",
   "metadata": {
    "tags": []
   },
   "outputs": [],
   "source": [
    "for i in range(0, 12):\n",
    "    df = pd.read_csv(filmdata[i])\n",
    "    df.columns = ['Wavelength', 'Reflectance']\n",
    "    plt.plot(df['Wavelength'], df['Reflectance'])\n",
    "    plt.show()"
   ]
  },
  {
   "cell_type": "code",
   "execution_count": null,
   "id": "fc4d3a79-1f82-42be-89fd-ed616c223d61",
   "metadata": {},
   "outputs": [],
   "source": [
    "peaks = argrelextrema(df['Reflectance'].values, np.greater)\n",
    "# peaks"
   ]
  },
  {
   "cell_type": "code",
   "execution_count": null,
   "id": "2742b3de-a8af-4ba0-9564-2c9d4c72ca44",
   "metadata": {},
   "outputs": [],
   "source": [
    "beat_wavelengths = np.diff(df['Wavelength'].values[peaks])\n",
    "# beat_wavelengths"
   ]
  },
  {
   "cell_type": "code",
   "execution_count": null,
   "id": "c0dde1f5-9a78-4966-b086-ce2ee756f8b1",
   "metadata": {},
   "outputs": [],
   "source": [
    "thickness = np.mean(df['Wavelength'].values[peaks])**2 / (2 * 1 * beat_wavelengths.mean())"
   ]
  },
  {
   "cell_type": "code",
   "execution_count": null,
   "id": "a67a428c-80ea-435c-b5be-1c63c0a877d0",
   "metadata": {},
   "outputs": [],
   "source": [
    "thickness"
   ]
  },
  {
   "cell_type": "code",
   "execution_count": null,
   "id": "9e731a75-8123-42f6-8cca-017815698b97",
   "metadata": {},
   "outputs": [],
   "source": [
    "len(beat_wavelengths)"
   ]
  },
  {
   "cell_type": "code",
   "execution_count": null,
   "id": "230e678a-7ca3-4483-8472-7497aad57955",
   "metadata": {},
   "outputs": [],
   "source": [
    "len(peaks)"
   ]
  },
  {
   "cell_type": "code",
   "execution_count": null,
   "id": "09dc917e-5e15-48b7-b6ea-7bca3e04c3a9",
   "metadata": {},
   "outputs": [],
   "source": [
    "len(peaks[0])"
   ]
  }
 ],
 "metadata": {
  "kernelspec": {
   "display_name": "Python 3 (ipykernel)",
   "language": "python",
   "name": "python3"
  },
  "language_info": {
   "codemirror_mode": {
    "name": "ipython",
    "version": 3
   },
   "file_extension": ".py",
   "mimetype": "text/x-python",
   "name": "python",
   "nbconvert_exporter": "python",
   "pygments_lexer": "ipython3",
   "version": "3.9.15"
  }
 },
 "nbformat": 4,
 "nbformat_minor": 5
}
