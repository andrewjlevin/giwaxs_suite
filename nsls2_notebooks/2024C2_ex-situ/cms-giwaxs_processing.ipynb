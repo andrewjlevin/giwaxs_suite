{
 "cells": [
  {
   "cell_type": "markdown",
   "id": "b3c13da0-ce45-4653-9fb2-5f71078d5a36",
   "metadata": {},
   "source": [
    "# CMS ex situ GIWAXS 2024C2\n",
    "\n",
    "# CMS GIWAXS raw data processing & exporting notebook\n",
    "In this notebook you output xr.DataSets stored as .zarr stores containing all your raw,\n",
    "remeshed (reciprocal space), and caked CMS GIWAXS data. Saving as a zarr automatically converts the array to a dask array"
   ]
  },
  {
   "cell_type": "markdown",
   "id": "96625ca6-7ec2-4690-bf01-72b422801f76",
   "metadata": {},
   "source": [
    "## Imports"
   ]
  },
  {
   "cell_type": "code",
   "execution_count": null,
   "id": "dd667c0e-baba-4a5d-857a-ca8bd5ce1407",
   "metadata": {},
   "outputs": [],
   "source": [
    "### Imports:\n",
    "import pathlib\n",
    "import numpy as np\n",
    "import matplotlib.pyplot as plt\n",
    "from matplotlib.colors import LogNorm\n",
    "import xarray as xr\n",
    "import PyHyperScattering as phs\n",
    "import pygix\n",
    "import gc\n",
    "from tqdm.auto import tqdm  # progress bar loader!\n",
    "\n",
    "print(f'Using PyHyperScattering Version: {phs.__version__}')"
   ]
  },
  {
   "cell_type": "markdown",
   "id": "7dffa6de-0360-4fcb-b0bf-f320927837d0",
   "metadata": {
    "tags": []
   },
   "source": [
    "## Defining some objects"
   ]
  },
  {
   "cell_type": "markdown",
   "id": "b36b6f6c-4643-46b3-9784-9a6071c754ba",
   "metadata": {},
   "source": [
    "### Define & check paths"
   ]
  },
  {
   "cell_type": "code",
   "execution_count": null,
   "id": "26b62d52-d8a9-4d6b-8ec9-828ddb668e8a",
   "metadata": {
    "tags": []
   },
   "outputs": [],
   "source": [
    "maskponiPath"
   ]
  },
  {
   "cell_type": "code",
   "execution_count": null,
   "id": "8db0fc93-6739-457a-a7fe-ba695bb41716",
   "metadata": {},
   "outputs": [],
   "source": [
    "# I like pathlib for its readability & checkability, it's also necessary for the loadSeries function later on\n",
    "# Replace the paths with the ones relevant to your data, you can use the \".exists()\" method to make sure you defined a path correctly\n",
    "propPath = pathlib.Path('/nsls2/data/cms/proposals/2023-3/pass-311415')\n",
    "# samplesPath = propPath.joinpath('AL_2024C2/waxs/stitched')\n",
    "samplesPath = propPath.joinpath('AL_2024C2/stitched')\n",
    "\n",
    "maskponiPath = propPath.joinpath('AL_processed_data/maskponi')  # place for pyhyper-drawn masks and poni files\n",
    "\n",
    "# outPath = propPath.joinpath('AL_processed_data')\n",
    "\n",
    "# Select poni & mask filepaths\n",
    "poniFile = maskponiPath.joinpath('CeO2_2023-08-20_y667_x461.poni')\n",
    "# maskFile = maskponiPath.joinpath('blank.json')\n",
    "# maskFile = maskponiPath.joinpath('pilatus1m_vertical_gaps_only.json')\n",
    "maskFile = maskponiPath.joinpath('pilatus_1m_stitched_vertical_gap_silicon_peak.edf')\n",
    "\n",
    "# Colormap\n",
    "cmap = plt.cm.turbo\n",
    "cmap.set_bad('black')"
   ]
  },
  {
   "cell_type": "code",
   "execution_count": null,
   "id": "310bc55c-d965-41a2-9658-5e05bebfacba",
   "metadata": {
    "tags": []
   },
   "outputs": [],
   "source": [
    "def select_attrs(data_arrays_iterable, selected_attrs_dict):\n",
    "    \"\"\"\n",
    "    Selects data arrays whose attributes match the specified values.\n",
    "\n",
    "    Parameters:\n",
    "    data_arrays_iterable: Iterable of xarray.DataArray objects.\n",
    "    selected_attrs_dict: Dictionary where keys are attribute names and \n",
    "                         values are the attributes' desired values.\n",
    "\n",
    "    Returns:\n",
    "    List of xarray.DataArray objects that match the specified attributes.\n",
    "    \"\"\"    \n",
    "    sublist = list(data_arrays_iterable)\n",
    "    \n",
    "    for attr_name, attr_values in selected_attrs_dict.items():\n",
    "        sublist = [da.copy() for da in sublist if da.attrs[attr_name] in attr_values]\n",
    "                \n",
    "    return sublist"
   ]
  },
  {
   "cell_type": "code",
   "execution_count": null,
   "id": "406ecdc9-20b0-4352-8d06-af7622121ffa",
   "metadata": {
    "tags": []
   },
   "outputs": [],
   "source": [
    "# rawPath = propPath.joinpath('AL_2024C2/raw')\n",
    "\n",
    "# # Loop through each .tiff file in the directory\n",
    "# for file_path in rawPath.glob(\"*\"):\n",
    "#     # Convert the file name to a string\n",
    "#     new_name = str(file_path.name)\n",
    "    \n",
    "#     # Replace the desired substrings\n",
    "#     new_name = new_name.replace(\"_x-0.000_\", \"_x0.000_\")\n",
    "#     new_name = new_name.replace(\"_th0.119_\", \"_th0.120_\")\n",
    "#     new_name = new_name.replace(\"_AL9_\", \"_AL09_\")\n",
    "#     new_name = new_name.replace(\"_leftover_\", \"_\")\n",
    "    \n",
    "#     # Define the new file path with the updated name\n",
    "#     new_file_path = file_path.with_name(new_name)\n",
    "    \n",
    "#     # Rename the file\n",
    "#     file_path.rename(new_file_path)\n",
    "\n",
    "# print(\"Filenames have been updated.\")\n"
   ]
  },
  {
   "cell_type": "raw",
   "id": "c6ca4aa7-341c-4ab2-9ec8-9b2ea1e0b358",
   "metadata": {},
   "source": [
    "rclone --dry-run copy -P /nsls2/data/cms/proposals/2023-3/pass-311415/AL_2024C2/processed_data remote:research/data_analysis/giwaxs_suite/processed_data/2024C2_cms"
   ]
  },
  {
   "cell_type": "code",
   "execution_count": null,
   "id": "111ea198-4eec-4820-9f11-b14d04abb57a",
   "metadata": {
    "tags": []
   },
   "outputs": [],
   "source": [
    "\n",
    "# # # Define the directory and the string to be removed\n",
    "# # directory = samplesPath\n",
    "# # string_to_remove = '_leftover'\n",
    "\n",
    "# # # Iterate over all files in the directory\n",
    "# # for file_path in directory.iterdir():\n",
    "# #     if file_path.is_file() and string_to_remove in file_path.name:\n",
    "# #         # Create the new file name by removing the specific string\n",
    "# #         new_name = file_path.name.replace(string_to_remove, '')\n",
    "# #         new_file_path = file_path.with_name(new_name)\n",
    "# #         # Rename the file\n",
    "# #         file_path.rename(new_file_path)\n",
    "\n",
    "\n",
    "# # Define the directory and the string to be removed\n",
    "# directory = samplesPath\n",
    "# string_to_remove = '_th0.119'\n",
    "\n",
    "# # Iterate over all files in the directory\n",
    "# for file_path in directory.iterdir():\n",
    "#     if file_path.is_file() and string_to_remove in file_path.name:\n",
    "#         # Create the new file name by removing the specific string\n",
    "#         new_name = file_path.name.replace(string_to_remove, '_th0.120')\n",
    "#         new_file_path = file_path.with_name(new_name)\n",
    "#         # Rename the file\n",
    "#         file_path.rename(new_file_path)\n",
    "\n"
   ]
  },
  {
   "cell_type": "code",
   "execution_count": null,
   "id": "b432fc9e-16f7-4804-9372-7cdd81d55087",
   "metadata": {
    "tags": []
   },
   "outputs": [],
   "source": [
    "667 * 0.000172"
   ]
  },
  {
   "cell_type": "code",
   "execution_count": null,
   "id": "8888b348-482b-4b9c-ad89-856bcccfd3a9",
   "metadata": {
    "tags": []
   },
   "outputs": [],
   "source": [
    "461 * 0.000172"
   ]
  },
  {
   "cell_type": "code",
   "execution_count": null,
   "id": "e2d7ba44-ea07-487f-975b-443821081be9",
   "metadata": {},
   "outputs": [],
   "source": [
    "def poni_centers(poniFile, pix_size=0.000172):\n",
    "    \"\"\"\n",
    "    Returns poni center value and the corresponding pixel position. Default pixel size is 172 microns (Pilatus 1M)\n",
    "    \n",
    "    Inputs: poniFile as pathlib path object to the poni file\n",
    "    Outputs: ((poni1, y_center), (poni2, x_center))\n",
    "    \"\"\"\n",
    "    \n",
    "    with poniFile.open('r') as f:\n",
    "        lines = list(f.readlines())\n",
    "    poni1_str = lines[6]\n",
    "    poni2_str = lines[7]\n",
    "\n",
    "    poni1 = float(poni1_str.split(' ')[1])\n",
    "    poni2 = float(poni2_str.split(' ')[1])\n",
    "\n",
    "    y_center = poni1 / pix_size\n",
    "    x_center = poni2 / pix_size\n",
    "        \n",
    "    return ((poni1, y_center), (poni2, x_center))\n",
    "\n",
    "poni_centers(poniFile)"
   ]
  },
  {
   "cell_type": "markdown",
   "id": "c1840638-1577-4dea-8819-ffb69d6f80b8",
   "metadata": {},
   "source": [
    "### Define metadata naming scheme & initialize loaders"
   ]
  },
  {
   "cell_type": "code",
   "execution_count": null,
   "id": "c493e4ce-e22c-435d-8e0e-c80253f9420c",
   "metadata": {
    "tags": []
   },
   "outputs": [],
   "source": [
    "[f.name for f in sorted(samplesPath.glob('*'))]"
   ]
  },
  {
   "cell_type": "code",
   "execution_count": null,
   "id": "9f56690c-6448-4db2-b6e0-052f5f32f74c",
   "metadata": {
    "tags": []
   },
   "outputs": [],
   "source": [
    "samplesPath"
   ]
  },
  {
   "cell_type": "code",
   "execution_count": null,
   "id": "fdd31494-d2e4-43d7-adce-d31098c55edb",
   "metadata": {},
   "outputs": [],
   "source": [
    "# set ex situ metadata filename naming schemes:\n",
    "md_naming_scheme = ['project', 'sample_ID', 'detector_pos', 'sample_pos', \n",
    "                    'incident_angle', 'exposure_time', 'scan_id', 'detector']\n",
    "\n",
    "# Initalize CMSGIWAXSLoader objects with the above naming schemes\n",
    "loader = phs.load.CMSGIWAXSLoader(md_naming_scheme=md_naming_scheme)\n",
    "# loader = phs.load.CMSGIWAXSLoader()"
   ]
  },
  {
   "cell_type": "markdown",
   "id": "89d72a19-8729-4ebd-914a-9cba20016a72",
   "metadata": {
    "tags": []
   },
   "source": [
    "## Data processing\n",
    "Break this section up however makes sense for your data"
   ]
  },
  {
   "cell_type": "markdown",
   "id": "00f8ad20-e1e6-4598-81be-78378e706053",
   "metadata": {},
   "source": [
    "### initialize integrators"
   ]
  },
  {
   "cell_type": "code",
   "execution_count": null,
   "id": "e1040195-c8c4-4474-9f11-2216e737a603",
   "metadata": {
    "tags": []
   },
   "outputs": [],
   "source": [
    "recip_integrator = phs.integrate.PGGeneralIntegrator(geomethod = 'ponifile',\n",
    "                                                     ponifile = poniFile,\n",
    "                                                     output_space = 'recip',\n",
    "                                                     maskmethod = 'edf',\n",
    "                                                     maskpath = maskFile)\n",
    "recip_integrator.energy = 13.5e3\n",
    "\n",
    "caked_integrator = phs.integrate.PGGeneralIntegrator(geomethod = 'ponifile',\n",
    "                                                     ponifile = poniFile,\n",
    "                                                     output_space = 'caked',\n",
    "                                                     maskmethod = 'edf',\n",
    "                                                     maskpath = maskFile)\n",
    "caked_integrator.energy = 13.5e3"
   ]
  },
  {
   "cell_type": "markdown",
   "id": "98d3e9e4-2839-4dcf-9f89-e1ab933b840e",
   "metadata": {},
   "source": [
    "### generate, check save: recip Dataset"
   ]
  },
  {
   "cell_type": "code",
   "execution_count": null,
   "id": "83054c00-9589-4036-9b3d-8192288f19c1",
   "metadata": {
    "tags": []
   },
   "outputs": [],
   "source": [
    "# Use the single_images_to_dataset utility function to pygix transform all raw files in an indexable list\n",
    "# Located in the IntegrationUtils script, CMSGIWAXS class:\n",
    "\n",
    "# Initalize CMSGIWAXS util object\n",
    "util = phs.util.IntegrationUtils.CMSGIWAXS(sorted(samplesPath.glob('CD*')), loader, recip_integrator)\n",
    "raw_DS, recip_DS = util.single_images_to_dataset()  # run function \n",
    "display(recip_DS)"
   ]
  },
  {
   "cell_type": "code",
   "execution_count": null,
   "id": "162610ae-4403-47a4-8eb1-bad4a109960d",
   "metadata": {
    "tags": []
   },
   "outputs": [],
   "source": [
    "# Corrected with flipped bar\n",
    "sn = {\n",
    "    \"AL01\": \"Y6\",\n",
    "    \"AL02\": \"Y6:PVK 1:1\",\n",
    "    \"AL03\": \"Y6:PVK 1:9\",\n",
    "    \"AL04\": \"A1\",\n",
    "    \"AL05\": \"A1:PVK 1:1\",\n",
    "    \"AL06\": \"A1:PVK 1:9\",\n",
    "    \"AL07\": \"A2\",\n",
    "    \"AL08\": \"A2:PVK 1:1\",\n",
    "    \"AL09\": \"A2:PVK 1:9\",\n",
    "    \"AL10\": \"A3\",\n",
    "    \"AL11\": \"A3:PVK 1:1\",\n",
    "    \"AL12\": \"A3:PVK 1:9\",\n",
    "    \"AL13\": \"Y6 CF:CB 4:1\",\n",
    "    \"AL14\": \"Y6 CF:CB 2:3\",\n",
    "    \"AL15\": \"Y6 CF:CB 2:3 + 0.5% CN\",\n",
    "    \"AL16\": \"PM6 CF:CB 4:1\",\n",
    "    \"AL17\": \"PM6 CF:CB 2:3\",\n",
    "    \"AL18\": \"PM6 CF:CB 2:3 + 0.5% CN\",\n",
    "    \"AL19\": \"PM6:Y6 CF:CB 4:1\",\n",
    "    \"AL20\": \"PM6:Y6 CF:CB 2:3\",\n",
    "    \"AL21\": \"PM6:Y6 CF:CB 2:3 + 0.5% CN\",\n",
    "    \"AL22\": \"PM6 CB\",\n",
    "    \"AL23\": \"Y6 CB\",\n",
    "    \"AL24\": \"Y6BO CB\",\n",
    "    \"AL25\": \"PM6 CB + 1% CN\",\n",
    "    \"AL26\": \"PM6 CB + 5% CN\",\n",
    "    \"AL27\": \"Y6 CB + 0.5% CN\",\n",
    "    \n",
    "    \"AL28\": \"PM6 CF + 1% CN\",\n",
    "    \"AL29\": \"Y6BO CF\",\n",
    "    \"AL30\": \"Y6 CF\",\n",
    "    \"AL31\": \"PM6 CF\",\n",
    "    \"AL32\": \"PM6:Y6BO CB + 0.5% CN\",\n",
    "    \"AL33\": \"PM6:Y6 CB + 0.5% CN\",\n",
    "    \"AL34\": \"PM6:Y6BO CB\",\n",
    "    \"AL35\": \"PM6:Y6 CB\",\n",
    "    \"AL36\": \"PM6 CB + 0.5% CN\",\n",
    "    \"AL37\": \"Y6BO CB + 0.5% CN\",\n",
    "    \n",
    "    \"AL38\": \"PM6 CF + 5% CN\",\n",
    "    \"AL39\": \"Y6 CF + 0.5% CN\",\n",
    "    \"AL40\": \"Y6BO CF + 0.5% CN\",\n",
    "    \"AL41\": \"PM6 CF + 0.5% CN\",\n",
    "    \"AL42\": \"PM6:Y6 CF\",\n",
    "    \"AL43\": \"PM6:Y6BO CF\",\n",
    "    \"AL44\": \"PM6:Y6 CF + 0.5% CN\",\n",
    "    \"AL45\": \"PM6:Y6BO CF + 0.5% CN\"\n",
    "}\n"
   ]
  },
  {
   "cell_type": "code",
   "execution_count": null,
   "id": "7c33dcb4-071a-4f12-9b57-28f43e8bfce4",
   "metadata": {
    "tags": []
   },
   "outputs": [],
   "source": [
    "# Example of a quick plot check if desired here:\n",
    "for DA in tqdm(list(recip_DS.data_vars.values())):   \n",
    "# for DA in tqdm(selected_DAs):\n",
    "    cmin = DA.quantile(0.05)\n",
    "    cmax = DA.quantile(0.9992)\n",
    "    \n",
    "    ax = DA.sel(q_xy=slice(-1.1, 2.1), q_z=slice(-0.05, 2.4)).plot.imshow(cmap=cmap, norm=plt.Normalize(cmin, cmax), figsize=(8,4))\n",
    "    ax.axes.set(aspect='equal', title=f'{DA.sample_ID}: {sn[DA.sample_ID]},\\n {DA.incident_angle}, {DA.sample_pos}, id: {DA.scan_id}')\n",
    "    plt.show()\n",
    "    plt.close('all')"
   ]
  },
  {
   "cell_type": "code",
   "execution_count": null,
   "id": "cad9f2da-b998-43b7-ac4e-be860eedd208",
   "metadata": {
    "tags": []
   },
   "outputs": [],
   "source": [
    "# Use the single_images_to_dataset utility function to pygix transform all raw files in an indexable list\n",
    "# Located in the IntegrationUtils script, CMSGIWAXS class:\n",
    "\n",
    "# Initalize CMSGIWAXS util object\n",
    "util = phs.util.IntegrationUtils.CMSGIWAXS(sorted(samplesPath.glob('CD*')), loader, caked_integrator)\n",
    "raw_DS, caked_DS = util.single_images_to_dataset()  # run function \n",
    "display(caked_DS)"
   ]
  },
  {
   "cell_type": "code",
   "execution_count": null,
   "id": "30d05244-c707-41b2-9c7e-2ed7030b3688",
   "metadata": {
    "tags": []
   },
   "outputs": [],
   "source": [
    "# Example of a quick plot check if desired here:\n",
    "\n",
    "\n",
    "for DA in tqdm(list(caked_DS.data_vars.values())):   \n",
    "# for DA in tqdm(selected_DAs):\n",
    "    cmin = DA.sel(qr=slice(0.25,None)).quantile(0.05)\n",
    "    cmax = DA.sel(qr=slice(0.25,None)).quantile(0.9992)\n",
    "    \n",
    "    ax = DA.sel(qr=slice(0, 2.1), chi=slice(None, None)).plot.imshow(cmap=cmap, norm=plt.Normalize(cmin, cmax), figsize=(8,4))\n",
    "    ax.axes.set(title=f'{DA.sample_ID}: {sn[DA.sample_ID]},\\n {DA.incident_angle}, {DA.sample_pos}, id: {DA.scan_id}')\n",
    "    plt.show()\n",
    "    plt.close('all')"
   ]
  },
  {
   "cell_type": "code",
   "execution_count": null,
   "id": "72379825-2218-40b0-b94a-75dd8bac5b3b",
   "metadata": {
    "tags": []
   },
   "outputs": [],
   "source": [
    "### Apply a sin chi correction\n",
    "sin_chi_DA = np.sin(np.radians(np.abs(caked_DS.chi)))\n",
    "\n",
    "corr_DS = caked_DS.copy()\n",
    "# corr_DS = corr_DS * sin_chi_DA  # This works mathematically, but does not preserve attributes\n",
    "for var in corr_DS.data_vars:\n",
    "    corrected = corr_DS[var] * sin_chi_DA\n",
    "    corr_DS[var].values = corrected.values\n",
    "    \n",
    "corr_DS"
   ]
  },
  {
   "cell_type": "code",
   "execution_count": null,
   "id": "cf37ff92-4e34-4bb1-bf60-05e9a4d2dd90",
   "metadata": {
    "tags": []
   },
   "outputs": [],
   "source": [
    "%matplotlib widget\n",
    "plt.close('all')\n",
    "\n",
    "# Polar plots, for sin(chi) intensities\n",
    "# Set chi range: Full range\n",
    "chi_min = -90\n",
    "chi_max = 90\n",
    "q_min = 0.05\n",
    "q_max = 2.04\n",
    "\n",
    "# selected_attrs_dict = {'sample_ID': ['AL22', 'AL36', 'AL25', 'AL26', \n",
    "#                                      'AL31', 'AL41', 'AL28', 'AL38']}\n",
    "selected_attrs_dict = {'sample_ID': ['AL22', 'AL31'], 'incident_angle': ['th0.110']}\n",
    "\n",
    "selected_DAs = select_attrs(corr_DS.data_vars.values(), selected_attrs_dict)    \n",
    "\n",
    "for DA in tqdm(selected_DAs):\n",
    "    # Slice dataarray to select plotting region \n",
    "    sliced_DA = DA.sel(chi=slice(chi_min,chi_max), qr=slice(q_min, q_max))\n",
    "    \n",
    "    # Set color limits\n",
    "    real_min = float(sliced_DA.compute().quantile(0.01))\n",
    "    cmin = 1 if real_min < 1 else real_min\n",
    "\n",
    "    cmax = float(sliced_DA.compute().quantile(0.995))       \n",
    "    \n",
    "    # Plot sliced dataarray\n",
    "    ax = sliced_DA.plot.imshow(cmap=cmap, norm=plt.Normalize(cmin, cmax), figsize=(5,4))  # plot, optional parameter interpolation='antialiased' for image smoothing\n",
    "    ax.axes.set(title=f'Polar Plot: {sn[DA.sample_ID]}, {float(DA.incident_angle[2:])}° Incidence, sin($\\chi$) Corrected')\n",
    "    ax.colorbar.set_label('Intensity * sin($\\chi$) [arb. units]', rotation=270, labelpad=15)  # set colorbar label & parameters \n",
    "    ax.axes.set(xlabel='q$_r$ [Å$^{-1}$]', ylabel='$\\chi$ [°]')  # set title, axis labels, misc\n",
    "    ax.figure.set(tight_layout=True, dpi=130)  # Adjust figure dpi & plotting style\n",
    "    \n",
    "    plt.show()  # Comment to mute plotting output\n",
    "    # plt.close('all')"
   ]
  },
  {
   "cell_type": "code",
   "execution_count": null,
   "id": "4bbacf33-df9d-4eff-8e00-dfc8b32a2b73",
   "metadata": {
    "tags": []
   },
   "outputs": [],
   "source": [
    "outPath = propPath.joinpath('AL_2024C2/processed_data')\n",
    "outPath.exists()"
   ]
  },
  {
   "cell_type": "code",
   "execution_count": null,
   "id": "e36eb91d-a8d9-437c-a9c1-24581f832bc5",
   "metadata": {},
   "outputs": [],
   "source": [
    "# Saving dataset with xarray's to_zarr() method:\n",
    "# General structure below:\n",
    "\n",
    "# Set where to save file and what to name it\n",
    "savePath = outPath.joinpath('zarrs')\n",
    "savePath.mkdir(exist_ok=True)\n",
    "savename = 'recip_DS.zarr'\n",
    "\n",
    "# Save it\n",
    "recip_DS.to_zarr(savePath.joinpath(savename), mode='w')"
   ]
  },
  {
   "cell_type": "code",
   "execution_count": null,
   "id": "f9f90231-4152-4a6b-aa15-61f187f1cd7e",
   "metadata": {},
   "outputs": [],
   "source": [
    "# Saving dataset with xarray's to_zarr() method:\n",
    "# General structure below:\n",
    "\n",
    "# Set where to save file and what to name it\n",
    "savePath = outPath.joinpath('zarrs')\n",
    "savePath.mkdir(exist_ok=True)\n",
    "savename = 'caked_DS.zarr'\n",
    "\n",
    "# Save it\n",
    "caked_DS.to_zarr(savePath.joinpath(savename), mode='w')"
   ]
  },
  {
   "cell_type": "markdown",
   "id": "f1f222df-ae39-489d-8918-d17c6d8bf69c",
   "metadata": {},
   "source": [
    "### generate, check save: caked Dataset"
   ]
  },
  {
   "cell_type": "markdown",
   "id": "d3c0c38b-ddf4-454e-b5b4-3439be569cab",
   "metadata": {
    "tags": []
   },
   "source": [
    "#### Yoneda check:"
   ]
  },
  {
   "cell_type": "code",
   "execution_count": null,
   "id": "f9e87cae-9747-419a-a3f7-18ec5c9f3ec6",
   "metadata": {},
   "outputs": [],
   "source": [
    "yoneda_angles"
   ]
  },
  {
   "cell_type": "code",
   "execution_count": null,
   "id": "8991007a-7d1d-43a2-9fda-06bad577b5d0",
   "metadata": {},
   "outputs": [],
   "source": [
    "qz_inv_meters = ((4 * np.pi) / (wavelength)) * (np.sin(np.deg2rad(angles)))\n",
    "qz_inv_angstroms = qz_inv_meters / 1e10"
   ]
  },
  {
   "cell_type": "code",
   "execution_count": null,
   "id": "7a95a2e9-2060-4dec-a607-2dda84fd2be8",
   "metadata": {
    "tags": []
   },
   "outputs": [],
   "source": [
    "recip_DS"
   ]
  },
  {
   "cell_type": "code",
   "execution_count": null,
   "id": "2cd43835-2e0e-4cd9-b900-3c9fefa726d3",
   "metadata": {},
   "outputs": [],
   "source": [
    "def qz(wavelength, alpha_crit, alpha_incidents):\n",
    "    qz_inv_meters = ((4 * np.pi) / (wavelength)) * (np.sin(np.deg2rad((alpha_incidents + alpha_crit)/2)))\n",
    "    # qz_inv_meters = ((4 * np.pi) / (wavelength)) * (np.sin(np.deg2rad(alpha_crit)) + np.sin(np.deg2rad(alpha_incidents)))\n",
    "    qz_inv_angstroms = qz_inv_meters / 1e10\n",
    "    return qz_inv_angstroms\n",
    "\n",
    "\n",
    "# wavelength = 9.762535309700809e-11  # 12.7 keV\n",
    "wavelength = 9.184014698755575e-11  # 13.5 keV\n",
    "\n",
    "alpha_crit = 0.11  # organic film critical angle\n",
    "alpha_incidents = np.array([0.08, 0.11, 0.12, 0.15])\n",
    "\n",
    "yoneda_angles = alpha_incidents + alpha_crit\n",
    "\n",
    "qz(wavelength, alpha_crit, alpha_incidents)"
   ]
  },
  {
   "cell_type": "code",
   "execution_count": null,
   "id": "33d64c56-1910-4a5b-a2c3-2426bcc38fe1",
   "metadata": {},
   "outputs": [],
   "source": [
    "def select_attrs(data_arrays_iterable, selected_attrs_dict):\n",
    "    \"\"\"\n",
    "    Selects data arrays whose attributes match the specified values.\n",
    "\n",
    "    Parameters:\n",
    "    data_arrays_iterable: Iterable of xarray.DataArray objects.\n",
    "    selected_attrs_dict: Dictionary where keys are attribute names and \n",
    "                         values are the attributes' desired values.\n",
    "\n",
    "    Returns:\n",
    "    List of xarray.DataArray objects that match the specified attributes.\n",
    "    \"\"\"    \n",
    "    sublist = list(data_arrays_iterable)\n",
    "    \n",
    "    for attr_name, attr_values in selected_attrs_dict.items():\n",
    "        sublist = [da for da in sublist if da.attrs[attr_name] in attr_values]\n",
    "                \n",
    "    return sublist"
   ]
  },
  {
   "cell_type": "code",
   "execution_count": null,
   "id": "8d6cb4ca-21a1-40f8-aa84-c6031482d79a",
   "metadata": {
    "tags": []
   },
   "outputs": [],
   "source": [
    "%matplotlib inline"
   ]
  },
  {
   "cell_type": "code",
   "execution_count": null,
   "id": "2b0fc713-c02f-40e5-9335-5fa19ac48048",
   "metadata": {
    "tags": []
   },
   "outputs": [],
   "source": [
    "plt.close('all')\n",
    "\n",
    "# 2D reciprocal space cartesian plots\n",
    "qxy_min = -1.1\n",
    "qxy_max = 2.1\n",
    "qz_min = -0.2\n",
    "qz_max = 2.2\n",
    "\n",
    "selected_attrs_dict = {'sample_ID': ['AL26']}\n",
    "# selected_attrs_dict = {}\n",
    "\n",
    "selected_DAs = select_attrs(recip_DS.data_vars.values(), selected_attrs_dict)\n",
    "for DA in tqdm(selected_DAs):\n",
    "    # Slice data for selected q ranges (will need to rename q_xy if dimensions are differently named)\n",
    "    sliced_DA = DA.sel(q_xy=slice(qxy_min, qxy_max), q_z=slice(qz_min, qz_max))\n",
    "    \n",
    "    real_min = float(sliced_DA.compute().quantile(0.05))\n",
    "    cmin = 1 if real_min < 1 else real_min\n",
    "\n",
    "    cmax = float(sliced_DA.compute().quantile(0.997))   \n",
    "    \n",
    "    # Plot\n",
    "    ax = sliced_DA.plot.imshow(cmap=cmap, norm=plt.Normalize(cmin, cmax), interpolation='antialiased', figsize=(5.5,3.3))\n",
    "    ax.colorbar.set_label('Intensity [arb. units]', rotation=270, labelpad=15)\n",
    "    # ax.axes.set(aspect='equal', title=f'Cartesian Plot: {DA.material} {DA.solvent} {DA.rpm}, {float(DA.incident_angle[2:])}° Incidence',\n",
    "    #             xlabel='q$_{xy}$ [Å$^{-1}$]', ylabel='q$_z$ [Å$^{-1}$]')\n",
    "    ax.axes.set(aspect='equal', title=f'Cartesian Plot: {sn[DA.sample_ID]}, {float(DA.incident_angle[2:])}° Incidence',\n",
    "                xlabel='q$_{xy}$ [Å$^{-1}$]', ylabel='q$_z$ [Å$^{-1}$]')\n",
    "    ax.figure.set(tight_layout=True, dpi=130)\n",
    "    \n",
    "    # ax.figure.savefig(savePath.joinpath(f'{DA.material}-{DA.solvent}-{DA.rpm}_qxy{qxy_min}to{qxy_max}_qz{qz_min}to{qz_max}_{DA.incident_angle}.png'), dpi=150)\n",
    "    # ax.figure.savefig(savePath.joinpath(f'{DA.material}-{DA.solvent}_qxy{qxy_min}to{qxy_max}_qz{qz_min}to{qz_max}_{DA.incident_angle}.png'), dpi=150)\n",
    "\n",
    "    plt.show()\n",
    "    # plt.close('all')"
   ]
  },
  {
   "cell_type": "code",
   "execution_count": null,
   "id": "62260f97-d8e3-4dd2-8f11-1dea84dda9da",
   "metadata": {
    "tags": []
   },
   "outputs": [],
   "source": [
    "# Yoneda peak linecut check\n",
    "qxy_min = 0.22\n",
    "qxy_max = 2\n",
    "qz_min = -0.02\n",
    "qz_max = 0.06\n",
    "\n",
    "selected_DAs = select_attrs(fixed_recip_DS.data_vars.values(), selected_attrs_dict)\n",
    "for DA in tqdm(selected_DAs):\n",
    "    # Slice data for selected q ranges (will need to rename q_xy if dimensions are differently named)\n",
    "    sliced_DA = DA.sel(q_xy=slice(qxy_min, qxy_max), q_z=slice(qz_min, qz_max))\n",
    "    qz_integrated_DA = sliced_DA.sum('q_xy')\n",
    "    \n",
    "    # Plot\n",
    "    qz_integrated_DA.plot.line(label=DA.incident_angle)\n",
    "    \n",
    "plt.legend()\n",
    "plt.grid(visible=True, which='major', axis='x')\n",
    "plt.show()"
   ]
  },
  {
   "cell_type": "code",
   "execution_count": null,
   "id": "f466b4f1-1e6e-4154-9165-4a7d6915c184",
   "metadata": {
    "tags": []
   },
   "outputs": [],
   "source": [
    "chi_min = 60\n",
    "chi_max = None\n",
    "\n",
    "selected_DAs = select_attrs(fixed_caked_DS.data_vars.values(), selected_attrs_dict)\n",
    "for DA in tqdm(selected_DAs):\n",
    "    # Slice dataarray to select plotting region \n",
    "    sliced_DA = DA.sel(chi=slice(chi_min,chi_max))\n",
    "    \n",
    "    # real_min = float(DA.sel(q_xy=slice(-0.5, -0.1), q_z=slice(0.1, 0.4)).compute().quantile(1e-3))\n",
    "    real_min = float(DA.compute().quantile(0.05))\n",
    "    cmin = 1 if real_min < 1 else real_min\n",
    "    \n",
    "    # cmax = float(DA.sel(q_xy=slice(-0.5, -0.1), q_z=slice(0.1, 2)).compute().quantile(1))   \n",
    "    cmax = float(DA.compute().quantile(0.999))  \n",
    "    \n",
    "    # Plot sliced dataarray\n",
    "    ax = sliced_DA.plot.imshow(cmap=cmap, norm=plt.Normalize(cmin, 10), figsize=(5,4), interpolation='antialiased')  # plot, optional parameter interpolation='antialiased' for image smoothing\n",
    "    ax.colorbar.set_label('Intensity [arb. units]', rotation=270, labelpad=15)  # set colorbar label & parameters \n",
    "    ax.axes.set(title=f'Polar Plot: {DA.material} {DA.solvent}, {float(DA.incident_angle[2:])}° Incidence',\n",
    "                xlabel='q$_r$ [Å$^{-1}$]', ylabel='$\\chi$ [°]')  # set title, axis labels, misc\n",
    "    ax.figure.set(tight_layout=True, dpi=130)  # Adjust figure dpi & plotting style\n",
    "    \n",
    "    plt.show()  # Comment to mute plotting output\n",
    "    \n",
    "    # Uncomment below line and set savepath/savename for saving plots, I usually like to check \n",
    "    # ax.figure.savefig(outPath.joinpath('PM6-Y6set_waxs', f'polar-2D_{DA.sample_id}_{chi_min}to{chi_max}chi_{DA.incident_angle}.png'), dpi=150)\n",
    "    plt.close('all')"
   ]
  },
  {
   "cell_type": "code",
   "execution_count": null,
   "id": "43c9a438-7c01-49d5-88f6-41b1ff42bf60",
   "metadata": {},
   "outputs": [],
   "source": [
    "fixed_recip_DS.to_zarr(savePath.joinpath('fix_recip_stitched.zarr'), mode='w')"
   ]
  },
  {
   "cell_type": "code",
   "execution_count": null,
   "id": "cda5e485-8870-41c2-a63e-6490ab3648a2",
   "metadata": {},
   "outputs": [],
   "source": [
    "fixed_raw_DS.to_zarr(savePath.joinpath('fix_raw_stitched.zarr'), mode='w')"
   ]
  },
  {
   "cell_type": "code",
   "execution_count": null,
   "id": "fd28f9fb-511b-4ac2-815e-a46f3a410dee",
   "metadata": {},
   "outputs": [],
   "source": [
    "fixed_caked_DS.to_zarr(savePath.joinpath('fix_caked_stitched.zarr'), mode='w')"
   ]
  },
  {
   "cell_type": "code",
   "execution_count": null,
   "id": "570b606b-d899-48e8-b094-c3f2e1a7014e",
   "metadata": {
    "tags": []
   },
   "outputs": [],
   "source": [
    "variable_raw_DS, variable_recip_DS, variable_caked_DS = phs.GIWAXS.single_images_to_dataset(variable_rpm_set, variable_rpm_loader, transformer)"
   ]
  },
  {
   "cell_type": "code",
   "execution_count": null,
   "id": "63f31c7a-c321-43da-9c39-4497eb18fda6",
   "metadata": {},
   "outputs": [],
   "source": [
    "variable_recip_DS.to_zarr(savePath.joinpath('var_recip_stitched.zarr'), mode='w')"
   ]
  },
  {
   "cell_type": "code",
   "execution_count": null,
   "id": "be7b1168-9c50-4714-bdc0-77cbe51e38c3",
   "metadata": {},
   "outputs": [],
   "source": [
    "variable_raw_DS.to_zarr(savePath.joinpath('var_raw_stitched.zarr'), mode='w')"
   ]
  },
  {
   "cell_type": "code",
   "execution_count": null,
   "id": "5eca41f5-09d4-4953-a45e-bcd4e4fbcd81",
   "metadata": {},
   "outputs": [],
   "source": [
    "variable_caked_DS.to_zarr(savePath.joinpath('var_caked_stitched.zarr'), mode='w')"
   ]
  },
  {
   "cell_type": "code",
   "execution_count": null,
   "id": "02c33b02-daf7-48b6-9471-4c701ee53f10",
   "metadata": {},
   "outputs": [],
   "source": []
  }
 ],
 "metadata": {
  "kernelspec": {
   "display_name": "nrss",
   "language": "python",
   "name": "nrss"
  },
  "language_info": {
   "codemirror_mode": {
    "name": "ipython",
    "version": 3
   },
   "file_extension": ".py",
   "mimetype": "text/x-python",
   "name": "python",
   "nbconvert_exporter": "python",
   "pygments_lexer": "ipython3",
   "version": "3.9.0"
  }
 },
 "nbformat": 4,
 "nbformat_minor": 5
}
