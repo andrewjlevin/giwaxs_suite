{
 "cells": [
  {
   "cell_type": "markdown",
   "id": "b3c13da0-ce45-4653-9fb2-5f71078d5a36",
   "metadata": {},
   "source": [
    "# CMS ex situ GIWAXS 2023C3\n",
    "\n",
    "# CMS GIWAXS raw data processing & exporting notebook\n",
    "In this notebook you output xr.DataSets stored as .zarr stores containing all your raw,\n",
    "remeshed (reciprocal space), and caked CMS GIWAXS data. Saving as a zarr automatically converts the array to a dask array"
   ]
  },
  {
   "cell_type": "code",
   "execution_count": null,
   "id": "890da6d6-cd22-4687-a4e8-1166e36cb22d",
   "metadata": {
    "scrolled": true,
    "tags": []
   },
   "outputs": [],
   "source": [
    "### Kernel updates if needed, remember to restart kernel after running this cell!:\n",
    "!pip install -e /nsls2/users/alevin/repos/PyHyperScattering  # to use pip to install via directory"
   ]
  },
  {
   "cell_type": "markdown",
   "id": "96625ca6-7ec2-4690-bf01-72b422801f76",
   "metadata": {},
   "source": [
    "## Imports"
   ]
  },
  {
   "cell_type": "code",
   "execution_count": null,
   "id": "dd667c0e-baba-4a5d-857a-ca8bd5ce1407",
   "metadata": {},
   "outputs": [],
   "source": [
    "### Imports:\n",
    "import pathlib\n",
    "import numpy as np\n",
    "import matplotlib.pyplot as plt\n",
    "from matplotlib.colors import LogNorm\n",
    "import xarray as xr\n",
    "import PyHyperScattering as phs\n",
    "import pygix\n",
    "import gc\n",
    "from tqdm.auto import tqdm  # progress bar loader!\n",
    "\n",
    "print(f'Using PyHyperScattering Version: {phs.__version__}')"
   ]
  },
  {
   "cell_type": "markdown",
   "id": "7dffa6de-0360-4fcb-b0bf-f320927837d0",
   "metadata": {
    "tags": []
   },
   "source": [
    "## Defining some objects"
   ]
  },
  {
   "cell_type": "markdown",
   "id": "b36b6f6c-4643-46b3-9784-9a6071c754ba",
   "metadata": {},
   "source": [
    "### Define & check paths"
   ]
  },
  {
   "cell_type": "code",
   "execution_count": null,
   "id": "d97aee8c-7d57-489b-854c-03cb6aab2154",
   "metadata": {},
   "outputs": [],
   "source": [
    "pix_size = 0.000172\n",
    "673 * pix_size"
   ]
  },
  {
   "cell_type": "code",
   "execution_count": null,
   "id": "b297c4e9-7d7f-4532-8d7f-78205f6b8e3e",
   "metadata": {
    "tags": []
   },
   "outputs": [],
   "source": [
    "0.1097360 / 0.000172"
   ]
  },
  {
   "cell_type": "code",
   "execution_count": null,
   "id": "8db0fc93-6739-457a-a7fe-ba695bb41716",
   "metadata": {},
   "outputs": [],
   "source": [
    "# I like pathlib for its readability & checkability, it's also necessary for the loadSeries function later on\n",
    "# Replace the paths with the ones relevant to your data, you can use the \".exists()\" method to make sure you defined a path correctly\n",
    "userPath = pathlib.Path('/nsls2/users/alevin')\n",
    "propPath = pathlib.Path('/nsls2/data/cms/proposals/2023-3/pass-311415')\n",
    "dataPath = propPath.joinpath('AL_processed_data/KWhite2/waxs')\n",
    "rawPath = dataPath.joinpath('raw')\n",
    "samplesPath = dataPath.joinpath('stitched')\n",
    "calibPath = rawPath.joinpath('AgBH_cali_5m_12.7kev_x0.000_th0.000_10.00s_1307208_waxs.tiff')\n",
    "maskponiPath = propPath.joinpath('AL_processed_data/maskponi')  # place for pyhyper-drawn masks and poni files\n",
    "\n",
    "outPath = propPath.joinpath('AL_processed_data')\n",
    "\n",
    "# Select poni & mask filepaths\n",
    "poniFile = maskponiPath.joinpath('CeO2_2023-12-03_y673_x464p3.poni')\n",
    "# maskFile = maskponiPath.joinpath('blank.json')\n",
    "maskFile = maskponiPath.joinpath('pilatus1m_vertical_gaps_only.json')\n",
    "\n",
    "# Create pg Transform objects with the above information:\n",
    "# Can set the energy to overwrite default poni energy, this MUST be correct for your samples!\n",
    "pg_transformer = phs.GIWAXS.Transform(poniPath=poniFile, maskPath=None, energy=12.7)\n",
    "\n",
    "# Colormap\n",
    "cmap = plt.cm.turbo\n",
    "cmap.set_bad('black')"
   ]
  },
  {
   "cell_type": "code",
   "execution_count": null,
   "id": "e2d7ba44-ea07-487f-975b-443821081be9",
   "metadata": {},
   "outputs": [],
   "source": [
    "def poni_centers(poniFile, pix_size=0.000172):\n",
    "    \"\"\"\n",
    "    Returns poni center value and the corresponding pixel position. Default pixel size is 172 microns (Pilatus 1M)\n",
    "    \n",
    "    Inputs: poniFile as pathlib path object to the poni file\n",
    "    Outputs: ((poni1, y_center), (poni2, x_center))\n",
    "    \"\"\"\n",
    "    \n",
    "    with poniFile.open('r') as f:\n",
    "        lines = list(f.readlines())\n",
    "    poni1_str = lines[6]\n",
    "    poni2_str = lines[7]\n",
    "\n",
    "    poni1 = float(poni1_str.split(' ')[1])\n",
    "    poni2 = float(poni2_str.split(' ')[1])\n",
    "\n",
    "    y_center = poni1 / pix_size\n",
    "    x_center = poni2 / pix_size\n",
    "        \n",
    "    return ((poni1, y_center), (poni2, x_center))\n",
    "\n",
    "poni_centers(poniFile)"
   ]
  },
  {
   "cell_type": "markdown",
   "id": "c1840638-1577-4dea-8819-ffb69d6f80b8",
   "metadata": {},
   "source": [
    "### Define metadata naming scheme & initialize loaders"
   ]
  },
  {
   "cell_type": "code",
   "execution_count": null,
   "id": "40c59ce5-ea98-4f71-a9ef-c7bb46ce42e4",
   "metadata": {
    "tags": []
   },
   "outputs": [],
   "source": [
    "[f.name for f in sorted(samplesPath.glob('*pos1*'))]"
   ]
  },
  {
   "cell_type": "code",
   "execution_count": null,
   "id": "f62475f0-7d1b-4dba-9a9e-322832f0a6a2",
   "metadata": {
    "tags": []
   },
   "outputs": [],
   "source": [
    "[len(f.name.split('_')) for f in sorted(samplesPath.glob('*pos1*'))]"
   ]
  },
  {
   "cell_type": "code",
   "execution_count": null,
   "id": "3305242a-1855-4682-aaa9-8df2d280c89f",
   "metadata": {
    "tags": []
   },
   "outputs": [],
   "source": [
    "[f.name for f in sorted(samplesPath.glob('*pos1*')) if len(f.name.split('_'))==9]"
   ]
  },
  {
   "cell_type": "code",
   "execution_count": null,
   "id": "b209cf8a-6498-4398-8365-296dd80c6779",
   "metadata": {
    "tags": []
   },
   "outputs": [],
   "source": [
    "fixed_rpm_set = [f for f in sorted(samplesPath.glob('*')) if len(f.name.split('_'))==9]\n",
    "variable_rpm_set = [f for f in sorted(samplesPath.glob('*')) if len(f.name.split('_'))==10]"
   ]
  },
  {
   "cell_type": "code",
   "execution_count": null,
   "id": "f9e825cf-b023-4199-91bc-e973887ae389",
   "metadata": {},
   "outputs": [],
   "source": [
    "len(fixed_rpm_set)"
   ]
  },
  {
   "cell_type": "code",
   "execution_count": null,
   "id": "c493e4ce-e22c-435d-8e0e-c80253f9420c",
   "metadata": {},
   "outputs": [],
   "source": [
    "len(variable_rpm_set)"
   ]
  },
  {
   "cell_type": "code",
   "execution_count": null,
   "id": "fdd31494-d2e4-43d7-adce-d31098c55edb",
   "metadata": {},
   "outputs": [],
   "source": [
    "# set ex situ metadata filename naming schemes:\n",
    "fixed_rpm_md_naming_scheme =    ['project', 'material', 'solvent', 'detector_pos', 'sample_pos', \n",
    "                                 'incident_angle', 'exposure_time', 'scan_id', 'detector']\n",
    "variable_rpm_md_naming_scheme = ['project', 'material', 'solvent', 'rpm', 'detector_pos', 'sample_pos', \n",
    "                                 'incident_angle', 'exposure_time', 'scan_id', 'detector']\n",
    "\n",
    "# Initalize CMSGIWAXSLoader objects with the above naming schemes\n",
    "fixed_rpm_loader = phs.load.CMSGIWAXSLoader(md_naming_scheme=fixed_rpm_md_naming_scheme)\n",
    "variable_rpm_loader = phs.load.CMSGIWAXSLoader(md_naming_scheme=variable_rpm_md_naming_scheme)"
   ]
  },
  {
   "cell_type": "markdown",
   "id": "89d72a19-8729-4ebd-914a-9cba20016a72",
   "metadata": {
    "tags": []
   },
   "source": [
    "## Data processing\n",
    "Break this section up however makes sense for your data"
   ]
  },
  {
   "cell_type": "code",
   "execution_count": null,
   "id": "0627327e-f0dd-444d-b643-cd40969ba7b6",
   "metadata": {},
   "outputs": [],
   "source": [
    "loader = phs.load.CMSGIWAXSLoader()\n",
    "# calibPath = pathlib.Path('/nsls2/data/cms/proposals/2023-2/pass-311415/KWhite5/maxs/raw/LaB6_5.6m_12.7keV_4250.1s_x0.001_th0.120_10.00s_1118442_maxs.tiff')\n",
    "calib_DA = loader.loadSingleImage(calibPath)  # Loads the file specified at calibPath into an xr.DataArray object"
   ]
  },
  {
   "cell_type": "code",
   "execution_count": null,
   "id": "9bdaf35c-1608-4290-a8d6-94a9981268df",
   "metadata": {},
   "outputs": [],
   "source": [
    "savePath = outPath.joinpath('zarrs/bcy673')"
   ]
  },
  {
   "cell_type": "code",
   "execution_count": null,
   "id": "b9f42ff5-d8ba-4bf3-b551-ee726e750e06",
   "metadata": {
    "tags": []
   },
   "outputs": [],
   "source": [
    "# Load a mask as np.array (can use any method)\n",
    "draw = phs.IntegrationUtils.DrawMask(calib_DA)\n",
    "draw.load(maskFile)\n",
    "\n",
    "mask = draw.mask  # Loads mask as numpy array\n",
    "\n",
    "# Show np.array mask:\n",
    "plt.imshow(mask)\n",
    "plt.colorbar()\n",
    "\n",
    "# Initialize a transformer:\n",
    "transformer = phs.GIWAXS.Transform(poniPath=poniFile, maskPath=maskFile, energy=12.7)\n",
    "# transformer = phs.GIWAXS.Transform(poniPath=poniFile, maskPath=mask, energy=12.7)"
   ]
  },
  {
   "cell_type": "code",
   "execution_count": null,
   "id": "4970963d",
   "metadata": {
    "scrolled": true,
    "tags": []
   },
   "outputs": [],
   "source": [
    "fixed_raw_DS, fixed_recip_DS, fixed_caked_DS = phs.GIWAXS.single_images_to_dataset(fixed_rpm_set, fixed_rpm_loader, transformer) "
   ]
  },
  {
   "cell_type": "markdown",
   "id": "d3c0c38b-ddf4-454e-b5b4-3439be569cab",
   "metadata": {
    "tags": []
   },
   "source": [
    "#### Yoneda check:"
   ]
  },
  {
   "cell_type": "code",
   "execution_count": null,
   "id": "f9e87cae-9747-419a-a3f7-18ec5c9f3ec6",
   "metadata": {},
   "outputs": [],
   "source": [
    "yoneda_angles"
   ]
  },
  {
   "cell_type": "code",
   "execution_count": null,
   "id": "8991007a-7d1d-43a2-9fda-06bad577b5d0",
   "metadata": {},
   "outputs": [],
   "source": [
    "qz_inv_meters = ((4 * np.pi) / (wavelength)) * (np.sin(np.deg2rad(angles)))\n",
    "qz_inv_angstroms = qz_inv_meters / 1e10"
   ]
  },
  {
   "cell_type": "code",
   "execution_count": null,
   "id": "2cd43835-2e0e-4cd9-b900-3c9fefa726d3",
   "metadata": {},
   "outputs": [],
   "source": [
    "def qz(wavelength, alpha_crit, alpha_incidents):\n",
    "    qz_inv_meters = ((4 * np.pi) / (wavelength)) * (np.sin(np.deg2rad((alpha_incidents + alpha_crit)/2)))\n",
    "    # qz_inv_meters = ((4 * np.pi) / (wavelength)) * (np.sin(np.deg2rad(alpha_crit)) + np.sin(np.deg2rad(alpha_incidents)))\n",
    "    qz_inv_angstroms = qz_inv_meters / 1e10\n",
    "    return qz_inv_angstroms\n",
    "\n",
    "\n",
    "wavelength = 9.762535309700809e-11  # 12.7 keV\n",
    "\n",
    "alpha_crit = 0.11  # organic film critical angle\n",
    "alpha_incidents = np.array([0.08, 0.1, 0.12, 0.15])\n",
    "\n",
    "yoneda_angles = alpha_incidents + alpha_crit\n",
    "\n",
    "qz(wavelength, alpha_crit, alpha_incidents)"
   ]
  },
  {
   "cell_type": "code",
   "execution_count": null,
   "id": "33d64c56-1910-4a5b-a2c3-2426bcc38fe1",
   "metadata": {},
   "outputs": [],
   "source": [
    "def select_attrs(data_arrays_iterable, selected_attrs_dict):\n",
    "    \"\"\"\n",
    "    Selects data arrays whose attributes match the specified values.\n",
    "\n",
    "    Parameters:\n",
    "    data_arrays_iterable: Iterable of xarray.DataArray objects.\n",
    "    selected_attrs_dict: Dictionary where keys are attribute names and \n",
    "                         values are the attributes' desired values.\n",
    "\n",
    "    Returns:\n",
    "    List of xarray.DataArray objects that match the specified attributes.\n",
    "    \"\"\"    \n",
    "    sublist = list(data_arrays_iterable)\n",
    "    \n",
    "    for attr_name, attr_values in selected_attrs_dict.items():\n",
    "        sublist = [da for da in sublist if da.attrs[attr_name] in attr_values]\n",
    "                \n",
    "    return sublist"
   ]
  },
  {
   "cell_type": "code",
   "execution_count": null,
   "id": "2b0fc713-c02f-40e5-9335-5fa19ac48048",
   "metadata": {
    "tags": []
   },
   "outputs": [],
   "source": [
    "# 2D reciprocal space cartesian plots\n",
    "qxy_min = -1.1\n",
    "qxy_max = 2.1\n",
    "qz_min = -0.01\n",
    "qz_max = 2.2\n",
    "\n",
    "selected_attrs_dict = {'material': ['PM6'], 'solvent': ['CBCN']}\n",
    "# selected_attrs_dict = {}\n",
    "\n",
    "selected_DAs = select_attrs(fixed_recip_DS.data_vars.values(), selected_attrs_dict)\n",
    "for DA in tqdm(selected_DAs):\n",
    "    # Slice data for selected q ranges (will need to rename q_xy if dimensions are differently named)\n",
    "    sliced_DA = DA.sel(q_xy=slice(qxy_min, qxy_max), q_z=slice(qz_min, qz_max))\n",
    "    \n",
    "    real_min = float(sliced_DA.compute().quantile(0.05))\n",
    "    cmin = 1 if real_min < 1 else real_min\n",
    "\n",
    "    cmax = float(sliced_DA.compute().quantile(0.997))   \n",
    "    \n",
    "    # Plot\n",
    "    ax = sliced_DA.plot.imshow(cmap=cmap, norm=plt.Normalize(cmin, cmax), interpolation='antialiased', figsize=(5.5,3.3))\n",
    "    ax.colorbar.set_label('Intensity [arb. units]', rotation=270, labelpad=15)\n",
    "    # ax.axes.set(aspect='equal', title=f'Cartesian Plot: {DA.material} {DA.solvent} {DA.rpm}, {float(DA.incident_angle[2:])}° Incidence',\n",
    "    #             xlabel='q$_{xy}$ [Å$^{-1}$]', ylabel='q$_z$ [Å$^{-1}$]')\n",
    "    ax.axes.set(aspect='equal', title=f'Cartesian Plot: {DA.material} {DA.solvent}, {float(DA.incident_angle[2:])}° Incidence',\n",
    "                xlabel='q$_{xy}$ [Å$^{-1}$]', ylabel='q$_z$ [Å$^{-1}$]')\n",
    "    ax.figure.set(tight_layout=True, dpi=130)\n",
    "    \n",
    "    # ax.figure.savefig(savePath.joinpath(f'{DA.material}-{DA.solvent}-{DA.rpm}_qxy{qxy_min}to{qxy_max}_qz{qz_min}to{qz_max}_{DA.incident_angle}.png'), dpi=150)\n",
    "    # ax.figure.savefig(savePath.joinpath(f'{DA.material}-{DA.solvent}_qxy{qxy_min}to{qxy_max}_qz{qz_min}to{qz_max}_{DA.incident_angle}.png'), dpi=150)\n",
    "\n",
    "    plt.show()\n",
    "    plt.close('all')"
   ]
  },
  {
   "cell_type": "code",
   "execution_count": null,
   "id": "62260f97-d8e3-4dd2-8f11-1dea84dda9da",
   "metadata": {
    "tags": []
   },
   "outputs": [],
   "source": [
    "# Yoneda peak linecut check\n",
    "qxy_min = 0.22\n",
    "qxy_max = 2\n",
    "qz_min = -0.02\n",
    "qz_max = 0.06\n",
    "\n",
    "selected_DAs = select_attrs(fixed_recip_DS.data_vars.values(), selected_attrs_dict)\n",
    "for DA in tqdm(selected_DAs):\n",
    "    # Slice data for selected q ranges (will need to rename q_xy if dimensions are differently named)\n",
    "    sliced_DA = DA.sel(q_xy=slice(qxy_min, qxy_max), q_z=slice(qz_min, qz_max))\n",
    "    qz_integrated_DA = sliced_DA.sum('q_xy')\n",
    "    \n",
    "    # Plot\n",
    "    qz_integrated_DA.plot.line(label=DA.incident_angle)\n",
    "    \n",
    "plt.legend()\n",
    "plt.grid(visible=True, which='major', axis='x')\n",
    "plt.show()"
   ]
  },
  {
   "cell_type": "code",
   "execution_count": null,
   "id": "f466b4f1-1e6e-4154-9165-4a7d6915c184",
   "metadata": {
    "tags": []
   },
   "outputs": [],
   "source": [
    "chi_min = 60\n",
    "chi_max = None\n",
    "\n",
    "selected_DAs = select_attrs(fixed_caked_DS.data_vars.values(), selected_attrs_dict)\n",
    "for DA in tqdm(selected_DAs):\n",
    "    # Slice dataarray to select plotting region \n",
    "    sliced_DA = DA.sel(chi=slice(chi_min,chi_max))\n",
    "    \n",
    "    # real_min = float(DA.sel(q_xy=slice(-0.5, -0.1), q_z=slice(0.1, 0.4)).compute().quantile(1e-3))\n",
    "    real_min = float(DA.compute().quantile(0.05))\n",
    "    cmin = 1 if real_min < 1 else real_min\n",
    "    \n",
    "    # cmax = float(DA.sel(q_xy=slice(-0.5, -0.1), q_z=slice(0.1, 2)).compute().quantile(1))   \n",
    "    cmax = float(DA.compute().quantile(0.999))  \n",
    "    \n",
    "    # Plot sliced dataarray\n",
    "    ax = sliced_DA.plot.imshow(cmap=cmap, norm=plt.Normalize(cmin, 10), figsize=(5,4), interpolation='antialiased')  # plot, optional parameter interpolation='antialiased' for image smoothing\n",
    "    ax.colorbar.set_label('Intensity [arb. units]', rotation=270, labelpad=15)  # set colorbar label & parameters \n",
    "    ax.axes.set(title=f'Polar Plot: {DA.material} {DA.solvent}, {float(DA.incident_angle[2:])}° Incidence',\n",
    "                xlabel='q$_r$ [Å$^{-1}$]', ylabel='$\\chi$ [°]')  # set title, axis labels, misc\n",
    "    ax.figure.set(tight_layout=True, dpi=130)  # Adjust figure dpi & plotting style\n",
    "    \n",
    "    plt.show()  # Comment to mute plotting output\n",
    "    \n",
    "    # Uncomment below line and set savepath/savename for saving plots, I usually like to check \n",
    "    # ax.figure.savefig(outPath.joinpath('PM6-Y6set_waxs', f'polar-2D_{DA.sample_id}_{chi_min}to{chi_max}chi_{DA.incident_angle}.png'), dpi=150)\n",
    "    plt.close('all')"
   ]
  },
  {
   "cell_type": "code",
   "execution_count": null,
   "id": "43c9a438-7c01-49d5-88f6-41b1ff42bf60",
   "metadata": {},
   "outputs": [],
   "source": [
    "fixed_recip_DS.to_zarr(savePath.joinpath('fix_recip_stitched.zarr'), mode='w')"
   ]
  },
  {
   "cell_type": "code",
   "execution_count": null,
   "id": "cda5e485-8870-41c2-a63e-6490ab3648a2",
   "metadata": {},
   "outputs": [],
   "source": [
    "fixed_raw_DS.to_zarr(savePath.joinpath('fix_raw_stitched.zarr'), mode='w')"
   ]
  },
  {
   "cell_type": "code",
   "execution_count": null,
   "id": "fd28f9fb-511b-4ac2-815e-a46f3a410dee",
   "metadata": {},
   "outputs": [],
   "source": [
    "fixed_caked_DS.to_zarr(savePath.joinpath('fix_caked_stitched.zarr'), mode='w')"
   ]
  },
  {
   "cell_type": "code",
   "execution_count": null,
   "id": "570b606b-d899-48e8-b094-c3f2e1a7014e",
   "metadata": {
    "scrolled": true,
    "tags": []
   },
   "outputs": [],
   "source": [
    "variable_raw_DS, variable_recip_DS, variable_caked_DS = phs.GIWAXS.single_images_to_dataset(variable_rpm_set, variable_rpm_loader, transformer)"
   ]
  },
  {
   "cell_type": "code",
   "execution_count": null,
   "id": "63f31c7a-c321-43da-9c39-4497eb18fda6",
   "metadata": {},
   "outputs": [],
   "source": [
    "variable_recip_DS.to_zarr(savePath.joinpath('var_recip_stitched.zarr'), mode='w')"
   ]
  },
  {
   "cell_type": "code",
   "execution_count": null,
   "id": "be7b1168-9c50-4714-bdc0-77cbe51e38c3",
   "metadata": {},
   "outputs": [],
   "source": [
    "variable_raw_DS.to_zarr(savePath.joinpath('var_raw_stitched.zarr'), mode='w')"
   ]
  },
  {
   "cell_type": "code",
   "execution_count": null,
   "id": "5eca41f5-09d4-4953-a45e-bcd4e4fbcd81",
   "metadata": {},
   "outputs": [],
   "source": [
    "variable_caked_DS.to_zarr(savePath.joinpath('var_caked_stitched.zarr'), mode='w')"
   ]
  },
  {
   "cell_type": "code",
   "execution_count": null,
   "id": "02c33b02-daf7-48b6-9471-4c701ee53f10",
   "metadata": {},
   "outputs": [],
   "source": []
  }
 ],
 "metadata": {
  "kernelspec": {
   "display_name": "Python 3 (ipykernel)",
   "language": "python",
   "name": "python3"
  },
  "language_info": {
   "codemirror_mode": {
    "name": "ipython",
    "version": 3
   },
   "file_extension": ".py",
   "mimetype": "text/x-python",
   "name": "python",
   "nbconvert_exporter": "python",
   "pygments_lexer": "ipython3",
   "version": "3.11.6"
  }
 },
 "nbformat": 4,
 "nbformat_minor": 5
}
