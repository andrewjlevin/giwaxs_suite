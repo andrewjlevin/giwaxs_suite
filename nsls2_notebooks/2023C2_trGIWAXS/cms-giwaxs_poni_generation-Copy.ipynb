{
 "cells": [
  {
   "cell_type": "markdown",
   "id": "b3c13da0-ce45-4653-9fb2-5f71078d5a36",
   "metadata": {
    "tags": []
   },
   "source": [
    "# CMS GIWAXS mask & .poni generation notebook"
   ]
  },
  {
   "cell_type": "code",
   "execution_count": null,
   "id": "890da6d6-cd22-4687-a4e8-1166e36cb22d",
   "metadata": {
    "tags": []
   },
   "outputs": [],
   "source": [
    "# Kernel updates if needed, remember to restart the kernel after running this cell!:\n",
    "!pip install -e /nsls2/users/alevin/repos/PyHyperScattering  # to use pip to install via directory"
   ]
  },
  {
   "cell_type": "markdown",
   "id": "96625ca6-7ec2-4690-bf01-72b422801f76",
   "metadata": {},
   "source": [
    "## Imports"
   ]
  },
  {
   "cell_type": "code",
   "execution_count": null,
   "id": "dd667c0e-baba-4a5d-857a-ca8bd5ce1407",
   "metadata": {},
   "outputs": [],
   "source": [
    "# Imports:\n",
    "import pathlib\n",
    "import numpy as np\n",
    "import matplotlib.pyplot as plt\n",
    "from matplotlib.colors import LogNorm\n",
    "import PyHyperScattering as phs\n",
    "import pyFAI\n",
    "from pyFAI.gui import jupyter\n",
    "from pyFAI.gui.jupyter.calib import Calibration\n",
    "import pygix\n",
    "\n",
    "print(f'Using PyHyperScattering Version: {phs.__version__}')\n",
    "print(f\"Using pyFAI version {pyFAI.version}\")\n",
    "\n",
    "# Initialize a giwaxs data loader without any metadata naming scheme\n",
    "loader = phs.load.CMSGIWAXSLoader()"
   ]
  },
  {
   "cell_type": "markdown",
   "id": "51514dec-8021-4932-b3d0-9ef35aa09a8b",
   "metadata": {},
   "source": [
    "## Define paths & show calibration file"
   ]
  },
  {
   "cell_type": "code",
   "execution_count": null,
   "id": "8db0fc93-6739-457a-a7fe-ba695bb41716",
   "metadata": {},
   "outputs": [],
   "source": [
    "# Define paths\n",
    "userPath = pathlib.Path('/nsls2/users/alevin')\n",
    "propPath = pathlib.Path('/nsls2/data/cms/proposals/2023-2/pass-311415')\n",
    "dataPath = propPath.joinpath('KWhite5')\n",
    "calibPath = dataPath.joinpath('maxs/raw/LaB6_5.6m_12.7keV_4250.1s_x0.001_th0.120_10.00s_1118442_maxs.tiff')\n",
    "maskponiPath = userPath.joinpath('giwaxs_suite/beamline_data/maskponi')  # place for pyhyper-drawn masks and poni files\n",
    "\n",
    "# Load calibration file\n",
    "LaB6_DA = loader.loadSingleImage(calibPath)  # Loads the file specified at calibPath into an xr.DataArray object\n",
    "energy = 13.5  # keV\n",
    "\n",
    "# Plot \n",
    "cmap = plt.cm.viridis.copy()  # Set a colormap, here I've chosen viridis\n",
    "cmap.set_bad('black')  # Set the color for the detector gaps\n",
    "clim=(6e1, 1e3)  # Specify color limits\n",
    "\n",
    "ax = LaB6_DA.plot.imshow(norm=LogNorm(clim[0], clim[1]), cmap=cmap, figsize=(5,4), origin='upper')\n",
    "ax.axes.set(aspect='equal', title=f\"LaB6, Energy = {energy} keV\")\n",
    "ax.figure.set(dpi=120)\n",
    "plt.show()"
   ]
  },
  {
   "cell_type": "markdown",
   "id": "c44a8a03-244a-4cf8-b3a3-e6cfb7121df7",
   "metadata": {
    "tags": []
   },
   "source": [
    "## Draw mask:"
   ]
  },
  {
   "cell_type": "code",
   "execution_count": null,
   "id": "42dd5201-6f99-4765-a7f3-0bb92530a143",
   "metadata": {
    "tags": []
   },
   "outputs": [],
   "source": [
    "# Draw mask\n",
    "draw = phs.IntegrationUtils.DrawMask(LaB6_DA, clim=clim)\n",
    "draw.ui()"
   ]
  },
  {
   "cell_type": "code",
   "execution_count": null,
   "id": "1a32e6ec-a666-4804-b385-07fee83f8121",
   "metadata": {
    "tags": []
   },
   "outputs": [],
   "source": [
    "# Save drawn mask above\n",
    "draw.save(maskponiPath.joinpath('LaB6.json'))\n",
    "# draw.load(maskponiPath.joinpath('LaB6.json'))\n",
    "mask = draw.mask  # Loads mask as numpy array\n",
    "\n",
    "# Plot it over calibrant image to check\n",
    "ax = LaB6_DA.plot.imshow(norm=LogNorm(clim[0], clim[1]), cmap=cmap, figsize=(5,4), origin='upper')\n",
    "ax.axes.imshow(mask, alpha=0.5)\n",
    "ax.axes.set(aspect='equal', title=f\"LaB6, Energy = {energy} keV\")\n",
    "ax.figure.set(dpi=120)\n",
    "plt.show()"
   ]
  },
  {
   "cell_type": "markdown",
   "id": "ea514a60-05d4-4927-921a-19b68bd72ddf",
   "metadata": {
    "tags": []
   },
   "source": [
    "## Run pyFAI calibration:"
   ]
  },
  {
   "cell_type": "markdown",
   "id": "50090803-2eda-4991-a5b6-1966a96c4388",
   "metadata": {},
   "source": [
    "### PyFAI calibration widget"
   ]
  },
  {
   "cell_type": "code",
   "execution_count": null,
   "id": "ad516641-dbdf-4f6f-b281-dea4858f82b4",
   "metadata": {},
   "outputs": [],
   "source": [
    "# Set matplotlib backend to 'widget':\n",
    "%matplotlib widget"
   ]
  },
  {
   "cell_type": "code",
   "execution_count": null,
   "id": "1c49bc7b-b177-4fbe-9ab3-48badbe4fc16",
   "metadata": {
    "tags": []
   },
   "outputs": [],
   "source": [
    "# Open & run calibration widget\n",
    "plt.close('all')\n",
    "LaB6_da = loader.loadSingleImage(calibPath)  # This is needed if you did not execute the above cells for masking\n",
    "wavelength = np.round((4.1357e-15*2.99792458e8)/(energy*1000), 13)  # Important to be correct! Make sure the energy is in keV and correct!\n",
    "pilatus = pyFAI.detector_factory('Pilatus1M')\n",
    "LaB6 = pyFAI.calibrant.CALIBRANT_FACTORY(\"LaB6\")\n",
    "LaB6.wavelength = wavelength\n",
    "\n",
    "calib = Calibration(LaB6_da.data, calibrant=LaB6, wavelength=wavelength, detector=pilatus)"
   ]
  },
  {
   "cell_type": "markdown",
   "id": "94513d4a-0f10-4c77-9a1b-059184f5b1fe",
   "metadata": {},
   "source": [
    "### Modifying & saving poni"
   ]
  },
  {
   "cell_type": "code",
   "execution_count": null,
   "id": "20d060b7-a69e-49b5-878d-dec71496c653",
   "metadata": {
    "tags": []
   },
   "outputs": [],
   "source": [
    "### Check & save .poni\n",
    "gr = calib.geoRef\n",
    "print(gr)\n",
    "print(calib.fixed)\n",
    "print(gr.chi2())\n",
    "# gr.save(maskponiPath.joinpath('LaB6_unfixed_rot_2023-07-15.poni'))"
   ]
  },
  {
   "cell_type": "code",
   "execution_count": null,
   "id": "0ee9e836-9bd4-41c6-9721-df18f44d54eb",
   "metadata": {
    "tags": []
   },
   "outputs": [],
   "source": [
    "# Optional fit with rotations fixed to 0\n",
    "# Likely the best fit for transmission geometry\n",
    "gr = calib.geoRef\n",
    "gr.rot1=gr.rot2=gr.rot3=0\n",
    "# # gr.center_array=[517, 654.47]\n",
    "center_x = 517.2\n",
    "# center_y = 654\n",
    "gr.poni2 = center_x * gr.pixel1\n",
    "# gr.poni1 = center_y * gr.pixel1\n",
    "# gr.set_dist = 2.837\n",
    "gr.refine3(fix=['wavelength', 'rot1', 'rot2', 'rot3', 'poni2'])\n",
    "# gr.refine3(fix=['wavelength', 'rot1', 'rot2', 'rot3'])\n",
    "print(gr.chi2())\n",
    "print(gr)\n",
    "gr.save(maskponiPath.joinpath(f'LaB6_fixed_rot_x{center_x}.poni'))"
   ]
  },
  {
   "cell_type": "markdown",
   "id": "f7b108dc-e11a-4de5-84b9-fb81c923c462",
   "metadata": {},
   "source": [
    "### Calibrant check"
   ]
  },
  {
   "cell_type": "code",
   "execution_count": null,
   "id": "2b187cdc-d0f3-4d86-b115-a1b78507200c",
   "metadata": {
    "tags": []
   },
   "outputs": [],
   "source": [
    "# Turn matplotlib backend back to inline mode & clear open widget plots\n",
    "%matplotlib inline  \n",
    "plt.close('all')\n",
    "\n",
    "# This verifies that the calibration is good (overlays expected calibrant peaks with reduced data)\n",
    "# azimuthal integrator tool in pyFAI for transmission mode (use pygix for GI geometry)\n",
    "ai = pyFAI.load(str(maskponiPath.joinpath('LaB6_fixed_rot.poni')))  # Load the .poni calibration file into azimuthal integrator\n",
    "res1 = ai.integrate1d(LaB6_da.data, 1000)  # Circular integration\n",
    "res2 = ai.integrate2d(LaB6_da.data, 1000)  # Makes caked 2d image (q vs chi)\n",
    "\n",
    "# Plot\n",
    "fig, (ax1, ax2) = plt.subplots(1, 2)\n",
    "fig.set(size_inches=(10,4))\n",
    "jupyter.plot1d(res1, ax=ax1, calibrant=LaB6)\n",
    "jupyter.plot2d(res2, ax=ax2, calibrant=LaB6)\n",
    "ax2.set_title('2D cake')\n",
    "plt.tight_layout()\n",
    "plt.show()"
   ]
  },
  {
   "cell_type": "code",
   "execution_count": null,
   "id": "efd1c3dc-4b87-40b1-9d18-5ff1558c6a31",
   "metadata": {},
   "outputs": [],
   "source": []
  }
 ],
 "metadata": {
  "kernelspec": {
   "display_name": "Python 3 (ipykernel)",
   "language": "python",
   "name": "python3"
  },
  "language_info": {
   "codemirror_mode": {
    "name": "ipython",
    "version": 3
   },
   "file_extension": ".py",
   "mimetype": "text/x-python",
   "name": "python",
   "nbconvert_exporter": "python",
   "pygments_lexer": "ipython3",
   "version": "3.9.15"
  }
 },
 "nbformat": 4,
 "nbformat_minor": 5
}
