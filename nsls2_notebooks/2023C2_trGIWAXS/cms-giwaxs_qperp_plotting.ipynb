{
 "cells": [
  {
   "cell_type": "markdown",
   "id": "b3c13da0-ce45-4653-9fb2-5f71078d5a36",
   "metadata": {},
   "source": [
    "# CMS GIWAXS plotting notebook - plotting single images from loaded zarr datasets"
   ]
  },
  {
   "cell_type": "markdown",
   "id": "96625ca6-7ec2-4690-bf01-72b422801f76",
   "metadata": {},
   "source": [
    "## Imports"
   ]
  },
  {
   "cell_type": "code",
   "execution_count": null,
   "id": "dd667c0e-baba-4a5d-857a-ca8bd5ce1407",
   "metadata": {},
   "outputs": [],
   "source": [
    "# Imports:\n",
    "import pathlib\n",
    "import numpy as np\n",
    "import matplotlib.pyplot as plt\n",
    "from matplotlib.colors import LogNorm\n",
    "import xarray as xr\n",
    "from tqdm.auto import tqdm\n",
    "\n",
    "# Choose a colormap:\n",
    "cmap = plt.cm.turbo\n",
    "cmap.set_bad('black')"
   ]
  },
  {
   "cell_type": "markdown",
   "id": "7dffa6de-0360-4fcb-b0bf-f320927837d0",
   "metadata": {
    "tags": []
   },
   "source": [
    "## Define & check paths"
   ]
  },
  {
   "cell_type": "code",
   "execution_count": null,
   "id": "8db0fc93-6739-457a-a7fe-ba695bb41716",
   "metadata": {},
   "outputs": [],
   "source": [
    "# I like pathlib for its readability & checkability, it's also necessary for the loadSeries function later on\n",
    "# Replace the paths with the ones relevant to your data, you can use the \".exists()\" method to make sure you defined a path correctly\n",
    "propPath = pathlib.Path('/nsls2/data/cms/proposals/2023-2/pass-311415')  # The proposals path is a good place to store large data (>1 TB space?)\n",
    "outPath = propPath.joinpath('AL_processed_data')\n",
    "\n",
    "samplesPath = outPath.joinpath('qperp_zarrs')"
   ]
  },
  {
   "cell_type": "markdown",
   "id": "cb87ca9c-45d4-44ed-948f-753daa6b4ab6",
   "metadata": {
    "tags": []
   },
   "source": [
    "## Single image GIWAXS plotting"
   ]
  },
  {
   "cell_type": "code",
   "execution_count": null,
   "id": "e4fdac03-46b0-4814-8fed-6b0b3de72404",
   "metadata": {
    "tags": []
   },
   "outputs": [],
   "source": [
    "# List the files inside a folder\n",
    "sorted([f.name for f in samplesPath.iterdir()])  # a way to list just the filenames and not the whole path"
   ]
  },
  {
   "cell_type": "markdown",
   "id": "fbfcb7d6-878f-4fc8-a624-36ed8d3022a3",
   "metadata": {
    "tags": []
   },
   "source": [
    "### 2D plots"
   ]
  },
  {
   "cell_type": "markdown",
   "id": "0e4fa209-1b91-44f5-990e-8643c21f79b9",
   "metadata": {
    "jp-MarkdownHeadingCollapsed": true,
    "tags": []
   },
   "source": [
    "#### Caked Images"
   ]
  },
  {
   "cell_type": "code",
   "execution_count": null,
   "id": "96d06371-37ed-4b6b-947e-e955785b9cda",
   "metadata": {
    "tags": []
   },
   "outputs": [],
   "source": [
    "filename = 'caked_PM6-Y6_waxs_stitched.zarr'\n",
    "DS = xr.open_zarr(samplesPath.joinpath(filename))\n",
    "DS = DS.where(DS>1e-5)\n",
    "DS"
   ]
  },
  {
   "cell_type": "code",
   "execution_count": null,
   "id": "519afdb6-8f5b-4e6f-aec1-9372e1c8b6bc",
   "metadata": {},
   "outputs": [],
   "source": [
    "# # How one could apply a sin chi correction\n",
    "# sin_chi_DA = np.sin(np.radians(np.abs(DA.chi)))\n",
    "# # sin_chi_DA\n",
    "\n",
    "# corr_DA = DA * sin_chi_DA\n",
    "# # corr_DA"
   ]
  },
  {
   "cell_type": "code",
   "execution_count": null,
   "id": "93ef1d8d-30f2-4eb3-a72c-e437484bc2b5",
   "metadata": {},
   "outputs": [],
   "source": [
    "# A way to select dataarrays based on attribute values:\n",
    "selected_DAs = [da for da in DS.data_vars.values() if \n",
    "                da.attrs['incident_angle'] == 'th0.120']\n",
    "len(selected_DAs)"
   ]
  },
  {
   "cell_type": "code",
   "execution_count": null,
   "id": "1f1c0569-17bb-4237-a711-72cb191351f8",
   "metadata": {
    "tags": []
   },
   "outputs": [],
   "source": [
    "# Plot and optionally save selected dataarrays:\n",
    "# Set chi range: Full range\n",
    "chi_min = -90\n",
    "chi_max = 90\n",
    "\n",
    "for DA in tqdm(selected_DAs):\n",
    "    # Slice dataarray to select plotting region \n",
    "    sliced_DA = DA.sel(chi=slice(chi_min,chi_max), qr=slice(0,2.1))\n",
    "    cmin = float(sliced_DA.compute().quantile(1e-2))  # Set color minimum value, based on quantile \n",
    "    cmax = float(sliced_DA.compute().quantile(1-1e-6))  # Set color maximum value, based on quantile\n",
    "    \n",
    "    # Plot sliced dataarray\n",
    "    ax = sliced_DA.plot.imshow(cmap=cmap, norm=LogNorm(cmin, cmax), figsize=(5,4), interpolation='antialiased')  # plot, optional parameter interpolation='antialiased' for image smoothing\n",
    "    ax.colorbar.set_label('Intensity [arb. units]', rotation=270, labelpad=15)  # set colorbar label & parameters \n",
    "    ax.axes.set(title=f'Polar Plot: {DA.polymer}-{DA.weight_percent}, {float(DA.incident_angle[2:])}° Incidence',\n",
    "                xlabel='q$_r$ [Å$^{-1}$]', ylabel='$\\chi$ [°]')  # set title, axis labels, misc\n",
    "    ax.figure.set(tight_layout=True, dpi=130)  # Adjust figure dpi & plotting style\n",
    "    \n",
    "    plt.show()  # Comment to mute plotting output\n",
    "    \n",
    "    # Uncomment below line and set savepath/savename for saving plots, I usually like to check \n",
    "    # ax.figure.savefig(outPath.joinpath('PM6-Y6set_waxs', f'polar-2D_{DA.sample_id}_{chi_min}to{chi_max}chi_{DA.incident_angle}.png'), dpi=150)\n",
    "    plt.close('all')"
   ]
  },
  {
   "cell_type": "code",
   "execution_count": null,
   "id": "b89ad7b1-406b-4c59-a9c4-70cb8b3d05b1",
   "metadata": {
    "tags": []
   },
   "outputs": [],
   "source": [
    "# Plot and optionally save selected dataarrays:\n",
    "# Set chi range: In plane slice, choose a smooth section without detector gap/edge effects\n",
    "chi_min = 72\n",
    "chi_max = 82\n",
    "\n",
    "for DA in tqdm(selected_DAs):\n",
    "    # Slice dataarray to select plotting region \n",
    "    sliced_DA = DA.sel(chi=slice(chi_min,chi_max), qr=slice(0.23,2.05))\n",
    "    cmin = float(sliced_DA.compute().quantile(1e-2))  # Set color minimum value, based on quantile \n",
    "    cmax = float(sliced_DA.compute().quantile(1-1e-6))  # Set color maximum value, based on quantile\n",
    "    \n",
    "    # Plot sliced dataarray\n",
    "    ax = sliced_DA.plot.imshow(cmap=cmap, norm=LogNorm(cmin, cmax), figsize=(5,4), interpolation='antialiased')  # plot\n",
    "    ax.colorbar.set_label('Intensity [arb. units]', rotation=270, labelpad=15)  # set colorbar label & parameters \n",
    "    ax.axes.set(title=f'Polar Plot: {DA.polymer}-{DA.weight_percent}, {float(DA.incident_angle[2:])}° Incidence',\n",
    "                xlabel='q$_r$ [Å$^{-1}$]', ylabel='$\\chi$ [°]')  # set title, axis labels, misc\n",
    "    ax.figure.set(tight_layout=True, dpi=130)  # Adjust figure dpi & plotting style\n",
    "    \n",
    "    plt.show()  # Comment to mute plotting output\n",
    "    \n",
    "    # Uncomment below line and set savepath/savename for saving plots, I usually like to check \n",
    "    # ax.figure.savefig(outPath.joinpath('PM6-Y6set_waxs', f'polar-2D_{DA.sample_id}_{chi_min}to{chi_max}chi_{DA.incident_angle}.png'), dpi=150)\n",
    "    plt.close('all')"
   ]
  },
  {
   "cell_type": "code",
   "execution_count": null,
   "id": "2326db38-33f2-4b64-9449-e3bdf2b30a2b",
   "metadata": {},
   "outputs": [],
   "source": [
    "# # A way to save data as csv files  \n",
    "# for DA in DS.data_vars.values():\n",
    "#     # qr columns, chi rows\n",
    "#     DA.to_pandas().to_csv(outPath.joinpath('PM6-Y6_waxs', f'polar-2D_{DA.polymer}-{DA.weight_percent}_{DA.incident_angle}_{DA.scan_id}.csv'))"
   ]
  },
  {
   "cell_type": "markdown",
   "id": "2a8a902e-8ce1-4b80-9760-975d907eb354",
   "metadata": {
    "tags": []
   },
   "source": [
    "#### Reciprocal Space Images"
   ]
  },
  {
   "cell_type": "code",
   "execution_count": null,
   "id": "4d456826-6758-4de8-a0ca-5765ef10b813",
   "metadata": {
    "tags": []
   },
   "outputs": [],
   "source": [
    "filename = 'recip_pybtz_qperp_011.zarr'\n",
    "DS = xr.open_zarr(samplesPath.joinpath(filename))\n",
    "DS = DS.where(DS>1e-5)\n",
    "DS"
   ]
  },
  {
   "cell_type": "code",
   "execution_count": null,
   "id": "0b992c21-2ee9-466c-90d8-737a000efdfa",
   "metadata": {},
   "outputs": [],
   "source": [
    "selected_DAs = [da for da in DS.data_vars.values() if \n",
    "                da.attrs['incident_angle'] == 'th0.120']\n",
    "len(selected_DAs)"
   ]
  },
  {
   "cell_type": "code",
   "execution_count": null,
   "id": "47a53e04-d707-4def-aef5-cb652a0d7d2b",
   "metadata": {},
   "outputs": [],
   "source": [
    "cmin"
   ]
  },
  {
   "cell_type": "code",
   "execution_count": null,
   "id": "c0d0f4cd-a5b7-4910-86d1-cf45912a8a5d",
   "metadata": {},
   "outputs": [],
   "source": [
    "DA.attrs"
   ]
  },
  {
   "cell_type": "code",
   "execution_count": null,
   "id": "de525325-773d-4ce5-908c-aa6facf88dc7",
   "metadata": {
    "tags": []
   },
   "outputs": [],
   "source": [
    "# Plot & optionally save each selected polymer:-{DA.weight_percent}\n",
    "for DA in tqdm(selected_DAs):\n",
    "    # Slice data for selected q ranges (will need to rename q_xy if dimensions are differently named)\n",
    "    sliced_DA = DA.sel(q_perp=slice(-1.1, 2.1), q_z=slice(0, 2.2))\n",
    "    cmin = 1e1\n",
    "    cmax = 1e3\n",
    "    # cmin = float(sliced_DA.compute().quantile(1e-2))\n",
    "    # cmax = float(sliced_DA.compute().quantile(1-1e-8))   \n",
    "    \n",
    "    # Same plotting procedure as above\n",
    "    ax = sliced_DA.plot.imshow(cmap=cmap, norm=LogNorm(cmin, cmax), interpolation='antialiased', figsize=(5.5,3.3))\n",
    "    ax.colorbar.set_label('Intensity [arb. units]', rotation=270, labelpad=15)\n",
    "    ax.axes.set(aspect='equal', title=f'Cartesian Plot: {DA.material}-{DA.solvent}, {float(DA.incident_angle[2:])}° Incidence',\n",
    "                xlabel='q$_{xy}$ [Å$^{-1}$]', ylabel='q$_z$ [Å$^{-1}$]')\n",
    "    ax.figure.set(tight_layout=True, dpi=130)\n",
    "    \n",
    "    # ax.figure.savefig(outPath.joinpath('PM6-Y6set_waxs', f'cartesian-2D_{DA.polymer}-{DA.weight_percent}_{DA.incident_angle}.png'), dpi=150)\n",
    "    plt.show()\n",
    "    plt.close('all')"
   ]
  },
  {
   "cell_type": "code",
   "execution_count": null,
   "id": "12a0b2cb-f757-446d-85e4-8a130b147e44",
   "metadata": {},
   "outputs": [],
   "source": [
    "# # A way to save data as csv files\n",
    "# for DA in tqdm(DS.data_vars.values()):\n",
    "#     # qxy columns, qz rows\n",
    "#     DA.to_pandas().to_csv(outPath.joinpath('PM6-Y6_waxs', f'cartesian-2D_{DA.polymer}-{DA.weight_percent}_{DA.incident_angle}_{DA.scan_id}.csv'))"
   ]
  },
  {
   "cell_type": "markdown",
   "id": "f164c8c0-98bb-43b3-8d63-9d6de075640e",
   "metadata": {
    "tags": []
   },
   "source": [
    "### 1D Plots"
   ]
  },
  {
   "cell_type": "code",
   "execution_count": null,
   "id": "38841f0e-dcb4-4c6b-abb4-cd70d77f7e8f",
   "metadata": {
    "tags": []
   },
   "outputs": [],
   "source": [
    "filename = 'caked_PM6-Y6_waxs_stitched.zarr'\n",
    "DS = xr.open_zarr(samplesPath.joinpath(filename))\n",
    "DS = DS.where(DS>1e-5)\n",
    "DS"
   ]
  },
  {
   "cell_type": "code",
   "execution_count": null,
   "id": "f3a4cd9d-e268-4e87-897e-9102f1980336",
   "metadata": {},
   "outputs": [],
   "source": [
    "selected_DAs = [da for da in DS.data_vars.values() if \n",
    "                da.attrs['incident_angle'] == 'th0.120']\n",
    "len(selected_DAs)"
   ]
  },
  {
   "cell_type": "code",
   "execution_count": null,
   "id": "3d3f6381-4597-41f5-916d-cd805f1ba00b",
   "metadata": {
    "tags": []
   },
   "outputs": [],
   "source": [
    "# Plot linecuts for selected chi ranges, here I've put both in plane and out of plane selections into the loop\n",
    "\n",
    "for DA in tqdm(selected_DAs):\n",
    "    # OOP\n",
    "    chi_min = -18\n",
    "    chi_max = -8\n",
    "    DA.sel(chi=slice(chi_min, chi_max), qr=slice(0.14,2.01)).sum('chi').plot.line(figsize=(6,4))\n",
    "\n",
    "    # A plot.line xarray plot does not return an AxesImage object like imshow does, so I use plt.gca() and plt.gcf() to access the axes & figure parameters\n",
    "    ax = plt.gca()\n",
    "    fig = plt.gcf()\n",
    "    \n",
    "    ax.set(title=f'OOP Linecut, {chi_min}° to {chi_max}° $\\chi$: {DA.polymer}-{DA.weight_percent}, {float(DA.incident_angle[2:])}° Incidence',\n",
    "           yscale='log', ylabel='Intensity [arb. units]', xlabel='q$_r$ [Å$^{-1}$]')\n",
    "    ax.grid(visible=True, which='major', axis='x')\n",
    "    fig.set(tight_layout=True, dpi=130)\n",
    "    \n",
    "    plt.show()\n",
    "    # fig.savefig(outPath.joinpath('PM6-Y6set_waxs', f'linecut_OOP_{DA.polymer}-{DA.weight_percent}_{chi_min}to{chi_max}chi_{DA.incident_angle}.png'), dpi=150)\n",
    "    plt.close('all')\n",
    "    \n",
    "    # IP\n",
    "    chi_min = 72\n",
    "    chi_max = 82\n",
    "    DA.sel(chi=slice(chi_min, chi_max), qr=slice(0.23,2.01)).sum('chi').plot.line(figsize=(6,4))  \n",
    "    \n",
    "    ax = plt.gca()\n",
    "    fig = plt.gcf()\n",
    "    \n",
    "    ax.set(title=f'IP Linecut, {chi_min}° to {chi_max}° $\\chi$: {DA.polymer}-{DA.weight_percent}, {float(DA.incident_angle[2:])}° Incidence',\n",
    "           yscale='log', ylabel='Intensity [arb. units]', xlabel='q$_r$ [Å$^{-1}$]')\n",
    "    ax.grid(visible=True, which='major', axis='x')\n",
    "    fig.set(tight_layout=True, dpi=130)\n",
    "    \n",
    "    plt.show()\n",
    "    # fig.savefig(outPath.joinpath('PM6-Y6set_waxs', f'linecut_IP_{DA.polymer}-{DA.weight_percent}_{chi_min}to{chi_max}chi_{DA.incident_angle}.png'), dpi=150)\n",
    "    plt.close('all')\n",
    "    "
   ]
  },
  {
   "cell_type": "code",
   "execution_count": null,
   "id": "8d21e65b-229b-4cba-9cd1-c80ab7a271e2",
   "metadata": {},
   "outputs": [],
   "source": []
  }
 ],
 "metadata": {
  "kernelspec": {
   "display_name": "Python 3 (ipykernel)",
   "language": "python",
   "name": "python3"
  },
  "language_info": {
   "codemirror_mode": {
    "name": "ipython",
    "version": 3
   },
   "file_extension": ".py",
   "mimetype": "text/x-python",
   "name": "python",
   "nbconvert_exporter": "python",
   "pygments_lexer": "ipython3",
   "version": "3.9.15"
  }
 },
 "nbformat": 4,
 "nbformat_minor": 5
}
