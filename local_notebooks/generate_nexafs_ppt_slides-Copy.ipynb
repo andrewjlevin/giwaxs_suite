{
 "cells": [
  {
   "cell_type": "markdown",
   "id": "75dba553-8354-46b0-84f9-98c05a9847e4",
   "metadata": {},
   "source": [
    "# Use python-pptx to generate powerpoint slides of data"
   ]
  },
  {
   "cell_type": "code",
   "execution_count": 14,
   "id": "afc9f64a-5264-40d0-bc60-7912e042a671",
   "metadata": {},
   "outputs": [],
   "source": [
    "# Imports: \n",
    "import pathlib\n",
    "from pptx import Presentation\n",
    "from pptx.util import Inches, Pt\n",
    "from pptx.enum.text import PP_ALIGN\n",
    "from tqdm.auto import tqdm"
   ]
  },
  {
   "cell_type": "code",
   "execution_count": 15,
   "id": "5451c281-b958-4aa2-a92c-2f4e38b2953d",
   "metadata": {},
   "outputs": [],
   "source": [
    "# Define paths:\n",
    "nexafsPaths = pathlib.Path('/Users/andrew/Library/CloudStorage/OneDrive-UCB-O365/research/data_analysis/rsoxs_suite/nexafs_plots/2023C3')\n",
    "# rsoxsPaths = pathlib.Path('/Users/andrew/Library/CloudStorage/OneDrive-UCB-O365/research/data_analysis/rsoxs_suite/prsoxs_plots/2023C3')\n",
    "# isiPath = rsoxsPaths.joinpath('isi_v3')  # carbon\n",
    "# isiPath = rsoxsPaths.joinpath('isi_nitrogen_v1') \n",
    "# isiPath = rsoxsPaths.joinpath('isi_oxygen_v1')\n",
    "\n",
    "# outPath = pathlib.Path('/Users/andrew/Library/CloudStorage/OneDrive-UCB-O365/research/presentations/update_slides')\n",
    "outPath = pathlib.Path('/Users/andrew/Downloads')"
   ]
  },
  {
   "cell_type": "code",
   "execution_count": 26,
   "id": "232c8028-9e1e-44fc-86a3-f175fc728c9b",
   "metadata": {},
   "outputs": [
    {
     "data": {
      "text/plain": [
       "[PosixPath('/Users/andrew/Library/CloudStorage/OneDrive-UCB-O365/research/data_analysis/rsoxs_suite/nexafs_plots/2023C3/nf_chamber_tey_nitrogen_nexafs_all'),\n",
       " PosixPath('/Users/andrew/Library/CloudStorage/OneDrive-UCB-O365/research/data_analysis/rsoxs_suite/nexafs_plots/2023C3/nf_chamber_tey_nitrogen_nexafs_full_corr'),\n",
       " PosixPath('/Users/andrew/Library/CloudStorage/OneDrive-UCB-O365/research/data_analysis/rsoxs_suite/nexafs_plots/2023C3/nf_chamber_tey_nitrogen_tilt_fit')]"
      ]
     },
     "execution_count": 26,
     "metadata": {},
     "output_type": "execute_result"
    }
   ],
   "source": [
    "# nexafs_mode = 'fy_csi'\n",
    "# nexafs_mode = 'pey'\n",
    "nexafs_mode = 'tey'\n",
    "# nexafs_mode = 'trmsn_'\n",
    "# nexafs_mode = 'trmsn90_'\n",
    "\n",
    "# edge = 'carbon'\n",
    "edge = 'nitrogen'\n",
    "\n",
    "selected_nexafsPaths = [nexafsPaths.joinpath(directory) for directory in nexafsPaths.glob(f'nf_chamber*{nexafs_mode}*{edge}*')]\n",
    "selected_nexafsPaths"
   ]
  },
  {
   "cell_type": "code",
   "execution_count": 27,
   "id": "013fff33-34e8-4115-ac7c-409e7da13f52",
   "metadata": {
    "tags": []
   },
   "outputs": [
    {
     "name": "stdout",
     "output_type": "stream",
     "text": [
      "nf_chamber_tey_nitrogen_nexafs_all\n",
      "['all']\n"
     ]
    },
    {
     "data": {
      "text/plain": [
       "[PosixPath('/Users/andrew/Library/CloudStorage/OneDrive-UCB-O365/research/data_analysis/rsoxs_suite/nexafs_plots/2023C3/nf_chamber_tey_nitrogen_nexafs_all/Y7_CBCN_energy387-419.5.png'),\n",
       " PosixPath('/Users/andrew/Library/CloudStorage/OneDrive-UCB-O365/research/data_analysis/rsoxs_suite/nexafs_plots/2023C3/nf_chamber_tey_nitrogen_nexafs_all/Y7_CB_energy387-419.5.png')]"
      ]
     },
     "metadata": {},
     "output_type": "display_data"
    },
    {
     "name": "stdout",
     "output_type": "stream",
     "text": [
      "nf_chamber_tey_nitrogen_nexafs_full_corr\n",
      "['full']\n"
     ]
    },
    {
     "data": {
      "text/plain": [
       "[PosixPath('/Users/andrew/Library/CloudStorage/OneDrive-UCB-O365/research/data_analysis/rsoxs_suite/nexafs_plots/2023C3/nf_chamber_tey_nitrogen_nexafs_full_corr/Y7_CBCN_energy396-405.png'),\n",
       " PosixPath('/Users/andrew/Library/CloudStorage/OneDrive-UCB-O365/research/data_analysis/rsoxs_suite/nexafs_plots/2023C3/nf_chamber_tey_nitrogen_nexafs_full_corr/Y7_CB_energy396-405.png')]"
      ]
     },
     "metadata": {},
     "output_type": "display_data"
    },
    {
     "name": "stdout",
     "output_type": "stream",
     "text": [
      "nf_chamber_tey_nitrogen_tilt_fit\n",
      "['tilt']\n"
     ]
    },
    {
     "data": {
      "text/plain": [
       "[[PosixPath('/Users/andrew/Library/CloudStorage/OneDrive-UCB-O365/research/data_analysis/rsoxs_suite/nexafs_plots/2023C3/nf_chamber_tey_nitrogen_tilt_fit/Y7_CBCN_energy397.8-399.2.png'),\n",
       "  PosixPath('/Users/andrew/Library/CloudStorage/OneDrive-UCB-O365/research/data_analysis/rsoxs_suite/nexafs_plots/2023C3/nf_chamber_tey_nitrogen_tilt_fit/Y7_CBCN_energy399.2-400.4.png'),\n",
       "  PosixPath('/Users/andrew/Library/CloudStorage/OneDrive-UCB-O365/research/data_analysis/rsoxs_suite/nexafs_plots/2023C3/nf_chamber_tey_nitrogen_tilt_fit/Y7_CBCN_energy400.4-402.png')],\n",
       " [PosixPath('/Users/andrew/Library/CloudStorage/OneDrive-UCB-O365/research/data_analysis/rsoxs_suite/nexafs_plots/2023C3/nf_chamber_tey_nitrogen_tilt_fit/Y7_CB_energy397.8-399.2.png'),\n",
       "  PosixPath('/Users/andrew/Library/CloudStorage/OneDrive-UCB-O365/research/data_analysis/rsoxs_suite/nexafs_plots/2023C3/nf_chamber_tey_nitrogen_tilt_fit/Y7_CB_energy399.2-400.4.png'),\n",
       "  PosixPath('/Users/andrew/Library/CloudStorage/OneDrive-UCB-O365/research/data_analysis/rsoxs_suite/nexafs_plots/2023C3/nf_chamber_tey_nitrogen_tilt_fit/Y7_CB_energy400.4-402.png')]]"
      ]
     },
     "metadata": {},
     "output_type": "display_data"
    }
   ],
   "source": [
    "# Select nexafs data lists\n",
    "\n",
    "strings = ['all', 'full', 'tilt']\n",
    "# strings = ['magic_binary', 'magic_constants']\n",
    "\n",
    "try:\n",
    "    del nf_all_paths, nf_full_paths, nf_tilt_paths, nf_contrasts_paths, nf_constants_paths\n",
    "except:\n",
    "    pass\n",
    "\n",
    "for nexafsPath in sorted(selected_nexafsPaths):\n",
    "    string = [string for string in strings if string in nexafsPath.name]\n",
    "    if string==['all']:\n",
    "        print(nexafsPath.name)\n",
    "        print(string)\n",
    "        # nf_all_paths = sorted(nexafsPath.glob('*275*'))  # pey carbon\n",
    "        # nf_all_paths = sorted(nexafsPath.glob('*250*'))  # tey+ carbon\n",
    "        nf_all_paths = sorted(nexafsPath.glob('*387*'))  # tey+ nitrogen\n",
    "        display(nf_all_paths)\n",
    "                \n",
    "    elif string==['full']:\n",
    "        print(nexafsPath.name)\n",
    "        print(string)\n",
    "        # nf_full_paths = sorted(nexafsPath.glob('*282*'))  # carbon\n",
    "        nf_full_paths = sorted(nexafsPath.glob('*396*'))  # nitrogen\n",
    "        display(nf_full_paths)\n",
    "        \n",
    "    elif string==['tilt']:\n",
    "        print(nexafsPath.name)\n",
    "        print(string)\n",
    "        nf_tilt_paths = sorted(nexafsPath.glob('*'))\n",
    "        tilt_fits = 3  # all others\n",
    "        # row = 1  # oxygen, fluorine\n",
    "        # col = 6  # pey\n",
    "        samples = 2  # tey+, carbon, nitrogen, oxygen  # number of samples\n",
    "        nf_tilt_paths = [nf_tilt_paths[tilt_fits*i:tilt_fits*(i+1)] for i in range(samples)]\n",
    "        display(nf_tilt_paths)\n",
    "        \n",
    "    elif string==['magic_binary']:\n",
    "        print(nexafsPath.name)\n",
    "        print(string)\n",
    "        # nf_contrasts_paths = sorted(nexafsPath.glob('*282*'))  # carbon\n",
    "        # nf_contrasts_paths = sorted(nexafsPath.glob('*396*'))  # nitrogen\n",
    "        # nf_contrasts_paths = sorted(nexafsPath.glob('*'))  # oxygen\n",
    "        # nf_contrasts_paths = sorted(nexafsPath.glob('*680*'))  # fluorine\n",
    "        display(nf_contrasts_paths)\n",
    "        \n",
    "    elif string==['magic_constants']:\n",
    "        print(nexafsPath.name)\n",
    "        print(string)\n",
    "        # nf_constants_paths = sorted(nexafsPath.glob('*282*'))  # carbon\n",
    "        # nf_constants_paths = sorted(nexafsPath.glob('*396*'))  # nitrogen\n",
    "        # nf_constants_paths = sorted(nexafsPath.glob('*'))  # oxygen\n",
    "        # nf_constants_paths = sorted(nexafsPath.glob('*680*'))  # fluorine\n",
    "        display(nf_constants_paths)"
   ]
  },
  {
   "cell_type": "code",
   "execution_count": 7,
   "id": "9dc67161-20ba-4ebd-8b24-1f2ede6a9bd1",
   "metadata": {
    "tags": []
   },
   "outputs": [],
   "source": [
    "# isi_paths = sorted([f for f in isiPath.glob('*') if ('pol0deg' in f.name) & ('dSiN' in f.name)])\n",
    "# isi_paths"
   ]
  },
  {
   "cell_type": "code",
   "execution_count": 433,
   "id": "7b3f83a7-4bb8-4437-8f42-b60dc7b1a987",
   "metadata": {
    "tags": []
   },
   "outputs": [],
   "source": [
    "# prs = Presentation()\n",
    "\n",
    "# # Set slide dimensions for widescreen 16:9 aspect ratio\n",
    "# prs.slide_width = Inches(13.333)  # Width\n",
    "# prs.slide_height = Inches(7.5)    # Height\n",
    "\n",
    "# slide_layout = prs.slide_layouts[5]\n",
    "\n",
    "\n",
    "# for isi_path in isi_paths:\n",
    "#     sample_name = isi_path.name.split('_')[0]\n",
    "    \n",
    "#     # Add slide \n",
    "#     slide = prs.slides.add_slide(slide_layout)     \n",
    "    \n",
    "#     # Format title\n",
    "#     title = slide.shapes.title\n",
    "#     title.left = Inches(0.14)\n",
    "#     title.top = Inches(0.32)\n",
    "#     title.width = Inches(8.6)\n",
    "#     title.height = Inches(0.54)\n",
    "#     title.text = f'Optical constants from {nexafs_mode} {edge} NEXAFS'\n",
    "#     for paragraph in title.text_frame.paragraphs:\n",
    "#         # paragraph.alignment = PP_ALIGN.LEFT\n",
    "#         paragraph.font.size = Pt(32)\n",
    "    \n",
    "#     try:\n",
    "#         if len(sample_name.split('-'))==1:          \n",
    "#             # Select complementary constants path only if neat film\n",
    "#             nf_constants_path = [f for f in nf_constants_paths if sample_name==f.name.split('_')[0]][0]\n",
    "\n",
    "#             left_constants = Inches(0.1)\n",
    "#             top_constants = Inches(4.34)\n",
    "#             height_constants = Inches(2.83) \n",
    "\n",
    "#             left_isi = Inches(8.85)\n",
    "#             top_isi = Inches(3.88)\n",
    "#             height_isi = Inches(3.38)         \n",
    "\n",
    "#             # Add images to the slide\n",
    "#             slide.shapes.add_picture(str(nf_constants_path), left_constants, top_constants, height=height_constants)\n",
    "#             slide.shapes.add_picture(str(isi_path), left_isi, top_isi, height=height_isi)\n",
    "\n",
    "#         elif len(sample_name.split('-'))==2:\n",
    "#             component_1 = sample_name.split('-')[0]\n",
    "#             component_2 = sample_name.split('-')[1]\n",
    "#             nf_constants = [f for f in nf_constants_paths if (component_1==f.name.split('_')[0]) | (component_2==f.name.split('_')[0])]\n",
    "#             nf_contrasts_path = [f for f in nf_contrasts_paths if (f'{component_1}_' in f.name) & (f'{component_2}_' in f.name)][0]\n",
    "\n",
    "#             left_constants1 = Inches(0.1)\n",
    "#             top_constants1 = Inches(1.19)\n",
    "#             height_constants1 = Inches(2.83) \n",
    "\n",
    "#             left_constants2 = Inches(0.1)\n",
    "#             top_constants2 = Inches(4.34)\n",
    "#             height_constants2 = Inches(2.83) \n",
    "\n",
    "#             left_isi = Inches(8.85)\n",
    "#             top_isi = Inches(0.46)\n",
    "#             height_isi = Inches(3.38)   \n",
    "\n",
    "#             left_contrasts = Inches(8.55)\n",
    "#             top_contrasts = Inches(4.3)\n",
    "#             height_contrasts = Inches(2.73)           \n",
    "\n",
    "#             # Add images to the slide\n",
    "#             slide.shapes.add_picture(str(nf_constants[0]), left_constants1, top_constants1, height=height_constants1)\n",
    "#             slide.shapes.add_picture(str(nf_constants[1]), left_constants2, top_constants2, height=height_constants2)\n",
    "#             slide.shapes.add_picture(str(isi_path), left_isi, top_isi, height=height_isi)       \n",
    "#             slide.shapes.add_picture(str(nf_contrasts_path), left_contrasts, top_contrasts, height=height_contrasts)     \n",
    "#     except IndexError:\n",
    "#         print('Missing a sample with a calculated ISI!')\n",
    "\n",
    "# prs.save(outPath.joinpath(f'{nexafs_mode}_{edge}_contrasts_auto-summary.pptx'))\n",
    "# print('done!')"
   ]
  },
  {
   "cell_type": "code",
   "execution_count": 28,
   "id": "718bf786-8e4b-4bb5-b695-2ae6c79140ea",
   "metadata": {},
   "outputs": [
    {
     "name": "stdout",
     "output_type": "stream",
     "text": [
      "done!\n"
     ]
    }
   ],
   "source": [
    "# NEXAFS slides\n",
    "\n",
    "prs = Presentation()\n",
    "\n",
    "# Set slide dimensions for widescreen 16:9 aspect ratio\n",
    "prs.slide_width = Inches(13.333)  # Width\n",
    "prs.slide_height = Inches(7.5)    # Height\n",
    "\n",
    "slide_layout = prs.slide_layouts[5]\n",
    "\n",
    "for i in range(len(nf_all_paths)):\n",
    "    # Add slide \n",
    "    slide = prs.slides.add_slide(slide_layout)\n",
    "    \n",
    "    # # Format title\n",
    "    # title = slide.shapes.title\n",
    "    # title.left = Inches(8.75)\n",
    "    # title.top = Inches(1.85)\n",
    "    # title.width = Inches(3.2)\n",
    "    # title.height = Inches(1.1)\n",
    "    # title.text = 'Oxygen edge*'\n",
    "    # for paragraph in title.text_frame.paragraphs:\n",
    "    #     paragraph.alignment = PP_ALIGN.LEFT\n",
    "    #     paragraph.font.size = Pt(36)\n",
    "\n",
    "    # Define image positions (these are just placeholders, adjust as necessary)\n",
    "    left_all = Inches(-0.07)\n",
    "    top_all = Inches(0.23)\n",
    "    height_all = Inches(4.81)\n",
    "    # width_all = Inches(7.22)\n",
    "\n",
    "    left_full = Inches(1.04)\n",
    "    top_full = Inches(5.04)\n",
    "    height_full = Inches(2.5)\n",
    "\n",
    "    left_tilt1 = Inches(7.15)\n",
    "    top_tilt1 = Inches(-0.16)\n",
    "    height_tilt1 = Inches(2.78)    \n",
    "\n",
    "    left_tilt2 = Inches(7.15)\n",
    "    top_tilt2 = Inches(2.34)\n",
    "    height_tilt2 = Inches(2.78) \n",
    "    \n",
    "    left_tilt3 = Inches(7.15)\n",
    "    top_tilt3 = Inches(4.85)\n",
    "    height_tilt3 = Inches(2.78) \n",
    "\n",
    "    # Add images to the slide\n",
    "    slide.shapes.add_picture(str(nf_all_paths[i]), left_all, top_all, height=height_all)\n",
    "    slide.shapes.add_picture(str(nf_full_paths[i]), left_full, top_full, height=height_full)\n",
    "    try:\n",
    "        slide.shapes.add_picture(str(nf_tilt_paths[i][2]), left_tilt3, top_tilt3, height=height_tilt3)  # for 3 tilt angles\n",
    "        slide.shapes.add_picture(str(nf_tilt_paths[i][1]), left_tilt2, top_tilt2, height=height_tilt2)\n",
    "        slide.shapes.add_picture(str(nf_tilt_paths[i][0]), left_tilt1, top_tilt1, height=height_tilt1)\n",
    "        # # slide.shapes.add_picture(str(nf_tilt_paths[i][2]), left_tilt3, top_tilt3, height=height_tilt3)  # for 1 tilt angle\n",
    "        # # slide.shapes.add_picture(str(nf_tilt_paths[i][1]), left_tilt2, top_tilt2, height=height_tilt2)\n",
    "        # slide.shapes.add_picture(str(nf_tilt_paths[i][0]), left_tilt1, top_tilt3, height=height_tilt1)\n",
    "    except (IndexError, NameError):\n",
    "        print(\"No tilts\")\n",
    "\n",
    "prs.save(outPath.joinpath(f'nf-chamber_{nexafs_mode}_{edge}_nexafs_auto-summary.pptx'))\n",
    "print('done!')"
   ]
  },
  {
   "cell_type": "code",
   "execution_count": null,
   "id": "5f6ed3e9-d6f3-463b-ae4e-5a54dd51d639",
   "metadata": {},
   "outputs": [],
   "source": []
  }
 ],
 "metadata": {
  "kernelspec": {
   "display_name": "Python 3 (ipykernel)",
   "language": "python",
   "name": "python3"
  },
  "language_info": {
   "codemirror_mode": {
    "name": "ipython",
    "version": 3
   },
   "file_extension": ".py",
   "mimetype": "text/x-python",
   "name": "python",
   "nbconvert_exporter": "python",
   "pygments_lexer": "ipython3",
   "version": "3.10.4"
  }
 },
 "nbformat": 4,
 "nbformat_minor": 5
}
