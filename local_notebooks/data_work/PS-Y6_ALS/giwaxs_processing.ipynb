{
 "cells": [
  {
   "cell_type": "markdown",
   "id": "b3c13da0-ce45-4653-9fb2-5f71078d5a36",
   "metadata": {},
   "source": [
    "# CMS ex situ GIWAXS 2023C3\n",
    "\n",
    "# CMS GIWAXS raw data processing & exporting notebook\n",
    "In this notebook you output xr.DataSets stored as .zarr stores containing all your raw,\n",
    "remeshed (reciprocal space), and caked CMS GIWAXS data. Saving as a zarr automatically converts the array to a dask array"
   ]
  },
  {
   "cell_type": "code",
   "execution_count": 23,
   "id": "890da6d6-cd22-4687-a4e8-1166e36cb22d",
   "metadata": {
    "scrolled": true,
    "tags": []
   },
   "outputs": [],
   "source": [
    "# ### Kernel updates if needed, remember to restart kernel after running this cell!:\n",
    "# !pip install -e /nsls2/users/alevin/repos/PyHyperScattering  # to use pip to install via directory"
   ]
  },
  {
   "cell_type": "markdown",
   "id": "96625ca6-7ec2-4690-bf01-72b422801f76",
   "metadata": {},
   "source": [
    "## Imports"
   ]
  },
  {
   "cell_type": "code",
   "execution_count": 24,
   "id": "dd667c0e-baba-4a5d-857a-ca8bd5ce1407",
   "metadata": {},
   "outputs": [],
   "source": [
    "### Imports:\n",
    "import pathlib\n",
    "import numpy as np\n",
    "import matplotlib.pyplot as plt\n",
    "from matplotlib.colors import LogNorm\n",
    "import xarray as xr\n",
    "# import PyHyperScattering as phs\n",
    "import pygix\n",
    "import fabio\n",
    "import gc\n",
    "from tqdm.auto import tqdm  # progress bar loader!\n",
    "\n",
    "from GIWAXS import Transform, single_images_to_dataset\n",
    "from CMSGIWAXSLoader import CMSGIWAXSLoader\n",
    "# print(f'Using PyHyperScattering Version: {phs.__version__}')"
   ]
  },
  {
   "cell_type": "markdown",
   "id": "7dffa6de-0360-4fcb-b0bf-f320927837d0",
   "metadata": {
    "tags": []
   },
   "source": [
    "## Defining some objects"
   ]
  },
  {
   "cell_type": "markdown",
   "id": "b36b6f6c-4643-46b3-9784-9a6071c754ba",
   "metadata": {},
   "source": [
    "### Define & check paths"
   ]
  },
  {
   "cell_type": "code",
   "execution_count": 25,
   "id": "d97aee8c-7d57-489b-854c-03cb6aab2154",
   "metadata": {},
   "outputs": [],
   "source": [
    "# pix_size = 0.000172\n",
    "# 673 * pix_size"
   ]
  },
  {
   "cell_type": "code",
   "execution_count": 26,
   "id": "b297c4e9-7d7f-4532-8d7f-78205f6b8e3e",
   "metadata": {
    "tags": []
   },
   "outputs": [],
   "source": [
    "# 0.1097360 / 0.000172"
   ]
  },
  {
   "cell_type": "code",
   "execution_count": 27,
   "id": "8db0fc93-6739-457a-a7fe-ba695bb41716",
   "metadata": {},
   "outputs": [],
   "source": [
    "# I like pathlib for its readability & checkability, it's also necessary for the loadSeries function later on\n",
    "# Replace the paths with the ones relevant to your data, you can use the \".exists()\" method to make sure you defined a path correctly\n",
    "suitePath = pathlib.Path('/Users/andrew/Library/CloudStorage/OneDrive-UCB-O365/research/data_analysis/giwaxs_suite')\n",
    "rawPath = suitePath.joinpath('raw_data/PS-Y6_ALS')\n",
    "dataPath = rawPath.joinpath('all_data')\n",
    "outPath = suitePath.joinpath('processed_data/PS-Y6_ALS')\n",
    "\n",
    "# Select poni & mask filepaths\n",
    "poniFile = rawPath.joinpath('10keV_2024-03-22_lo.poni')\n",
    "poniFile_hi = rawPath.joinpath('10keV_2024-03-22_hi.poni')\n",
    "maskFile = rawPath.joinpath('Pilatus2M_mask.edf')\n",
    "\n",
    "# Create pg Transform objects with the above information:\n",
    "# Can set the energy to overwrite default poni energy, this MUST be correct for your samples!\n",
    "# pg_transformer = Transform(poniPath=poniFile, maskPath=maskFile, energy=10)\n",
    "pg_transformer = Transform(poniPath=poniFile, maskPath=None, energy=10)\n",
    "\n",
    "# Colormap\n",
    "cmap = plt.cm.turbo.copy()\n",
    "cmap.set_bad('black')"
   ]
  },
  {
   "cell_type": "code",
   "execution_count": 28,
   "id": "e2d7ba44-ea07-487f-975b-443821081be9",
   "metadata": {},
   "outputs": [
    {
     "data": {
      "text/plain": [
       "((0.21509344682470327, 1250.5432954924609),\n",
       " (0.12267179313842716, 713.2080996420184))"
      ]
     },
     "metadata": {},
     "output_type": "display_data"
    },
    {
     "data": {
      "text/plain": [
       "((0.2202295667253362, 1280.4044577054428),\n",
       " (0.12265961322468676, 713.1372861900393))"
      ]
     },
     "metadata": {},
     "output_type": "display_data"
    }
   ],
   "source": [
    "def poni_centers(poniFile, pix_size=0.000172):\n",
    "    \"\"\"\n",
    "    Returns poni center value and the corresponding pixel position. Default pixel size is 172 microns (Pilatus 1M)\n",
    "    \n",
    "    Inputs: poniFile as pathlib path object to the poni file\n",
    "    Outputs: ((poni1, y_center), (poni2, x_center))\n",
    "    \"\"\"\n",
    "    \n",
    "    with poniFile.open('r') as f:\n",
    "        lines = list(f.readlines())\n",
    "    poni1_str = lines[6]\n",
    "    poni2_str = lines[7]\n",
    "\n",
    "    poni1 = float(poni1_str.split(' ')[1])\n",
    "    poni2 = float(poni2_str.split(' ')[1])\n",
    "\n",
    "    y_center = poni1 / pix_size\n",
    "    x_center = poni2 / pix_size\n",
    "        \n",
    "    return ((poni1, y_center), (poni2, x_center))\n",
    "\n",
    "display(poni_centers(poniFile))\n",
    "display(poni_centers(poniFile_hi))"
   ]
  },
  {
   "cell_type": "markdown",
   "id": "c1840638-1577-4dea-8819-ffb69d6f80b8",
   "metadata": {},
   "source": [
    "### Define metadata naming scheme & initialize loaders"
   ]
  },
  {
   "cell_type": "code",
   "execution_count": 29,
   "id": "40c59ce5-ea98-4f71-a9ef-c7bb46ce42e4",
   "metadata": {
    "tags": []
   },
   "outputs": [
    {
     "data": {
      "text/plain": [
       "['sam1_th0.140_10kev_10s_hi_2m.edf',\n",
       " 'sam1_th0.140_10kev_10s_lo_2m.edf',\n",
       " 'sam1_th0.140_10kev_30s_hi_2m.edf',\n",
       " 'sam1_th0.140_10kev_30s_lo_2m.edf',\n",
       " 'sam2_th0.140_10kev_10s-2_hi_2m.edf',\n",
       " 'sam2_th0.140_10kev_10s-2_lo_2m.edf',\n",
       " 'sam2_th0.140_10kev_10s_hi_2m.edf',\n",
       " 'sam2_th0.140_10kev_10s_lo_2m.edf',\n",
       " 'sam3_th0.140_10kev_10s_hi_2m.edf',\n",
       " 'sam3_th0.140_10kev_10s_lo_2m.edf',\n",
       " 'sam3_th0.140_10kev_30s_hi_2m.edf',\n",
       " 'sam3_th0.140_10kev_30s_lo_2m.edf',\n",
       " 'sam4_th0.140_10kev_2s_hi_2m.edf',\n",
       " 'sam4_th0.140_10kev_2s_lo_2m.edf',\n",
       " 'sam4_th0.140_10kev_30s_hi_2m.edf',\n",
       " 'sam4_th0.140_10kev_30s_lo_2m.edf',\n",
       " 'sam5_th0.140_10kev_10s_hi_2m.edf',\n",
       " 'sam5_th0.140_10kev_10s_lo_2m.edf',\n",
       " 'sam5_th0.140_10kev_30s-2_hi_2m.edf',\n",
       " 'sam5_th0.140_10kev_30s-2_lo_2m.edf',\n",
       " 'sam5_th0.140_10kev_30s_hi_2m.edf',\n",
       " 'sam5_th0.140_10kev_30s_lo_2m.edf',\n",
       " 'sam6_th0.140_10kev_1s_hi_2m.edf',\n",
       " 'sam6_th0.140_10kev_1s_lo_2m.edf',\n",
       " 'sam6_th0.140_10kev_2s-2_hi_2m.edf',\n",
       " 'sam6_th0.140_10kev_2s-2_lo_2m.edf',\n",
       " 'sam6_th0.140_10kev_2s_hi_2m.edf',\n",
       " 'sam6_th0.140_10kev_2s_lo_2m.edf']"
      ]
     },
     "execution_count": 29,
     "metadata": {},
     "output_type": "execute_result"
    }
   ],
   "source": [
    "[f.name for f in sorted(dataPath.glob('*'))]"
   ]
  },
  {
   "cell_type": "code",
   "execution_count": 30,
   "id": "fdd31494-d2e4-43d7-adce-d31098c55edb",
   "metadata": {},
   "outputs": [],
   "source": [
    "# set ex situ metadata filename naming schemes:\n",
    "md_naming_scheme = ['sample_id', 'incident_angle', 'energy', 'exposure_time', 'detector_pos', 'detector']\n",
    "\n",
    "# Initalize CMSGIWAXSLoader objects with the above naming schemes\n",
    "loader = CMSGIWAXSLoader(md_naming_scheme=md_naming_scheme)"
   ]
  },
  {
   "cell_type": "markdown",
   "id": "89d72a19-8729-4ebd-914a-9cba20016a72",
   "metadata": {
    "tags": []
   },
   "source": [
    "## Data processing\n",
    "Break this section up however makes sense for your data"
   ]
  },
  {
   "cell_type": "markdown",
   "id": "51ed614d-ed76-4993-beac-41512d63a648",
   "metadata": {},
   "source": [
    "### Check raw data"
   ]
  },
  {
   "cell_type": "code",
   "execution_count": 31,
   "id": "0cc8bc98-5413-4f9d-9c4f-c7a658aa2300",
   "metadata": {},
   "outputs": [
    {
     "data": {
      "application/vnd.jupyter.widget-view+json": {
       "model_id": "1ffaba99522344e9936e42db8494bf85",
       "version_major": 2,
       "version_minor": 0
      },
      "text/plain": [
       "  0%|          | 0/28 [00:00<?, ?it/s]"
      ]
     },
     "metadata": {},
     "output_type": "display_data"
    }
   ],
   "source": [
    "# Check raw data, looks good!\n",
    "files = sorted(dataPath.glob('*'))  # define list of files \n",
    "\n",
    "lo_DAs = []\n",
    "hi_DAs = []\n",
    "for file in tqdm(files):\n",
    "    # Load\n",
    "    DA = loader.loadSingleImage(file)\n",
    "    \n",
    "    # Record\n",
    "    if DA.detector_pos == 'hi':\n",
    "        lo_DAs.append(DA)\n",
    "    elif DA.detector_pos == 'lo':\n",
    "        hi_DAs.append(DA)\n",
    "\n",
    "    # # Plot\n",
    "    # cmin = DA.quantile(0.4)\n",
    "    # cmax = DA.quantile(0.99)\n",
    "    # ax = DA.plot.imshow(norm=plt.Normalize(cmin,cmax), origin='upper', cmap=cmap)\n",
    "    # ax.axes.set_title(f'{DA.sample_id}: {DA.exposure_time}, {DA.detector_pos}')\n",
    "    # plt.show()\n",
    "    # plt.close('all')"
   ]
  },
  {
   "cell_type": "markdown",
   "id": "29f2cefe-3ae2-4018-8dfc-b49acdff5126",
   "metadata": {},
   "source": [
    "### Peform stitching if necessary"
   ]
  },
  {
   "cell_type": "code",
   "execution_count": 37,
   "id": "59cae0d8-c13c-41ae-9264-d1e1693ddab9",
   "metadata": {},
   "outputs": [
    {
     "name": "stdout",
     "output_type": "stream",
     "text": [
      "(1679, 1475)\n"
     ]
    }
   ],
   "source": [
    "# Load mask & hi_lo shift:\n",
    "hi_lo_shift = 30\n",
    "mask_arr = fabio.open(maskFile).data.astype('bool')\n",
    "print(mask_arr.shape)"
   ]
  },
  {
   "cell_type": "code",
   "execution_count": 52,
   "id": "e1957be1-54bc-4e00-ab51-05be1f89501a",
   "metadata": {
    "tags": []
   },
   "outputs": [],
   "source": [
    "# Run stitching\n",
    "\n",
    "# del hi_DA, lo_DA\n",
    "\n",
    "stitched_DAs = []\n",
    "for tup in zip(lo_DAs, hi_DAs):\n",
    "    lo_DA = tup[0].copy()\n",
    "    hi_DA = tup[1].copy()\n",
    "    \n",
    "    # Adjust hi DA to match lo, uncomment to check plot\n",
    "    hi_DA['pix_y']= hi_DA.pix_y + hi_lo_shift  # this is the difference in pixel position for the high vs low position\n",
    "    hi_DA = hi_DA.sel(pix_y=slice(30, 1678))\n",
    "    # hi_DA.plot.imshow(norm=plt.Normalize(cmin,cmax), origin='upper', cmap=cmap)\n",
    "    # hi_DA.sel(pix_y=slice(1150,1300)).plot.imshow(norm=plt.Normalize(cmin,cmax), origin='upper', cmap=cmap)\n",
    "    # plt.show()\n",
    "    \n",
    "    # Set lo DA mask values to a crazy value to be replaced by the hi DA\n",
    "    lo_DA.data[mask_arr] = -1\n",
    "    lo_DA = lo_DA.sel(pix_y=slice(30, 1678))\n",
    "    # lo_DA.plot.imshow(norm=plt.Normalize(cmin,cmax), origin='upper', cmap=cmap)\n",
    "    # lo_DA.sel(pix_y=slice(1150,1300)).plot.imshow(norm=plt.Normalize(cmin,cmax), origin='upper', cmap=cmap)\n",
    "    \n",
    "    # Keep all values that are not the crazy value, replace the crazy ones with hi DA\n",
    "    stitched_DA = lo_DA.where(~(lo_DA==-1), hi_DA)\n",
    "    \n",
    "    # Record stitched DAs if good:\n",
    "    stitched_DAs.append(stitched_DA)"
   ]
  },
  {
   "cell_type": "code",
   "execution_count": null,
   "id": "6f5b4b7f-896c-49a9-a649-5426c69254b7",
   "metadata": {
    "tags": []
   },
   "outputs": [],
   "source": [
    "# Plot check stitched DAs\n",
    "\n",
    "for stitched_DA in stitched_DAs:\n",
    "    cmin = stitched_DA.quantile(0.4)\n",
    "    cmax = stitched_DA.quantile(0.99)\n",
    "    ax = stitched_DA.plot.imshow(norm=plt.Normalize(cmin,cmax), origin='upper', cmap=cmap)\n",
    "    ax.axes.set_title(f'{stitched_DA.sample_id}: {stitched_DA.exposure_time}')    \n",
    "    plt.show()\n",
    "    plt.close('all') "
   ]
  },
  {
   "cell_type": "markdown",
   "id": "d2beb7e4-cd19-479b-98a1-54648ed526b1",
   "metadata": {},
   "source": [
    "### Apply rotation corrections"
   ]
  },
  {
   "cell_type": "code",
   "execution_count": null,
   "id": "dfa55cba-e646-46d0-9d64-d93e2a8bcfb7",
   "metadata": {},
   "outputs": [],
   "source": []
  },
  {
   "cell_type": "markdown",
   "id": "4027a072-0908-4d18-9c67-96856fa70b1d",
   "metadata": {},
   "source": [
    "### pygix-backed reduction"
   ]
  },
  {
   "cell_type": "code",
   "execution_count": 70,
   "id": "791c3894-a019-495e-b0ff-01280798d016",
   "metadata": {},
   "outputs": [
    {
     "data": {
      "text/plain": [
       "(1649, 1475)"
      ]
     },
     "execution_count": 70,
     "metadata": {},
     "output_type": "execute_result"
    }
   ],
   "source": [
    "mask_arr[30:, :].shape"
   ]
  },
  {
   "cell_type": "code",
   "execution_count": 90,
   "id": "38b0e234-eb21-4e07-9801-8bf7e4d9016e",
   "metadata": {},
   "outputs": [],
   "source": [
    "# pg_transformer = Transform(poniFile, mask_arr[30:, :], energy=10)\n",
    "pg_transformer = Transform(poniFile, np.zeros_like(mask_arr[30:, :]), energy=10)"
   ]
  },
  {
   "cell_type": "code",
   "execution_count": 91,
   "id": "2c0d2663-229d-4acc-9d83-97308b818c57",
   "metadata": {},
   "outputs": [
    {
     "data": {
      "application/vnd.jupyter.widget-view+json": {
       "model_id": "ff971bcc86794433af84965e71dfb642",
       "version_major": 2,
       "version_minor": 0
      },
      "text/plain": [
       "Transforming Raw Data:   0%|          | 0/13 [00:00<?, ?it/s]"
      ]
     },
     "metadata": {},
     "output_type": "display_data"
    }
   ],
   "source": [
    "# Select the first element of the sorted set outside of the for loop to initialize the xr.DataSet\n",
    "DA = stitched_DAs[0]\n",
    "recip_DA, caked_DA = pg_transformer.pg_convert(DA)\n",
    "\n",
    "# Save coordinates for interpolating other dataarrays \n",
    "recip_coords = recip_DA.coords\n",
    "caked_coords = caked_DA.coords\n",
    "\n",
    "# Create a DataSet, each DataArray will be named according to it's scan id\n",
    "raw_DS = DA.to_dataset(name=DA.sample_id)\n",
    "recip_DS = recip_DA.to_dataset(name=DA.sample_id)\n",
    "caked_DS = caked_DA.to_dataset(name=DA.sample_id)\n",
    "\n",
    "# Populate the DataSet with \n",
    "for DA in tqdm(stitched_DAs[1:], desc=f'Transforming Raw Data'):\n",
    "    recip_DA, caked_DA = pg_transformer.pg_convert(DA)\n",
    "\n",
    "    recip_DA = recip_DA.interp(recip_coords)\n",
    "    caked_DA = caked_DA.interp(caked_coords)    \n",
    "\n",
    "    raw_DS[f'{DA.sample_id}'] = DA\n",
    "    recip_DS[f'{DA.sample_id}'] = recip_DA    \n",
    "    caked_DS[f'{DA.sample_id}'] = caked_DA\n",
    "\n",
    "# # Save zarr stores if selected\n",
    "# if savePath and savename:\n",
    "#     print('Saving zarrs...')\n",
    "#     savePath = pathlib.Path(savePath)\n",
    "#     raw_DS.to_zarr(savePath.joinpath(f'raw_{savename}.zarr'), mode='w')\n",
    "#     recip_DS.to_zarr(savePath.joinpath(f'recip_{savename}.zarr'), mode='w')\n",
    "#     caked_DS.to_zarr(savePath.joinpath(f'caked_{savename}.zarr'), mode='w')\n",
    "#     print('Saved!')\n",
    "# else:\n",
    "#     print('No save path or no filename specified, not saving zarrs... ')"
   ]
  },
  {
   "cell_type": "code",
   "execution_count": null,
   "id": "5bf97271-a223-4ba3-a1d6-98e68712464c",
   "metadata": {
    "tags": []
   },
   "outputs": [],
   "source": [
    "qxy_min = -0.65\n",
    "qxy_max = 2\n",
    "qz_min = 0\n",
    "qz_max = 2.2\n",
    "\n",
    "# Plot check recip DAs\n",
    "for DA in recip_DS.data_vars.values():\n",
    "    sliced_DA = DA.sel(q_xy=slice(qxy_min, qxy_max), q_z=slice(qz_min,qz_max))\n",
    "    \n",
    "    cmin = sliced_DA.quantile(0.18)\n",
    "    cmax = sliced_DA.quantile(0.99)\n",
    "    ax = sliced_DA.plot.imshow(norm=plt.Normalize(cmin,cmax), cmap=cmap)\n",
    "    ax.axes.set_title(f'{sliced_DA.sample_id}: {sliced_DA.exposure_time}')   \n",
    "    ax.axes.set(aspect='equal')\n",
    "    plt.show()\n",
    "    plt.close('all') "
   ]
  },
  {
   "cell_type": "markdown",
   "id": "d3c0c38b-ddf4-454e-b5b4-3439be569cab",
   "metadata": {
    "tags": []
   },
   "source": [
    "#### Yoneda check:"
   ]
  },
  {
   "cell_type": "code",
   "execution_count": null,
   "id": "f9e87cae-9747-419a-a3f7-18ec5c9f3ec6",
   "metadata": {},
   "outputs": [],
   "source": [
    "yoneda_angles"
   ]
  },
  {
   "cell_type": "code",
   "execution_count": null,
   "id": "8991007a-7d1d-43a2-9fda-06bad577b5d0",
   "metadata": {},
   "outputs": [],
   "source": [
    "qz_inv_meters = ((4 * np.pi) / (wavelength)) * (np.sin(np.deg2rad(angles)))\n",
    "qz_inv_angstroms = qz_inv_meters / 1e10"
   ]
  },
  {
   "cell_type": "code",
   "execution_count": null,
   "id": "2cd43835-2e0e-4cd9-b900-3c9fefa726d3",
   "metadata": {},
   "outputs": [],
   "source": [
    "def qz(wavelength, alpha_crit, alpha_incidents):\n",
    "    qz_inv_meters = ((4 * np.pi) / (wavelength)) * (np.sin(np.deg2rad((alpha_incidents + alpha_crit)/2)))\n",
    "    # qz_inv_meters = ((4 * np.pi) / (wavelength)) * (np.sin(np.deg2rad(alpha_crit)) + np.sin(np.deg2rad(alpha_incidents)))\n",
    "    qz_inv_angstroms = qz_inv_meters / 1e10\n",
    "    return qz_inv_angstroms\n",
    "\n",
    "\n",
    "wavelength = 9.762535309700809e-11  # 12.7 keV\n",
    "\n",
    "alpha_crit = 0.11  # organic film critical angle\n",
    "alpha_incidents = np.array([0.08, 0.1, 0.12, 0.15])\n",
    "\n",
    "yoneda_angles = alpha_incidents + alpha_crit\n",
    "\n",
    "qz(wavelength, alpha_crit, alpha_incidents)"
   ]
  },
  {
   "cell_type": "code",
   "execution_count": null,
   "id": "33d64c56-1910-4a5b-a2c3-2426bcc38fe1",
   "metadata": {},
   "outputs": [],
   "source": [
    "def select_attrs(data_arrays_iterable, selected_attrs_dict):\n",
    "    \"\"\"\n",
    "    Selects data arrays whose attributes match the specified values.\n",
    "\n",
    "    Parameters:\n",
    "    data_arrays_iterable: Iterable of xarray.DataArray objects.\n",
    "    selected_attrs_dict: Dictionary where keys are attribute names and \n",
    "                         values are the attributes' desired values.\n",
    "\n",
    "    Returns:\n",
    "    List of xarray.DataArray objects that match the specified attributes.\n",
    "    \"\"\"    \n",
    "    sublist = list(data_arrays_iterable)\n",
    "    \n",
    "    for attr_name, attr_values in selected_attrs_dict.items():\n",
    "        sublist = [da for da in sublist if da.attrs[attr_name] in attr_values]\n",
    "                \n",
    "    return sublist"
   ]
  },
  {
   "cell_type": "code",
   "execution_count": null,
   "id": "2b0fc713-c02f-40e5-9335-5fa19ac48048",
   "metadata": {
    "tags": []
   },
   "outputs": [],
   "source": [
    "# 2D reciprocal space cartesian plots\n",
    "qxy_min = -1.1\n",
    "qxy_max = 2.1\n",
    "qz_min = -0.01\n",
    "qz_max = 2.2\n",
    "\n",
    "selected_attrs_dict = {'material': ['PM6'], 'solvent': ['CBCN']}\n",
    "# selected_attrs_dict = {}\n",
    "\n",
    "selected_DAs = select_attrs(fixed_recip_DS.data_vars.values(), selected_attrs_dict)\n",
    "for DA in tqdm(selected_DAs):\n",
    "    # Slice data for selected q ranges (will need to rename q_xy if dimensions are differently named)\n",
    "    sliced_DA = DA.sel(q_xy=slice(qxy_min, qxy_max), q_z=slice(qz_min, qz_max))\n",
    "    \n",
    "    real_min = float(sliced_DA.compute().quantile(0.05))\n",
    "    cmin = 1 if real_min < 1 else real_min\n",
    "\n",
    "    cmax = float(sliced_DA.compute().quantile(0.997))   \n",
    "    \n",
    "    # Plot\n",
    "    ax = sliced_DA.plot.imshow(cmap=cmap, norm=plt.Normalize(cmin, cmax), interpolation='antialiased', figsize=(5.5,3.3))\n",
    "    ax.colorbar.set_label('Intensity [arb. units]', rotation=270, labelpad=15)\n",
    "    # ax.axes.set(aspect='equal', title=f'Cartesian Plot: {DA.material} {DA.solvent} {DA.rpm}, {float(DA.incident_angle[2:])}° Incidence',\n",
    "    #             xlabel='q$_{xy}$ [Å$^{-1}$]', ylabel='q$_z$ [Å$^{-1}$]')\n",
    "    ax.axes.set(aspect='equal', title=f'Cartesian Plot: {DA.material} {DA.solvent}, {float(DA.incident_angle[2:])}° Incidence',\n",
    "                xlabel='q$_{xy}$ [Å$^{-1}$]', ylabel='q$_z$ [Å$^{-1}$]')\n",
    "    ax.figure.set(tight_layout=True, dpi=130)\n",
    "    \n",
    "    # ax.figure.savefig(savePath.joinpath(f'{DA.material}-{DA.solvent}-{DA.rpm}_qxy{qxy_min}to{qxy_max}_qz{qz_min}to{qz_max}_{DA.incident_angle}.png'), dpi=150)\n",
    "    # ax.figure.savefig(savePath.joinpath(f'{DA.material}-{DA.solvent}_qxy{qxy_min}to{qxy_max}_qz{qz_min}to{qz_max}_{DA.incident_angle}.png'), dpi=150)\n",
    "\n",
    "    plt.show()\n",
    "    plt.close('all')"
   ]
  },
  {
   "cell_type": "code",
   "execution_count": null,
   "id": "62260f97-d8e3-4dd2-8f11-1dea84dda9da",
   "metadata": {
    "tags": []
   },
   "outputs": [],
   "source": [
    "# Yoneda peak linecut check\n",
    "qxy_min = 0.22\n",
    "qxy_max = 2\n",
    "qz_min = -0.02\n",
    "qz_max = 0.06\n",
    "\n",
    "selected_DAs = select_attrs(fixed_recip_DS.data_vars.values(), selected_attrs_dict)\n",
    "for DA in tqdm(selected_DAs):\n",
    "    # Slice data for selected q ranges (will need to rename q_xy if dimensions are differently named)\n",
    "    sliced_DA = DA.sel(q_xy=slice(qxy_min, qxy_max), q_z=slice(qz_min, qz_max))\n",
    "    qz_integrated_DA = sliced_DA.sum('q_xy')\n",
    "    \n",
    "    # Plot\n",
    "    qz_integrated_DA.plot.line(label=DA.incident_angle)\n",
    "    \n",
    "plt.legend()\n",
    "plt.grid(visible=True, which='major', axis='x')\n",
    "plt.show()"
   ]
  },
  {
   "cell_type": "code",
   "execution_count": null,
   "id": "f466b4f1-1e6e-4154-9165-4a7d6915c184",
   "metadata": {
    "tags": []
   },
   "outputs": [],
   "source": [
    "chi_min = 60\n",
    "chi_max = None\n",
    "\n",
    "selected_DAs = select_attrs(fixed_caked_DS.data_vars.values(), selected_attrs_dict)\n",
    "for DA in tqdm(selected_DAs):\n",
    "    # Slice dataarray to select plotting region \n",
    "    sliced_DA = DA.sel(chi=slice(chi_min,chi_max))\n",
    "    \n",
    "    # real_min = float(DA.sel(q_xy=slice(-0.5, -0.1), q_z=slice(0.1, 0.4)).compute().quantile(1e-3))\n",
    "    real_min = float(DA.compute().quantile(0.05))\n",
    "    cmin = 1 if real_min < 1 else real_min\n",
    "    \n",
    "    # cmax = float(DA.sel(q_xy=slice(-0.5, -0.1), q_z=slice(0.1, 2)).compute().quantile(1))   \n",
    "    cmax = float(DA.compute().quantile(0.999))  \n",
    "    \n",
    "    # Plot sliced dataarray\n",
    "    ax = sliced_DA.plot.imshow(cmap=cmap, norm=plt.Normalize(cmin, 10), figsize=(5,4), interpolation='antialiased')  # plot, optional parameter interpolation='antialiased' for image smoothing\n",
    "    ax.colorbar.set_label('Intensity [arb. units]', rotation=270, labelpad=15)  # set colorbar label & parameters \n",
    "    ax.axes.set(title=f'Polar Plot: {DA.material} {DA.solvent}, {float(DA.incident_angle[2:])}° Incidence',\n",
    "                xlabel='q$_r$ [Å$^{-1}$]', ylabel='$\\chi$ [°]')  # set title, axis labels, misc\n",
    "    ax.figure.set(tight_layout=True, dpi=130)  # Adjust figure dpi & plotting style\n",
    "    \n",
    "    plt.show()  # Comment to mute plotting output\n",
    "    \n",
    "    # Uncomment below line and set savepath/savename for saving plots, I usually like to check \n",
    "    # ax.figure.savefig(outPath.joinpath('PM6-Y6set_waxs', f'polar-2D_{DA.sample_id}_{chi_min}to{chi_max}chi_{DA.incident_angle}.png'), dpi=150)\n",
    "    plt.close('all')"
   ]
  },
  {
   "cell_type": "code",
   "execution_count": null,
   "id": "43c9a438-7c01-49d5-88f6-41b1ff42bf60",
   "metadata": {},
   "outputs": [],
   "source": [
    "fixed_recip_DS.to_zarr(savePath.joinpath('fix_recip_stitched.zarr'), mode='w')"
   ]
  },
  {
   "cell_type": "code",
   "execution_count": null,
   "id": "cda5e485-8870-41c2-a63e-6490ab3648a2",
   "metadata": {},
   "outputs": [],
   "source": [
    "fixed_raw_DS.to_zarr(savePath.joinpath('fix_raw_stitched.zarr'), mode='w')"
   ]
  },
  {
   "cell_type": "code",
   "execution_count": null,
   "id": "fd28f9fb-511b-4ac2-815e-a46f3a410dee",
   "metadata": {},
   "outputs": [],
   "source": [
    "fixed_caked_DS.to_zarr(savePath.joinpath('fix_caked_stitched.zarr'), mode='w')"
   ]
  },
  {
   "cell_type": "code",
   "execution_count": null,
   "id": "570b606b-d899-48e8-b094-c3f2e1a7014e",
   "metadata": {
    "scrolled": true,
    "tags": []
   },
   "outputs": [],
   "source": [
    "variable_raw_DS, variable_recip_DS, variable_caked_DS = phs.GIWAXS.single_images_to_dataset(variable_rpm_set, variable_rpm_loader, transformer)"
   ]
  },
  {
   "cell_type": "code",
   "execution_count": null,
   "id": "63f31c7a-c321-43da-9c39-4497eb18fda6",
   "metadata": {},
   "outputs": [],
   "source": [
    "variable_recip_DS.to_zarr(savePath.joinpath('var_recip_stitched.zarr'), mode='w')"
   ]
  },
  {
   "cell_type": "code",
   "execution_count": null,
   "id": "be7b1168-9c50-4714-bdc0-77cbe51e38c3",
   "metadata": {},
   "outputs": [],
   "source": [
    "variable_raw_DS.to_zarr(savePath.joinpath('var_raw_stitched.zarr'), mode='w')"
   ]
  },
  {
   "cell_type": "code",
   "execution_count": null,
   "id": "5eca41f5-09d4-4953-a45e-bcd4e4fbcd81",
   "metadata": {},
   "outputs": [],
   "source": [
    "variable_caked_DS.to_zarr(savePath.joinpath('var_caked_stitched.zarr'), mode='w')"
   ]
  },
  {
   "cell_type": "code",
   "execution_count": null,
   "id": "02c33b02-daf7-48b6-9471-4c701ee53f10",
   "metadata": {},
   "outputs": [],
   "source": []
  }
 ],
 "metadata": {
  "kernelspec": {
   "display_name": "Python 3 (ipykernel)",
   "language": "python",
   "name": "python3"
  },
  "language_info": {
   "codemirror_mode": {
    "name": "ipython",
    "version": 3
   },
   "file_extension": ".py",
   "mimetype": "text/x-python",
   "name": "python",
   "nbconvert_exporter": "python",
   "pygments_lexer": "ipython3",
   "version": "3.10.5"
  }
 },
 "nbformat": 4,
 "nbformat_minor": 5
}
