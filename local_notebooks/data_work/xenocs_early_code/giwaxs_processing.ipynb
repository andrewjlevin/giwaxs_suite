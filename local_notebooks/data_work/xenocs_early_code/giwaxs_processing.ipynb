{
 "cells": [
  {
   "cell_type": "markdown",
   "id": "b3c13da0-ce45-4653-9fb2-5f71078d5a36",
   "metadata": {},
   "source": [
    "# Ex situ GIWAXS processing\n",
    "\n",
    "# GIWAXS raw data processing & exporting notebook\n",
    "In this notebook you output xr.DataSets stored as .zarr stores containing all your raw,\n",
    "remeshed (reciprocal space), and caked CMS GIWAXS data. Saving as a zarr automatically converts the array to a dask array"
   ]
  },
  {
   "cell_type": "markdown",
   "id": "96625ca6-7ec2-4690-bf01-72b422801f76",
   "metadata": {},
   "source": [
    "## Imports"
   ]
  },
  {
   "cell_type": "code",
   "execution_count": null,
   "id": "dd667c0e-baba-4a5d-857a-ca8bd5ce1407",
   "metadata": {},
   "outputs": [],
   "source": [
    "### Imports:\n",
    "import pathlib\n",
    "import numpy as np\n",
    "import matplotlib.pyplot as plt\n",
    "from matplotlib.colors import LogNorm\n",
    "import xarray as xr\n",
    "import PyHyperScattering as phs\n",
    "import fabio\n",
    "import gc\n",
    "from tqdm.auto import tqdm  # progress bar loader!\n",
    "\n",
    "print(f\"Don't worry about the above warnings/errors... using PyHyperScattering version: {phs.__version__}!\")"
   ]
  },
  {
   "cell_type": "markdown",
   "id": "7dffa6de-0360-4fcb-b0bf-f320927837d0",
   "metadata": {
    "tags": []
   },
   "source": [
    "## Defining some objects"
   ]
  },
  {
   "cell_type": "markdown",
   "id": "b36b6f6c-4643-46b3-9784-9a6071c754ba",
   "metadata": {},
   "source": [
    "### Define & check paths"
   ]
  },
  {
   "cell_type": "code",
   "execution_count": null,
   "id": "8db0fc93-6739-457a-a7fe-ba695bb41716",
   "metadata": {},
   "outputs": [],
   "source": [
    "sample_name = 'PM7_5CNCF'\n",
    "\n",
    "# I like pathlib for its readability & checkability, it's also necessary for the loadSeries function later on\n",
    "# Replace the paths with the ones relevant to your data, you can use the \".exists()\" method to make sure you defined a path correctly\n",
    "suitePath = pathlib.Path('/Users/andrew/Library/CloudStorage/OneDrive-UCB-O365/research/data_analysis/giwaxs_suite')\n",
    "xenocsPath = suitePath.joinpath('raw_data/xenocs')\n",
    "rawPath = xenocsPath.joinpath('2024_04_12')\n",
    "dataPath = rawPath.joinpath(sample_name)\n",
    "outPath = suitePath.joinpath('processed_data/xenocs')\n",
    "\n",
    "# Select poni & mask filepaths\n",
    "# poniFile = xenocsPath.joinpath('xenocs_100sdd.poni')\n",
    "poniFile = xenocsPath.joinpath('xenocs_120sdd.poni')\n",
    "# maskFile = rawPath.joinpath('Pilatus2M_mask.edf')\n",
    "\n",
    "# Colormap\n",
    "cmap = plt.cm.turbo.copy()\n",
    "cmap.set_bad('black')"
   ]
  },
  {
   "cell_type": "code",
   "execution_count": null,
   "id": "e2d7ba44-ea07-487f-975b-443821081be9",
   "metadata": {},
   "outputs": [],
   "source": [
    "pilatus1m = 0.000172\n",
    "eiger2_1m = 0.000075\n",
    "\n",
    "def poni_centers(poniFile, pix_size=eiger2_1m):\n",
    "    \"\"\"\n",
    "    Returns poni center value and the corresponding pixel position. Default pixel size is 172 microns (Pilatus 1M)\n",
    "    \n",
    "    Inputs: poniFile as pathlib path object to the poni file\n",
    "    Outputs: ((poni1, y_center), (poni2, x_center))\n",
    "    \"\"\"\n",
    "    \n",
    "    with poniFile.open('r') as f:\n",
    "        lines = list(f.readlines())\n",
    "    poni1_str = lines[6]\n",
    "    poni2_str = lines[7]\n",
    "\n",
    "    poni1 = float(poni1_str.split(' ')[1])\n",
    "    poni2 = float(poni2_str.split(' ')[1])\n",
    "\n",
    "    y_center = poni1 / pix_size\n",
    "    x_center = poni2 / pix_size\n",
    "        \n",
    "    return ((poni1, y_center), (poni2, x_center))\n",
    "\n",
    "display(poni_centers(poniFile))"
   ]
  },
  {
   "cell_type": "code",
   "execution_count": null,
   "id": "a54b7e5f-b3b2-4d94-a552-107aa5cd6e80",
   "metadata": {},
   "outputs": [],
   "source": [
    "[f.name for f in rawPath.glob('*')]"
   ]
  },
  {
   "cell_type": "markdown",
   "id": "c1840638-1577-4dea-8819-ffb69d6f80b8",
   "metadata": {},
   "source": [
    "### Define metadata naming scheme & initialize loaders"
   ]
  },
  {
   "cell_type": "code",
   "execution_count": null,
   "id": "40c59ce5-ea98-4f71-a9ef-c7bb46ce42e4",
   "metadata": {
    "tags": []
   },
   "outputs": [],
   "source": [
    "# files = sorted(dataPath.glob('*vd*.edf'))\n",
    "# files = sorted(dataPath.glob('*.edf'))\n",
    "files = sorted(rawPath.glob('*.edf'))\n",
    "\n",
    "[f.name for f in files]"
   ]
  },
  {
   "cell_type": "code",
   "execution_count": null,
   "id": "fdd31494-d2e4-43d7-adce-d31098c55edb",
   "metadata": {},
   "outputs": [],
   "source": [
    "# set ex situ metadata filename naming schemes:\n",
    "# md_naming_scheme = ['material', 'solvent', 'misc', 'stitched', 'scan_ids']\n",
    "# md_naming_scheme = ['material', 'anneal', 'solvent', 'misc', 'scan_id']\n",
    "\n",
    "\n",
    "# Initalize CMSGIWAXSLoader objects with the above naming schemes\n",
    "loader = phs.load.CMSGIWAXSLoader()"
   ]
  },
  {
   "cell_type": "markdown",
   "id": "89d72a19-8729-4ebd-914a-9cba20016a72",
   "metadata": {
    "tags": []
   },
   "source": [
    "## Data processing\n",
    "Break this section up however makes sense for your data"
   ]
  },
  {
   "cell_type": "markdown",
   "id": "51ed614d-ed76-4993-beac-41512d63a648",
   "metadata": {
    "tags": []
   },
   "source": [
    "### Check raw data"
   ]
  },
  {
   "cell_type": "code",
   "execution_count": null,
   "id": "9cce729b-67ac-4f56-866f-f9dfc9051ea8",
   "metadata": {
    "tags": []
   },
   "outputs": [],
   "source": [
    "# Single file\n",
    "\n",
    "# file = sorted(dataPath.glob('*.edf'))[0]\n",
    "file = files[0]\n",
    "\n",
    "DA = loader.loadSingleImage(file)\n",
    "DA"
   ]
  },
  {
   "cell_type": "markdown",
   "id": "d2beb7e4-cd19-479b-98a1-54648ed526b1",
   "metadata": {
    "tags": []
   },
   "source": [
    "### Apply rotation corrections if necessary"
   ]
  },
  {
   "cell_type": "code",
   "execution_count": null,
   "id": "98db4a54-eb10-4f14-9700-5cda96a34be1",
   "metadata": {},
   "outputs": [],
   "source": [
    "# from scipy import ndimage"
   ]
  },
  {
   "cell_type": "code",
   "execution_count": null,
   "id": "d0725b90-6455-4713-bcf9-a9e69ae0948c",
   "metadata": {},
   "outputs": [],
   "source": [
    "# # Interactively plot data of selected sample to identify point coordinates\n",
    "# plt.close('all')\n",
    "# DA = stitched_DAs[0].copy()\n",
    "\n",
    "# cmin=DA.quantile(0.2)\n",
    "# cmax=DA.quantile(0.99)\n",
    "# ax = DA.plot.imshow(norm=plt.Normalize(cmin,cmax), origin='upper', cmap=cmap)\n",
    "# ax.axes.set_title(f'{DA.sample_id}: {DA.exposure_time}')    \n",
    "# plt.show()"
   ]
  },
  {
   "cell_type": "code",
   "execution_count": null,
   "id": "13a5980e-6c1c-4f03-beca-37034d1f3185",
   "metadata": {},
   "outputs": [],
   "source": [
    "# pivot_poni = (713, 1251)\n",
    "# def rotateImage(img, angle, pivot):\n",
    "#     padX = [img.shape[1] - pivot[0], pivot[0]]\n",
    "#     padY = [img.shape[0] - pivot[1], pivot[1]]\n",
    "#     imgP = np.pad(img, [padY, padX], 'constant')\n",
    "#     imgR = ndimage.rotate(imgP, angle, reshape=False)\n",
    "#     return imgR[padY[0] : -padY[1], padX[0] : -padX[1]]"
   ]
  },
  {
   "cell_type": "code",
   "execution_count": null,
   "id": "fdc40927-08ff-4e38-b171-ce5eea756f11",
   "metadata": {
    "tags": []
   },
   "outputs": [],
   "source": [
    "# # Apply rotation corrections based on lines drawn between points\n",
    "\n",
    "# rot_corr_DAs = []\n",
    "# for DA in tqdm(stitched_DAs, desc='Rotating...'):  \n",
    "#     # Get line points from dictionary\n",
    "#     p1, p2 = bottom_line_points[f'{DA.sample_id}_{DA.exposure_time}']\n",
    "\n",
    "#     # Calculate the angle from points\n",
    "#     dx = p2[0] - p1[0]\n",
    "#     dy = p2[1] - p1[1]\n",
    "#     angle_radians = np.arctan2(dy, dx)\n",
    "#     angle_degrees = np.degrees(angle_radians)\n",
    "\n",
    "#     # Rotate image & save into list\n",
    "#     rot_corr_DA = xr.apply_ufunc(rotateImage, DA, angle_degrees, pivot_poni)\n",
    "#     # rot_corr_DA = xr.apply_ufunc(ndimage.rotate, DA, angle_degrees, (1, 0), False, None, 3, 'constant')\n",
    "#     # rot_corr_DA = xr.apply_ufunc(ndimage.rotate, DA, 0, (1, 0), False)\n",
    "#     rot_corr_DA.attrs = DA.attrs\n",
    "#     rot_corr_DAs.append(rot_corr_DA)\n",
    "    \n",
    "# # Plot check\n",
    "# for rot_corr_DA in rot_corr_DAs:\n",
    "#     cmin = rot_corr_DA.quantile(0.2)\n",
    "#     cmax = rot_corr_DA.quantile(0.99)\n",
    "#     rot_corr_DA.plot.imshow(norm=plt.Normalize(cmin,cmax), origin='upper', cmap=cmap)\n",
    "#     plt.show()\n",
    "#     plt.close('all')"
   ]
  },
  {
   "cell_type": "markdown",
   "id": "4027a072-0908-4d18-9c67-96856fa70b1d",
   "metadata": {},
   "source": [
    "### pygix-backed reduction"
   ]
  },
  {
   "cell_type": "code",
   "execution_count": null,
   "id": "dd9f517d-f29f-4cf8-8e4c-d386e121c211",
   "metadata": {},
   "outputs": [],
   "source": [
    "arr = np.array([[1,2],[3,4]])\n",
    "arr2 = arr.copy()\n",
    "display(arr)\n",
    "display((arr+arr2)/2)"
   ]
  },
  {
   "cell_type": "code",
   "execution_count": null,
   "id": "c4f81b54-fecf-4d1d-b6ec-7887fb4d5000",
   "metadata": {},
   "outputs": [],
   "source": [
    "file"
   ]
  },
  {
   "cell_type": "code",
   "execution_count": null,
   "id": "29aabe2d-c31e-4003-bfb1-54f2eb473593",
   "metadata": {},
   "outputs": [],
   "source": [
    "fab_data.data.shape"
   ]
  },
  {
   "cell_type": "code",
   "execution_count": null,
   "id": "13797631-d1de-4fac-9cac-9abc4ae670b3",
   "metadata": {
    "tags": []
   },
   "outputs": [],
   "source": [
    "fab_data = fabio.open(file)\n",
    "fab_data.header"
   ]
  },
  {
   "cell_type": "code",
   "execution_count": null,
   "id": "791c3894-a019-495e-b0ff-01280798d016",
   "metadata": {},
   "outputs": [],
   "source": [
    "mask_arr = fabio.open(file).data.astype('bool')\n",
    "print(mask_arr.shape)"
   ]
  },
  {
   "cell_type": "code",
   "execution_count": null,
   "id": "38b0e234-eb21-4e07-9801-8bf7e4d9016e",
   "metadata": {},
   "outputs": [],
   "source": [
    "# pg_transformer = Transform(poniFile, mask_arr[30:, :], energy=8.04)\n",
    "pg_transformer = Transform(poniFile, np.zeros_like(mask_arr), energy=8.04)"
   ]
  },
  {
   "cell_type": "code",
   "execution_count": null,
   "id": "baca5273-ee8c-44d0-a4ac-7c76d4882413",
   "metadata": {},
   "outputs": [],
   "source": [
    "# Transform single DA\n",
    "# DA = rot_corr_DAs[0]\n",
    "DA.attrs['incident_angle'] = 'th0.15'\n",
    "\n",
    "recip_DA, caked_DA = pg_transformer.pg_convert(DA)\n",
    "\n",
    "# # Create a DataSet, each DataArray will be named according to it's scan id\n",
    "# raw_DS = DA.to_dataset(name=f'{DA.material}_{DA.anneal}_{DA.solvent}')\n",
    "# recip_DS = recip_DA.to_dataset(name=f'{DA.material}_{DA.anneal}_{DA.solvent}')\n",
    "# caked_DS = caked_DA.to_dataset(name=f'{DA.material}_{DA.anneal}_{DA.solvent}')\n",
    "\n",
    "# Create a DataSet, each DataArray will be named according to it's scan id\n",
    "raw_DS = DA.to_dataset(name=f'{DA.material}_{DA.solvent}')\n",
    "recip_DS = recip_DA.to_dataset(name=f'{DA.material}_{DA.solvent}')\n",
    "caked_DS = caked_DA.to_dataset(name=f'{DA.material}_{DA.solvent}')"
   ]
  },
  {
   "cell_type": "code",
   "execution_count": null,
   "id": "2c0d2663-229d-4acc-9d83-97308b818c57",
   "metadata": {},
   "outputs": [],
   "source": [
    "# # Select the first element of the sorted set outside of the for loop to initialize the xr.DataSet\n",
    "# # DA = stitched_DAs[0]\n",
    "# DA = rot_corr_DAs[0]\n",
    "# recip_DA, caked_DA = pg_transformer.pg_convert(DA)\n",
    "\n",
    "# # Save coordinates for interpolating other dataarrays \n",
    "# recip_coords = recip_DA.coords\n",
    "# caked_coords = caked_DA.coords\n",
    "\n",
    "# # Create a DataSet, each DataArray will be named according to it's scan id\n",
    "# raw_DS = DA.to_dataset(name=f'{DA.sample_id}_{DA.exposure_time}')\n",
    "# recip_DS = recip_DA.to_dataset(name=f'{DA.sample_id}_{DA.exposure_time}')\n",
    "# caked_DS = caked_DA.to_dataset(name=f'{DA.sample_id}_{DA.exposure_time}')\n",
    "\n",
    "# # Populate the DataSet with \n",
    "# # for DA in tqdm(stitched_DAs[1:], desc=f'Transforming Raw Data'):\n",
    "# for DA in tqdm(rot_corr_DAs[1:], desc=f'Transforming Raw Data'):\n",
    "#     recip_DA, caked_DA = pg_transformer.pg_convert(DA)\n",
    "\n",
    "#     recip_DA = recip_DA.interp(recip_coords)\n",
    "#     caked_DA = caked_DA.interp(caked_coords)    \n",
    "\n",
    "#     raw_DS[f'{DA.sample_id}_{DA.exposure_time}'] = DA\n",
    "#     recip_DS[f'{DA.sample_id}_{DA.exposure_time}'] = recip_DA    \n",
    "#     caked_DS[f'{DA.sample_id}_{DA.exposure_time}'] = caked_DA"
   ]
  },
  {
   "cell_type": "code",
   "execution_count": null,
   "id": "886cc7bd-bc48-41e2-8340-613f5b65f5a2",
   "metadata": {},
   "outputs": [],
   "source": [
    "%matplotlib widget"
   ]
  },
  {
   "cell_type": "code",
   "execution_count": null,
   "id": "55e6ca0c-560e-4618-95fe-46489ee91a1f",
   "metadata": {},
   "outputs": [],
   "source": [
    "plt.close('all')"
   ]
  },
  {
   "cell_type": "code",
   "execution_count": null,
   "id": "6c2df66d-b8cb-46b8-91f1-a53fb17a4415",
   "metadata": {},
   "outputs": [],
   "source": [
    "outPath"
   ]
  },
  {
   "cell_type": "code",
   "execution_count": null,
   "id": "5bf97271-a223-4ba3-a1d6-98e68712464c",
   "metadata": {
    "tags": []
   },
   "outputs": [],
   "source": [
    "qxy_min = -0.65\n",
    "qxy_max = 2\n",
    "qz_min = 0\n",
    "qz_max = 2.2\n",
    "\n",
    "# Plot check recip DAs\n",
    "for DA in recip_DS.data_vars.values():\n",
    "    sliced_DA = DA.sel(q_xy=slice(qxy_min, qxy_max), q_z=slice(qz_min,qz_max))\n",
    "    \n",
    "    cmin = sliced_DA.quantile(0.1)\n",
    "    cmax = sliced_DA.quantile(0.993)\n",
    "    ax = sliced_DA.plot.imshow(norm=plt.Normalize(cmin,cmax), cmap=cmap, figsize=(5,3.5))\n",
    "    ax.axes.set_title(f'{sliced_DA.material} {sliced_DA.solvent}')   \n",
    "    ax.axes.set(aspect='equal', xlabel='$Q_{xy}$ $[\\AA^{-1}]$', ylabel='$Q_{z}$ $[\\AA^{-1}]$')\n",
    "    ax.colorbar.set_label('Intensity [arb. units]', rotation=270, labelpad=15)\n",
    "    \n",
    "    # Save\n",
    "    savePath = outPath.joinpath('recip_images')\n",
    "    savePath.mkdir(exist_ok=True)\n",
    "    ax.figure.savefig(savePath.joinpath(f'{sliced_DA.material}_{sliced_DA.solvent}'), dpi=120)\n",
    "    \n",
    "    plt.show()\n",
    "    plt.close('all') "
   ]
  },
  {
   "cell_type": "code",
   "execution_count": null,
   "id": "3905c1b4-364d-4a1b-ae73-d5e9e39032ca",
   "metadata": {},
   "outputs": [],
   "source": [
    "sliced_recip_DA = recip_DA.sel(q_xy=slice(qxy_min, qxy_max), q_z=slice(qz_min,qz_max))\n",
    "\n",
    "display(sliced_recip_DA.data.shape)\n",
    "display(sliced_recip_DA.q_xy.data.shape)\n",
    "display(sliced_recip_DA.q_z.data.shape)"
   ]
  },
  {
   "cell_type": "code",
   "execution_count": null,
   "id": "316c44b2-33d3-4817-8671-d23e40c70899",
   "metadata": {},
   "outputs": [],
   "source": [
    "npysPath = outPath.joinpath('npys')\n",
    "savePath = npysPath.joinpath(f'{sample_name}')\n",
    "savePath.mkdir(exist_ok=True)\n",
    "\n",
    "np.save(savePath.joinpath(f'data_{sample_name}.npy'), sliced_recip_DA.data)\n",
    "np.save(savePath.joinpath(f'qxy_{sample_name}.npy'), sliced_recip_DA.q_xy.data)\n",
    "np.save(savePath.joinpath(f'qz_{sample_name}.npy'), sliced_recip_DA.q_z.data)"
   ]
  },
  {
   "cell_type": "code",
   "execution_count": null,
   "id": "e476a743-5f6a-458c-88d2-f1e199ba4623",
   "metadata": {},
   "outputs": [],
   "source": [
    "plt.close('all')"
   ]
  },
  {
   "cell_type": "code",
   "execution_count": null,
   "id": "ce744598-aec2-4346-a4f2-06be913a424c",
   "metadata": {},
   "outputs": [],
   "source": [
    "data = np.load(savePath.joinpath(f'data_{sample_name}.npy'))\n",
    "plt.imshow(data, norm=plt.Normalize(cmin,cmax), origin='lower')\n",
    "plt.show()"
   ]
  },
  {
   "cell_type": "markdown",
   "id": "d3c0c38b-ddf4-454e-b5b4-3439be569cab",
   "metadata": {
    "jp-MarkdownHeadingCollapsed": true,
    "tags": []
   },
   "source": [
    "### Yoneda check:"
   ]
  },
  {
   "cell_type": "code",
   "execution_count": null,
   "id": "2cd43835-2e0e-4cd9-b900-3c9fefa726d3",
   "metadata": {},
   "outputs": [],
   "source": [
    "def qz(wavelength, alpha_crit, alpha_incidents):\n",
    "    qz_inv_meters = ((4 * np.pi) / (wavelength)) * (np.sin(np.deg2rad((alpha_incidents + alpha_crit)/2)))\n",
    "    # qz_inv_meters = ((4 * np.pi) / (wavelength)) * (np.sin(np.deg2rad(alpha_crit)) + np.sin(np.deg2rad(alpha_incidents)))\n",
    "    qz_inv_angstroms = qz_inv_meters / 1e10\n",
    "    return qz_inv_angstroms\n",
    "\n",
    "\n",
    "# wavelength = 9.762535309700809e-11  # 12.7 keV\n",
    "wavelength = 1.2398419843320025e-10  # 10 keV\n",
    "\n",
    "alpha_crit = 0.11  # organic film critical angle\n",
    "alpha_incidents = np.array([0.14])\n",
    "\n",
    "yoneda_angles = alpha_incidents + alpha_crit\n",
    "\n",
    "qz(wavelength, alpha_crit, alpha_incidents)"
   ]
  },
  {
   "cell_type": "code",
   "execution_count": null,
   "id": "d2a648aa-2d36-4224-b541-e087a2a986f0",
   "metadata": {},
   "outputs": [],
   "source": [
    "# %matplotlib widget"
   ]
  },
  {
   "cell_type": "code",
   "execution_count": null,
   "id": "73961d3d-467b-4a57-9cd9-f026f7acda69",
   "metadata": {},
   "outputs": [],
   "source": [
    "# ax = recip_DS['sam6_2s'].plot.imshow(norm=plt.Normalize(cmin,cmax), cmap=cmap)\n",
    "# ax.axes.set_title(f'{sliced_DA.sample_id}: {sliced_DA.exposure_time}')   \n",
    "# ax.axes.set(aspect='equal')\n",
    "# plt.show()"
   ]
  },
  {
   "cell_type": "code",
   "execution_count": null,
   "id": "33d64c56-1910-4a5b-a2c3-2426bcc38fe1",
   "metadata": {},
   "outputs": [],
   "source": [
    "# def select_attrs(data_arrays_iterable, selected_attrs_dict):\n",
    "#     \"\"\"\n",
    "#     Selects data arrays whose attributes match the specified values.\n",
    "\n",
    "#     Parameters:\n",
    "#     data_arrays_iterable: Iterable of xarray.DataArray objects.\n",
    "#     selected_attrs_dict: Dictionary where keys are attribute names and \n",
    "#                          values are the attributes' desired values.\n",
    "\n",
    "#     Returns:\n",
    "#     List of xarray.DataArray objects that match the specified attributes.\n",
    "#     \"\"\"    \n",
    "#     sublist = list(data_arrays_iterable)\n",
    "    \n",
    "#     for attr_name, attr_values in selected_attrs_dict.items():\n",
    "#         sublist = [da for da in sublist if da.attrs[attr_name] in attr_values]\n",
    "                \n",
    "#     return sublist"
   ]
  },
  {
   "cell_type": "code",
   "execution_count": null,
   "id": "62260f97-d8e3-4dd2-8f11-1dea84dda9da",
   "metadata": {
    "tags": []
   },
   "outputs": [],
   "source": [
    "# # Yoneda peak linecut check\n",
    "# qxy_min = 0.22\n",
    "# qxy_max = 2\n",
    "# qz_min = -0.02\n",
    "# qz_max = 0.06\n",
    "\n",
    "# selected_DAs = select_attrs(fixed_recip_DS.data_vars.values(), selected_attrs_dict)\n",
    "# for DA in tqdm(selected_DAs):\n",
    "#     # Slice data for selected q ranges (will need to rename q_xy if dimensions are differently named)\n",
    "#     sliced_DA = DA.sel(q_xy=slice(qxy_min, qxy_max), q_z=slice(qz_min, qz_max))\n",
    "#     qz_integrated_DA = sliced_DA.sum('q_xy')\n",
    "    \n",
    "#     # Plot\n",
    "#     qz_integrated_DA.plot.line(label=DA.incident_angle)\n",
    "    \n",
    "# plt.legend()\n",
    "# plt.grid(visible=True, which='major', axis='x')\n",
    "# plt.show()"
   ]
  },
  {
   "cell_type": "markdown",
   "id": "3f545dc3-3cf0-4c28-8a47-9e93f6ae9f31",
   "metadata": {},
   "source": [
    "### Save zarrs"
   ]
  },
  {
   "cell_type": "code",
   "execution_count": null,
   "id": "41d44c45-633a-4595-8bf5-7d796eabbcb1",
   "metadata": {},
   "outputs": [],
   "source": [
    "savePath = outPath.joinpath('zarrs')"
   ]
  },
  {
   "cell_type": "code",
   "execution_count": null,
   "id": "43c9a438-7c01-49d5-88f6-41b1ff42bf60",
   "metadata": {},
   "outputs": [],
   "source": [
    "recip_DS.to_zarr(savePath.joinpath('recip_stitched.zarr'), mode='w')"
   ]
  },
  {
   "cell_type": "code",
   "execution_count": null,
   "id": "cda5e485-8870-41c2-a63e-6490ab3648a2",
   "metadata": {},
   "outputs": [],
   "source": [
    "raw_DS.to_zarr(savePath.joinpath('raw_stitched.zarr'), mode='w')"
   ]
  },
  {
   "cell_type": "code",
   "execution_count": null,
   "id": "fd28f9fb-511b-4ac2-815e-a46f3a410dee",
   "metadata": {},
   "outputs": [],
   "source": [
    "caked_DS.to_zarr(savePath.joinpath('caked_stitched.zarr'), mode='w')"
   ]
  },
  {
   "cell_type": "code",
   "execution_count": null,
   "id": "02c33b02-daf7-48b6-9471-4c701ee53f10",
   "metadata": {},
   "outputs": [],
   "source": []
  }
 ],
 "metadata": {
  "kernelspec": {
   "display_name": "Python 3 (ipykernel)",
   "language": "python",
   "name": "python3"
  },
  "language_info": {
   "codemirror_mode": {
    "name": "ipython",
    "version": 3
   },
   "file_extension": ".py",
   "mimetype": "text/x-python",
   "name": "python",
   "nbconvert_exporter": "python",
   "pygments_lexer": "ipython3",
   "version": "3.12.3"
  }
 },
 "nbformat": 4,
 "nbformat_minor": 5
}
