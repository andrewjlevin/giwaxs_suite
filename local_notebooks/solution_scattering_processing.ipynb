{
 "cells": [
  {
   "cell_type": "markdown",
   "id": "4aa35e23-7a1a-4cff-9866-f163c4cfa56b",
   "metadata": {},
   "source": [
    "# Processing solution SAXS data txt files from Tom"
   ]
  },
  {
   "cell_type": "code",
   "execution_count": null,
   "id": "521992af-693b-4b60-b624-9e3e45d72dd1",
   "metadata": {},
   "outputs": [],
   "source": [
    "# Imports\n",
    "\n",
    "import pathlib\n",
    "import numpy as np\n",
    "import matplotlib.pyplot as plt\n",
    "import xarray as xr\n",
    "from tqdm.auto import tqdm"
   ]
  },
  {
   "cell_type": "code",
   "execution_count": null,
   "id": "0c933646-ba1f-423c-94f7-a6b7d1bd1c93",
   "metadata": {},
   "outputs": [],
   "source": [
    "# Define paths\n",
    "\n",
    "notebookPath = pathlib.Path.cwd()\n",
    "outPath = notebookPath.parent.joinpath('processed_data/solution-saxs-5IDD')\n",
    "txtsPath = outPath.joinpath('Acceptor_BHJ_SAXS')"
   ]
  },
  {
   "cell_type": "code",
   "execution_count": null,
   "id": "60c42967-585e-42aa-9339-e940c20d82a8",
   "metadata": {},
   "outputs": [],
   "source": [
    "txt_files = sorted(txtsPath.glob('*txt'))"
   ]
  },
  {
   "cell_type": "code",
   "execution_count": null,
   "id": "a5ededbb-06b2-47fa-87f0-d1c4ea2943fe",
   "metadata": {},
   "outputs": [],
   "source": [
    "[f.name for f in txt_files[1:]]"
   ]
  },
  {
   "cell_type": "code",
   "execution_count": null,
   "id": "b14cec87-09cf-49aa-ade2-512ceb943d72",
   "metadata": {},
   "outputs": [],
   "source": [
    "samp_DS_rows = []\n",
    "for txt_file in tqdm(txt_files[1:]):\n",
    "    filename_split = txt_file.stem.split('_')\n",
    "    \n",
    "    data = np.loadtxt(txt_file)\n",
    "    material = filename_split[0]\n",
    "    solvent = filename_split[1]\n",
    "    sample_name = material+'-'+solvent\n",
    "    \n",
    "    sol = filename_split[2]\n",
    "    buf = filename_split[3]\n",
    "    emp = filename_split[4]\n",
    "    \n",
    "    \n",
    "    samp_DS = xr.Dataset(data_vars={'intensity': ('q', data[:, 1]),\n",
    "                                    'error': ('q', data[:, 2])},\n",
    "                         coords={'q':data[:,0],\n",
    "                                 'sample_name':[sample_name], \n",
    "                                 'sol':('sample_name', [int(sol[3:])]),\n",
    "                                 'buf':('sample_name', [int(buf[3:])]),\n",
    "                                 'emp':('sample_name', [int(emp[3:])])})\n",
    "\n",
    "    samp_DS_rows.append(samp_DS)\n",
    "    \n",
    "DS = xr.concat(samp_DS_rows, dim='sample_name')\n",
    "DS"
   ]
  },
  {
   "cell_type": "code",
   "execution_count": null,
   "id": "37ac8170-c967-4d08-86d5-33b9a71d1903",
   "metadata": {},
   "outputs": [],
   "source": [
    "DS.to_zarr(outPath.joinpath('acceptors.zarr'), mode='w')"
   ]
  },
  {
   "cell_type": "code",
   "execution_count": null,
   "id": "68266a58-5f0d-4e2e-8da6-7ef2072590d7",
   "metadata": {},
   "outputs": [],
   "source": [
    "DS.sel(sample_name='Y7-CB')"
   ]
  },
  {
   "cell_type": "code",
   "execution_count": null,
   "id": "15b1fd45-cf8c-4556-9dcb-19f3a97fb28b",
   "metadata": {},
   "outputs": [],
   "source": [
    "DS = xr.open_zarr(outPath.joinpath('acceptors.zarr')).compute()\n",
    "DS"
   ]
  },
  {
   "cell_type": "code",
   "execution_count": null,
   "id": "5fd67e4c-3ffc-43c9-b165-d903427287b6",
   "metadata": {},
   "outputs": [],
   "source": [
    "for DA in DS['intensity']:\n",
    "    DA.plot(xscale='log',yscale='log')\n",
    "    plt.title(f'{DA.sample_name.values}, sol{DA.sol.values}')\n",
    "    plt.show()"
   ]
  },
  {
   "cell_type": "code",
   "execution_count": null,
   "id": "c61e7058-bd6f-4088-8533-477b88cd672c",
   "metadata": {},
   "outputs": [],
   "source": [
    "# for txt_file in txt_files:\n",
    "#     data = np.loadtxt(txt_file)\n",
    "#     print(len(data[:,0]))\n",
    "#     plt.plot(data[:,0], data[:,1])\n",
    "#     plt.xscale('log')\n",
    "#     plt.yscale('log')\n",
    "#     plt.show()\n",
    "#     plt.close('all')"
   ]
  },
  {
   "cell_type": "code",
   "execution_count": null,
   "id": "1cce9c99-2b46-40f3-8099-b7c659b4a867",
   "metadata": {},
   "outputs": [],
   "source": []
  }
 ],
 "metadata": {
  "kernelspec": {
   "display_name": "Python 3 (ipykernel)",
   "language": "python",
   "name": "python3"
  },
  "language_info": {
   "codemirror_mode": {
    "name": "ipython",
    "version": 3
   },
   "file_extension": ".py",
   "mimetype": "text/x-python",
   "name": "python",
   "nbconvert_exporter": "python",
   "pygments_lexer": "ipython3",
   "version": "3.9.0"
  }
 },
 "nbformat": 4,
 "nbformat_minor": 5
}
