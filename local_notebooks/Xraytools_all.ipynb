{
 "cells": [
  {
   "cell_type": "markdown",
   "id": "354cbc44-0801-4248-88a3-09eb71cfd094",
   "metadata": {},
   "source": [
    "# Imports"
   ]
  },
  {
   "cell_type": "code",
   "execution_count": null,
   "id": "596af690-c204-44db-a78d-b0136108540c",
   "metadata": {
    "tags": []
   },
   "outputs": [],
   "source": [
    "import numpy as np\n",
    "from prettytable import PrettyTable\n",
    "import matplotlib.pyplot as plt\n",
    "from matplotlib.pyplot import subplots\n",
    "import xraydb\n",
    "# can install xraydb and pretttytable with pip"
   ]
  },
  {
   "cell_type": "code",
   "execution_count": null,
   "id": "1d4098ea-9005-4e37-946a-21576deb4d4a",
   "metadata": {
    "tags": []
   },
   "outputs": [],
   "source": [
    "# #iPython magic to make interactive plots work\n",
    "# %matplotlib widget"
   ]
  },
  {
   "cell_type": "markdown",
   "id": "4813de14-e9be-4265-b62b-e25bc0ca88ed",
   "metadata": {},
   "source": [
    "# Sample Detector Distance Calculators"
   ]
  },
  {
   "cell_type": "markdown",
   "id": "069ee1ae-4096-480b-9523-6f6a3d1097b4",
   "metadata": {},
   "source": [
    "### Given a maximum q-value how far away can I put my detector?"
   ]
  },
  {
   "cell_type": "code",
   "execution_count": null,
   "id": "87b3253e-d86e-4dab-a8c5-da2c97319791",
   "metadata": {
    "tags": []
   },
   "outputs": [],
   "source": [
    "### User Inputs ###\n",
    "length_y = 79.65 # (mm) total detector height (including detector gaps)\n",
    "length_x = 77.1 # (mm) total detector width (including detector gaps)\n",
    "energy = 8040 # (eV) Energy of X-rays\n",
    "max_q = 0.8 # maximum q you would like to reach\n",
    "bs_radius = 0.1 # (mm) radius of beamstop or minimum radius from beam center to acheive good data\n",
    "\n",
    "### Calculations ###\n",
    "wavelength = 12400/energy # in Å\n",
    "max_theta = 2*(np.arcsin(max_q*wavelength/(4*np.pi)))\n",
    "\n",
    "def calc_sdd(edge_d, corner_d, energy, max_theta):\n",
    "    sdd_edge = edge_d/np.tan(max_theta)\n",
    "    sdd_corner = corner_d/np.tan(max_theta)\n",
    "    return sdd_edge, sdd_corner\n",
    "\n",
    "def calc_min_q(bs_radius, energy, sdd):\n",
    "    wavelength = 12400/energy # in Å\n",
    "    min_q = 4*np.pi*np.sin(np.arctan(bs_radius/sdd)/2)/wavelength\n",
    "    return min_q\n",
    "\n",
    "# beam position = center\n",
    "min_length = min(length_x/2, length_y/2)\n",
    "edge_d = min_length\n",
    "corner_d = ((length_y/2)**2 + (length_x/2)**2)**0.5\n",
    "center_sdd_e, center_sdd_c = calc_sdd(edge_d, corner_d, energy, max_theta)\n",
    "# beam position = bottom\n",
    "min_length = min(length_x/2, length_y)\n",
    "edge_d = min_length\n",
    "corner_d = ((length_y)**2 + (length_x/2)**2)**0.5\n",
    "bottom_sdd_e, bottom_sdd_c = calc_sdd(edge_d, corner_d, energy, max_theta)\n",
    "#beam position = side\n",
    "min_length = min(length_x, length_y/2)\n",
    "edge_d = min_length\n",
    "corner_d = ((length_y/2)**2 + (length_x)**2)**0.5\n",
    "side_sdd_e, side_sdd_c = calc_sdd(edge_d, corner_d, energy, max_theta)\n",
    "# beam position = corner\n",
    "min_length = min(length_x, length_y)\n",
    "edge_d = min_length\n",
    "corner_d = ((length_y)**2 + (length_x)**2)**0.5\n",
    "corner_sdd_e, corner_sdd_c = calc_sdd(edge_d, corner_d, energy, max_theta)\n",
    "\n",
    "# plot table\n",
    "table = PrettyTable()\n",
    "table.add_column('', ['SDD (max ring)', 'SDD (corner)'])\n",
    "table.add_column('Center Beam', [center_sdd_e, center_sdd_c])\n",
    "table.add_column('Bottom Beam', [bottom_sdd_e, bottom_sdd_c])\n",
    "table.add_column('Side Beam', [side_sdd_e, side_sdd_c])\n",
    "table.add_column('Corner Beam', [corner_sdd_e, corner_sdd_c])\n",
    "table.float_format = '.0'\n",
    "print(f'Table showing SDDs (in mm) to put Q={max_q:.2f} Å-1 at the edge/corner of the detector')\n",
    "print(table)"
   ]
  },
  {
   "cell_type": "markdown",
   "id": "ff665b31-9677-4432-ac90-5c8243b2f352",
   "metadata": {},
   "source": [
    "### Given an SDD and beam position what is the max q I will be able to detect?"
   ]
  },
  {
   "cell_type": "code",
   "execution_count": null,
   "id": "0821ed90-21ff-464b-8f31-b8df802b9118",
   "metadata": {},
   "outputs": [],
   "source": [
    "### User Inputs ###\n",
    "length_y = 155.2 # (mm) total detector height (including detector gaps)\n",
    "length_x = 162.5 # (mm) total detector width (including detector gaps)\n",
    "energy = 12000 # (eV) Energy of X-rays\n",
    "sdd = 10000 # (mm) sample detector distance\n",
    "bs_radius = 4 # (mm) radius of beamstop or minimum radius from beam center to acheive good data\n",
    "\n",
    "\n",
    "### Calculations ###\n",
    "def calc_max_q(edge_d, corner_d, energy, sdd):\n",
    "    wavelength = 12400/energy # in Å\n",
    "    max_q_edge = 4*np.pi*np.sin(np.arctan(edge_d/sdd)/2)/wavelength\n",
    "    max_q_corner = 4*np.pi*np.sin(np.arctan(corner_d/sdd)/2)/wavelength\n",
    "    return max_q_edge, max_q_corner\n",
    "\n",
    "def calc_min_q(bs_radius, energy, sdd):\n",
    "    wavelength = 12400/energy # in Å\n",
    "    min_q = 4*np.pi*np.sin(np.arctan(bs_radius/sdd)/2)/wavelength\n",
    "    return min_q\n",
    "\n",
    "# beam position = center\n",
    "min_length = min(length_x/2, length_y/2)\n",
    "edge_d = min_length\n",
    "corner_d = ((length_y/2)**2 + (length_x/2)**2)**0.5\n",
    "center_q_e, center_q_c = calc_max_q(edge_d, corner_d, energy, sdd)\n",
    "# beam position = bottom\n",
    "min_length = min(length_x/2, length_y)\n",
    "edge_d = min_length\n",
    "corner_d = ((length_y)**2 + (length_x/2)**2)**0.5\n",
    "bottom_q_e, bottom_q_c = calc_max_q(edge_d, corner_d, energy, sdd)\n",
    "#beam position = side\n",
    "min_length = min(length_x, length_y/2)\n",
    "edge_d = min_length\n",
    "corner_d = ((length_y/2)**2 + (length_x)**2)**0.5\n",
    "side_q_e, side_q_c = calc_max_q(edge_d, corner_d, energy, sdd)\n",
    "# beam position = corner\n",
    "min_length = min(length_x, length_y)\n",
    "edge_d = min_length\n",
    "corner_d = ((length_y)**2 + (length_x)**2)**0.5\n",
    "corner_q_e, corner_q_c = calc_max_q(edge_d, corner_d, energy, sdd)\n",
    "# minimum q\n",
    "min_q = calc_min_q(bs_radius, energy, sdd)\n",
    "\n",
    "# Convert min_q to scientific notation\n",
    "min_q_sci = f\"{min_q:.1e}\"\n",
    "\n",
    "# plot table\n",
    "table = PrettyTable()\n",
    "table.add_column('', ['Qmax (max ring)', 'Qmax (corner)', 'Qmin'])\n",
    "table.add_column('Center Beam', [f\"{center_q_e:.2f}\", f\"{center_q_c:.2f}\", min_q_sci])\n",
    "table.add_column('Bottom Beam', [f\"{bottom_q_e:.2f}\", f\"{bottom_q_c:.2f}\", min_q_sci])\n",
    "table.add_column('Side Beam', [f\"{side_q_e:.2f}\", f\"{side_q_c:.2f}\", min_q_sci])\n",
    "table.add_column('Corner Beam', [f\"{corner_q_e:.2f}\", f\"{corner_q_c:.2f}\", min_q_sci])\n",
    "print(f'Table showing extreme Q values (Å-1) given an SDD of {sdd:.0f} mm')\n",
    "print(table)"
   ]
  },
  {
   "cell_type": "markdown",
   "id": "1afcde6e-4999-424e-96a6-f4d453f164db",
   "metadata": {},
   "source": [
    "# Critical Angle Calculator"
   ]
  },
  {
   "cell_type": "markdown",
   "id": "66fa24f8-7d17-42de-ac97-72b4d909d9b7",
   "metadata": {},
   "source": [
    "### Create Materials"
   ]
  },
  {
   "cell_type": "code",
   "execution_count": null,
   "id": "5f8b24a7-6a20-44a2-b18b-c5563730bcf7",
   "metadata": {},
   "outputs": [],
   "source": [
    "# Add your materials here. only needs to be ran once\n",
    "# args: name, chemical formula, density (g/cc), categories (user defined)\n",
    "# xraydb.add_material('SiN', 'Si3N4', 3.17, categories=['Ceramic'])\n",
    "# xraydb.add_material('SiN', 'Si3N4', 3.17, categories=['Ceramic'])\n",
    "# xraydb.add_material('lithium_iron_phosphate', 'LiFePO4', 3.60, categories=['Ceramic'])\n",
    "# xraydb.add_material('PM6', 'C68H76F2O2S8', 1.2, categories=['Polymer'])\n",
    "# xraydb.get_material('PM7')\n",
    "# xraydb.get_materials()"
   ]
  },
  {
   "cell_type": "markdown",
   "id": "2bd30716-f948-4f90-b959-af672f25ddb4",
   "metadata": {},
   "source": [
    "### Calculate critical angles"
   ]
  },
  {
   "cell_type": "code",
   "execution_count": null,
   "id": "38afbe1a-eff4-4dec-8d26-1fc940cdb73e",
   "metadata": {},
   "outputs": [],
   "source": [
    "### User Inputs ###\n",
    "energies = np.linspace(10000,13000,10) #energies of interest in eV\n",
    "materials = ['PM7','PM6','Si', 'Li']\n",
    "num_mats = len(materials)\n",
    "### Calculations ###\n",
    "\n",
    "def calc_crit_angle(delta):\n",
    "    crit_rad = np.sqrt(2*delta)\n",
    "    crit_deg = np.rad2deg(crit_rad)\n",
    "    return crit_deg\n",
    "\n",
    "all_crit_angles = []\n",
    "for material in materials:\n",
    "    mat_crit_angles = []\n",
    "    for energy in energies:\n",
    "        delta = xraydb.xray_delta_beta(xraydb.get_material(material)[0], xraydb.get_material(material)[1], energy)[0]\n",
    "        crit_angle = calc_crit_angle(delta)\n",
    "        mat_crit_angles.append(crit_angle)\n",
    "    all_crit_angles.append(mat_crit_angles)\n",
    "all_crit_angles = np.asarray(all_crit_angles)\n",
    "np.shape(all_crit_angles)\n",
    "#plot table\n",
    "table = PrettyTable()\n",
    "table.add_column('Energies (eV)', energies)\n",
    "for i in range(num_mats):\n",
    "    table.add_column(materials[i], all_crit_angles[i,:])\n",
    "    table.float_format = '.4'\n",
    "print(f'Critical Angles in degrees')\n",
    "print(table)\n",
    "# plt.figure(figsize=(10, 6))\n",
    "# for i in range(num_mats):\n",
    "#     plt.plot(energies, all_crit_angles[i,:], label=materials[i])\n",
    "# plt.xlabel('Energy (eV)')\n",
    "# plt.ylabel('Critical Angle (degs)')\n",
    "# plt.title('Critical Angles in degrees')\n",
    "# plt.legend()\n",
    "# plt.grid(True)"
   ]
  },
  {
   "cell_type": "markdown",
   "id": "ef77dc1c-41dc-4abc-ab06-0af0b967234a",
   "metadata": {},
   "source": [
    "# X-ray edges lookup"
   ]
  },
  {
   "cell_type": "markdown",
   "id": "277b8931-5fff-48b0-a877-dc3dd248f858",
   "metadata": {},
   "source": [
    "### Get all X-ray Edges for a given element"
   ]
  },
  {
   "cell_type": "code",
   "execution_count": null,
   "id": "283e5062-896f-4544-9125-a71ddcf4ac5c",
   "metadata": {},
   "outputs": [],
   "source": [
    "element = 'Zn'\n",
    "xray_edges = xraydb.xray_edges(element)\n",
    "table = PrettyTable()\n",
    "table.field_names = [\"Edge\", \"Energy (eV)\"]\n",
    "# Adding rows to the table\n",
    "for edge, data in xray_edges.items():\n",
    "    table.add_row([edge, data[0]])\n",
    "table.float_format = '.0'\n",
    "print(f'X-ray Edges for {element}')\n",
    "print(table)"
   ]
  },
  {
   "cell_type": "markdown",
   "id": "9f50e2a6-e121-4854-aa16-8417376abc40",
   "metadata": {},
   "source": [
    "# Single Material to multi-layer Attenuation and Transmission Calculator\n",
    "#### This calculator will take your given material chemistry along with the density to calculate attenuation length and transmission"
   ]
  },
  {
   "cell_type": "markdown",
   "id": "6806634f-33b6-4e73-b950-8c7421a9e012",
   "metadata": {},
   "source": [
    "### Create Materials"
   ]
  },
  {
   "cell_type": "code",
   "execution_count": null,
   "id": "2c707b43-6694-4c05-a190-30e4f1825f57",
   "metadata": {},
   "outputs": [],
   "source": [
    "# Add your materials here. only needs to be ran once\n",
    "# args: name, chemical formula, density (g/cc), categories (user defined)\n",
    "# xraydb.add_material('SiN', 'Si3N4', 3.17, categories=['Ceramic'])\n",
    "# xraydb.add_material('SiN', 'Si3N4', 3.17, categories=['Ceramic'])\n",
    "# xraydb.add_material('lithium_iron_phosphate', 'LiFePO4', 3.60, categories=['Ceramic'])\n",
    "# xraydb.add_material('PM6', 'C68H76F2O2S8', 1.2, categories=['Polymer'])\n",
    "# xraydb.get_material('Fe')"
   ]
  },
  {
   "cell_type": "markdown",
   "id": "b320fa38-1a7b-4075-937b-36785a69fb9b",
   "metadata": {},
   "source": [
    "### Calculate Material(s) Attenuation Lengths"
   ]
  },
  {
   "cell_type": "code",
   "execution_count": null,
   "id": "3876c9d0-19db-41ab-9d4a-bda9f23a2d1a",
   "metadata": {},
   "outputs": [],
   "source": [
    "### User Inputs ###\n",
    "energies = np.linspace(2400,2550,10) #energies of interest in eV\n",
    "materials = ['PM7','PM6','Chlorobenzene','toluene','SiN']\n",
    "num_layers = len(materials)\n",
    "### Calculations ###\n",
    "#calculate mu (cm-1)\n",
    "material_mus = []\n",
    "for i in range(num_layers):\n",
    "    mu_val = xraydb.material_mu(materials[i], energies)\n",
    "    material_mus.append(mu_val)\n",
    "material_mus = np.asarray(material_mus)\n",
    "\n",
    "#calculate attenuation length (mm)\n",
    "material_atts = 10/material_mus\n",
    "\n",
    "#plot table\n",
    "table = PrettyTable()\n",
    "table.add_column('Energies (eV)', energies)\n",
    "for i in range(num_layers):\n",
    "    table.add_column(materials[i], material_atts[i,:])\n",
    "    table.float_format = '.4'\n",
    "print(f'Attenuation lengths in mm')\n",
    "print(table)\n",
    "plt.figure(figsize=(10, 6))\n",
    "for i in range(num_layers):\n",
    "    plt.plot(energies, material_atts[i,:], label=materials[i])\n",
    "plt.xlabel('Energy (eV)')\n",
    "plt.ylabel('Attenuation Length (mm)')\n",
    "plt.title('Attenuation Length vs Energy')\n",
    "plt.legend()\n",
    "plt.grid(True)"
   ]
  },
  {
   "cell_type": "markdown",
   "id": "b207f580-917d-4992-a4f1-499bdda8ab78",
   "metadata": {},
   "source": [
    "### Calculate Material(s) X-ray Transmission"
   ]
  },
  {
   "cell_type": "code",
   "execution_count": null,
   "id": "0a7abf53-d59f-4296-a860-2fd7bd178e47",
   "metadata": {},
   "outputs": [],
   "source": [
    "### User Inputs ###\n",
    "num_layers = 3\n",
    "energies = np.linspace(2400,2550,10) #energies of interest in eV\n",
    "materials = ['PM7', 'toluene', 'SiN'] \n",
    "thicknesses = [0.00025, 0.025, 0.0002] #thicknesses in mm\n",
    "\n",
    "### Calculations ###\n",
    "#calculate mu (cm-1)\n",
    "material_mus = []\n",
    "for i in range(num_layers):\n",
    "    mu_val = xraydb.material_mu(materials[i], energies)\n",
    "    material_mus.append(mu_val)\n",
    "material_mus = np.asarray(material_mus)\n",
    "\n",
    "material_trans = []\n",
    "total_trans = np.ones(np.shape(material_mus[0,:]))\n",
    "for i in range(num_layers):\n",
    "    trans_val = np.exp(thicknesses[i] * -0.1*material_mus[i,:])\n",
    "    total_trans = total_trans*trans_val\n",
    "    material_trans.append(trans_val)\n",
    "material_trans = np.asarray(material_trans)\n",
    "\n",
    "col_names = []\n",
    "for i in range(num_layers):\n",
    "    col_name = materials[i]+' ('+str(thicknesses[i])+' mm)'\n",
    "    col_names.append(col_name)\n",
    "\n",
    "#plot table\n",
    "table = PrettyTable()\n",
    "table.add_column('Energies (eV)', energies)\n",
    "for i in range(num_layers):\n",
    "    table.add_column(col_names[i], 100*material_trans[i,:])\n",
    "table.add_column('Total Transmission', 100*total_trans)\n",
    "table.float_format = '.0'\n",
    "print(f'Transmission values in %')\n",
    "print(table)"
   ]
  },
  {
   "cell_type": "markdown",
   "id": "c4d01c59-757b-4fc5-9d4f-26e930938a7a",
   "metadata": {},
   "source": [
    "# Solution Attenuation and Transmission Calculator\n",
    "#### This calculator will take your given solvent and solute chemistry along with the mass/volume of solute added to calculate attenuation and transmission\n",
    "#### *Note: this calculator does not take into account excluded volume of the solute thereofore it will overestimate the absorption for significant excluded volume*"
   ]
  },
  {
   "cell_type": "markdown",
   "id": "9f71128a-cd3a-41c5-8d5e-f5d4146c59f7",
   "metadata": {},
   "source": [
    "### Create Materials"
   ]
  },
  {
   "cell_type": "code",
   "execution_count": null,
   "id": "a4e8f05e-d3b7-4140-9610-5e2e2e184547",
   "metadata": {},
   "outputs": [],
   "source": [
    "# Add your materials here. only needs to be ran once\n",
    "# args: name, chemical formula, density (g/cc), categories (user defined)\n",
    "# xraydb.add_material('leadsulfide', 'PbS6', 7.5, categories=['solvent', 'organic'])\n",
    "# xraydb.add_material('chloronaphthalene', 'C10H7Cl', 1.2, categories=['solvent', 'organic'])\n",
    "# xraydb.add_material('PM7', 'C68H76Cl2O2S8', 1.2, categories=['polymer', 'organic'])"
   ]
  },
  {
   "cell_type": "markdown",
   "id": "6eec34e6-f31c-4838-978a-9783014edc15",
   "metadata": {},
   "source": [
    "### Calculate Solution Attenuation Length"
   ]
  },
  {
   "cell_type": "code",
   "execution_count": null,
   "id": "beaa577d-7cee-432d-89fa-7c61ac8acd95",
   "metadata": {},
   "outputs": [],
   "source": [
    "### User Inputs ###\n",
    "energies = np.linspace(10000,13000,4) #energies of interest in eV\n",
    "solvent = 'toluene'\n",
    "solute = 'PM7'\n",
    "solute_density = 0.01 #mass of solute in solution (g/ml)\n",
    "cap_transmission = 0.95\n",
    "\n",
    "### Calculations ###\n",
    "#calculate mu (cm-1)\n",
    "solvent_mus = xraydb.material_mu(solvent, energies)\n",
    "solute_mus = xraydb.material_mu(solute, energies, density = solute_density)\n",
    "# solute_mus = xraydb.material_mu(solute, energies)\n",
    "total_mus = solvent_mus + solute_mus\n",
    "\n",
    "#calculate attenuation length (mm)\n",
    "solvent_atts = 10/solvent_mus\n",
    "solute_atts = 10/solute_mus\n",
    "total_atts = 10/total_mus\n",
    "\n",
    "#plot table\n",
    "table = PrettyTable()\n",
    "table.add_column('Energies (eV)', energies)\n",
    "table.add_column('Solvent Att. Length (mm)', solvent_atts)\n",
    "table.add_column('Solute Att. Length (mm)', solute_atts)\n",
    "table.add_column('Total Att. Length (mm)', total_atts)\n",
    "table.float_format = '.2'\n",
    "print(f'Attenuation lengths for {solute} solution at {solute_density:.2f} grams per ml of '\n",
    "      f'{solvent}')\n",
    "print(table)"
   ]
  },
  {
   "cell_type": "markdown",
   "id": "d70baf45-6956-4403-8516-d83fe4ce9026",
   "metadata": {},
   "source": [
    "### Calculate Solution Transmission"
   ]
  },
  {
   "cell_type": "code",
   "execution_count": null,
   "id": "130ffac7-4db6-4f8b-b3e9-334db0f973e2",
   "metadata": {},
   "outputs": [],
   "source": [
    "### User Inputs ###\n",
    "energies = np.linspace(8000,12000,5) #energies of interest in eV\n",
    "solvent = 'toluene'\n",
    "solute = 'PM7'\n",
    "solute_density = 0.01 #mass of solute in solution (g/ml)\n",
    "cap_diameter = 1.0 #path length in mm\n",
    "\n",
    "### Calculations ###\n",
    "#calculate mu (cm-1)\n",
    "solvent_mus = xraydb.material_mu(solvent, energies)\n",
    "solute_mus = xraydb.material_mu(solute, energies, density = solute_density)\n",
    "total_mus = solvent_mus + solute_mus\n",
    "\n",
    "#calculate transmission\n",
    "solvent_trans = np.exp(cap_diameter * -0.1*solvent_mus)\n",
    "solute_trans = np.exp(cap_diameter * -0.1*solute_mus)\n",
    "total_trans = np.exp(cap_diameter * -0.1*total_mus)\n",
    "table = PrettyTable()\n",
    "\n",
    "#plot table\n",
    "table.add_column('Energies (eV)', energies)\n",
    "table.add_column('Solvent Transmission (%)', solvent_trans*100)\n",
    "table.add_column('Solute Transmission (%)', solute_trans*100)\n",
    "table.add_column('Total Transmission (%)', total_trans*100)\n",
    "table.float_format = '.2'\n",
    "print(f'Transmissions for {solute} solution at {solute_density:.2f} grams per ml of '\n",
    "      f'{solvent} in a capillary diameter of {cap_diameter:.2f} mm')\n",
    "print(table)"
   ]
  }
 ],
 "metadata": {
  "kernelspec": {
   "display_name": "Python 3 (ipykernel)",
   "language": "python",
   "name": "python3"
  },
  "language_info": {
   "codemirror_mode": {
    "name": "ipython",
    "version": 3
   },
   "file_extension": ".py",
   "mimetype": "text/x-python",
   "name": "python",
   "nbconvert_exporter": "python",
   "pygments_lexer": "ipython3",
   "version": "3.12.3"
  },
  "toc-autonumbering": false
 },
 "nbformat": 4,
 "nbformat_minor": 5
}
