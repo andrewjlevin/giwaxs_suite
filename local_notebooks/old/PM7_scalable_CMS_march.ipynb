{
 "cells": [
  {
   "cell_type": "markdown",
   "id": "eabf6442-7d0e-4f3a-b3e5-485f1da931b7",
   "metadata": {},
   "source": [
    "# Notebook for plotting & processing pre-reduced GIWAXS data from CMS\n",
    "Starting with PM7 Random Scalable ex situ GIWAXS Mar2023:"
   ]
  },
  {
   "cell_type": "markdown",
   "id": "b1a13f94",
   "metadata": {},
   "source": [
    "###"
   ]
  },
  {
   "cell_type": "code",
   "execution_count": null,
   "id": "b908d046-9052-4bfd-aeff-5e709f107031",
   "metadata": {},
   "outputs": [],
   "source": [
    "### Imports:\n",
    "import pathlib\n",
    "import lmfit\n",
    "from lmfit.models import PseudoVoigtModel, LinearModel, ExponentialModel\n",
    "import numpy as np\n",
    "import pandas as pd\n",
    "import matplotlib.pyplot as plt\n",
    "import mplcursors\n",
    "# from matplotlib_inline.backend_inline import set_matplotlib_formats\n",
    "# set_matplotlib_formats('svg')\n",
    "\n",
    "%matplotlib widget"
   ]
  },
  {
   "cell_type": "code",
   "execution_count": null,
   "id": "9aa1aa2c",
   "metadata": {},
   "outputs": [],
   "source": [
    "### Define paths:\n",
    "basePath = pathlib.Path.cwd()\n",
    "dataPath = basePath.joinpath('beamline_data/BNL-CMS-Mar2023/AL_giwaxs_analyzed_apr23/AL_chi_linecuts')\n",
    "# display(dataPath, dataPath.exists())"
   ]
  },
  {
   "cell_type": "code",
   "execution_count": null,
   "id": "78d260fb",
   "metadata": {},
   "outputs": [],
   "source": [
    "arr = np.array([[1,2],[3,4],[5,6]])\n",
    "arr"
   ]
  },
  {
   "cell_type": "code",
   "execution_count": null,
   "id": "c77cf22c",
   "metadata": {},
   "outputs": [],
   "source": [
    "arr_flipped = np.flip(arr)\n",
    "arr_flipped"
   ]
  },
  {
   "cell_type": "code",
   "execution_count": null,
   "id": "3a6c114d",
   "metadata": {},
   "outputs": [],
   "source": [
    "def plot_txts(filepaths, title_str=None, colors='A123'):\n",
    "    \"\"\"\n",
    "    Inputs: filepaths: iterable of filepaths\n",
    "    Returns: None, generates matplotlib plot of selected txt files\n",
    "    \"\"\"\n",
    "    plt.close('all')\n",
    "\n",
    "    if colors=='A123':\n",
    "        cmap = plt.cm.viridis_r(np.linspace(0.2, 1, 3))\n",
    "    elif colors=='A3456':\n",
    "        cmap = plt.cm.cividis(np.linspace(0, 0.9, 4))\n",
    "\n",
    "    sample_guide = {\n",
    "    'A1': 'BHJ_PM7-2E1T2:Y12',\n",
    "    'A2': 'Neat_Y12',\n",
    "    'A3': 'Neat_PM7-2E1T2',\n",
    "    'A4': 'Neat PM7-1E1T ',\n",
    "    'A5': 'Neat PM7-2E1T',\n",
    "    'A6': 'Neat PM7-1E2T '\n",
    "    }\n",
    "\n",
    "    fig, ax = plt.subplots()\n",
    "    for i, filepath in enumerate(filepaths):\n",
    "        ### Get filename\n",
    "        filename = filepath.name[:-7]\n",
    "\n",
    "        ### Mine metadata from filename\n",
    "        segments = filename.split('_')\n",
    "        orientation = segments[1]\n",
    "        sample = segments[2]\n",
    "        incidence = segments[3][2:]\n",
    "        chi_range = segments[5]\n",
    "\n",
    "        ### Define orientation dict:\n",
    "        orient_dict = {'Long': 'Perpendicular', 'short': 'Parallel'}\n",
    "\n",
    "        ### Define conditional for which name to use for q:\n",
    "        if orientation=='Long':\n",
    "            qname = 'qx'\n",
    "        elif orientation=='short':\n",
    "            qname = 'qy'\n",
    "\n",
    "        ### Load the data\n",
    "        Ivsq = np.loadtxt(filepath)\n",
    "\n",
    "        ### Load as df\n",
    "        df = pd.DataFrame(data=Ivsq, columns=[f'{qname}', f'{sample_guide[sample]}_th{incidence}_{chi_range}']).set_index(f'{qname}')\n",
    "        # df = df.loc[:2]\n",
    "\n",
    "        ### Plot\n",
    "        if title_str is None:\n",
    "            df.plot.line(ax=ax, xlabel =f'{qname} [1/Å]', ylabel='Intensity [arb. units]')\n",
    "        else:\n",
    "            df.plot.line(ax=ax, xlabel =f'{qname} [1/Å]', ylabel='Intensity [arb. units]', color=cmap[i],\n",
    "            title=f'{title_str}')\n",
    "        crs = mplcursors.cursor(ax, multiple=True)\n",
    "        crs.connect('add', lambda sel: sel.annotation.set_text(f'{qname}={np.round(sel.target[0], 2)}'))"
   ]
  },
  {
   "cell_type": "code",
   "execution_count": null,
   "id": "e4ba960c",
   "metadata": {},
   "outputs": [],
   "source": [
    "### OOP linecuts, perpendicular to blade coating\n",
    "\n",
    "filepaths = (list(dataPath.glob('*Long*A3*th0.14*_5to15*')) + \n",
    "             list(dataPath.glob('*Long*A2*th0.14*_5to15*')) + \n",
    "             list(dataPath.glob('*Long*A1*th0.14*_5to15*')))\n",
    "plot_txts(filepaths, 'OOP linecuts, perpendicular to blade coating')"
   ]
  },
  {
   "cell_type": "code",
   "execution_count": null,
   "id": "0b10388f",
   "metadata": {},
   "outputs": [],
   "source": [
    "### OOP linecuts, parallel to blade coating\n",
    "\n",
    "filepaths = (list(dataPath.glob('*short*A3*th0.14*_5to15*')) + \n",
    "             list(dataPath.glob('*short*A2*th0.14*_5to15*')) + \n",
    "             list(dataPath.glob('*short*A1*th0.14*_5to15*')))\n",
    "plot_txts(filepaths, 'OOP linecuts, parallel to blade coating')"
   ]
  },
  {
   "cell_type": "code",
   "execution_count": null,
   "id": "fbc6a33e",
   "metadata": {},
   "outputs": [],
   "source": [
    "### IP linecuts, perpendicular to blade coating\n",
    "\n",
    "filepaths = (list(dataPath.glob('*Long*A3*th0.14*_75to85*')) + \n",
    "             list(dataPath.glob('*Long*A2*th0.14*_75to85*')) + \n",
    "             list(dataPath.glob('*Long*A1*th0.14*_75to85*')))\n",
    "plot_txts(filepaths, 'IP linecuts, perpendicular to blade coating')"
   ]
  },
  {
   "cell_type": "code",
   "execution_count": null,
   "id": "3bb0d478",
   "metadata": {},
   "outputs": [],
   "source": [
    "### IP linecuts, parallel to blade coating\n",
    "\n",
    "filepaths = (list(dataPath.glob('*short*A3*th0.14*_75to85*')) + \n",
    "             list(dataPath.glob('*short*A2*th0.14*_75to85*')) + \n",
    "             list(dataPath.glob('*short*A1*th0.14*_75to85*')))\n",
    "plot_txts(filepaths, 'IP linecuts, parallel to blade coating')"
   ]
  },
  {
   "cell_type": "code",
   "execution_count": null,
   "id": "f4d71d3f",
   "metadata": {},
   "outputs": [],
   "source": [
    "### IP linecuts, perpendicular to blade coating\n",
    "\n",
    "filepaths = (list(dataPath.glob('*Long*A3*th0.14*_75to85*')) + \n",
    "             list(dataPath.glob('*Long*A4*th0.14*_75to85*')) + \n",
    "             list(dataPath.glob('*Long*A5*th0.14*_75to85*')) + \n",
    "             list(dataPath.glob('*Long*A6*th0.14*_75to85*')))\n",
    "plot_txts(filepaths, 'IP linecuts, perpendicular to blade coating', 'A3456')"
   ]
  },
  {
   "cell_type": "code",
   "execution_count": null,
   "id": "0ff2bcfd",
   "metadata": {},
   "outputs": [],
   "source": [
    "### IP linecuts, parallel to blade coating\n",
    "\n",
    "filepaths = (list(dataPath.glob('*short*A3*th0.14*_75to85*')) + \n",
    "             list(dataPath.glob('*short*A4*th0.14*_75to85*')) + \n",
    "             list(dataPath.glob('*short*A5*th0.14*_75to85*')) + \n",
    "             list(dataPath.glob('*short*A6*th0.14*_75to85*')))\n",
    "plot_txts(filepaths, 'IP linecuts, parallel to blade coating', 'A3456')"
   ]
  },
  {
   "cell_type": "code",
   "execution_count": null,
   "id": "23a99b46",
   "metadata": {},
   "outputs": [],
   "source": [
    "### OOP linecuts, parallel to blade coating\n",
    "\n",
    "filepaths = (list(dataPath.glob('*short*A3*th0.14*_5to15*')) + \n",
    "             list(dataPath.glob('*short*A4*th0.14*_5to15*')) + \n",
    "             list(dataPath.glob('*short*A5*th0.14*_5to15*')) + \n",
    "             list(dataPath.glob('*short*A6*th0.14*_5to15*')))\n",
    "plot_txts(filepaths, 'OOP linecuts, parallel to blade coating', 'A3456')"
   ]
  },
  {
   "cell_type": "code",
   "execution_count": null,
   "id": "5480365b",
   "metadata": {},
   "outputs": [],
   "source": [
    "### OOP linecuts, perpendicular to blade coating\n",
    "\n",
    "filepaths = (list(dataPath.glob('*Long*A3*th0.14*_5to15*')) + \n",
    "             list(dataPath.glob('*Long*A4*th0.14*_5to15*')) + \n",
    "             list(dataPath.glob('*Long*A5*th0.14*_5to15*')) + \n",
    "             list(dataPath.glob('*Long*A6*th0.14*_5to15*')))\n",
    "plot_txts(filepaths, 'OOP linecuts, perpendicular to blade coating', 'A3456')"
   ]
  },
  {
   "cell_type": "code",
   "execution_count": null,
   "id": "979b9b37",
   "metadata": {},
   "outputs": [],
   "source": []
  }
 ],
 "metadata": {
  "kernelspec": {
   "display_name": "Python 3 (ipykernel)",
   "language": "python",
   "name": "python3"
  },
  "language_info": {
   "codemirror_mode": {
    "name": "ipython",
    "version": 3
   },
   "file_extension": ".py",
   "mimetype": "text/x-python",
   "name": "python",
   "nbconvert_exporter": "python",
   "pygments_lexer": "ipython3",
   "version": "3.9.15"
  }
 },
 "nbformat": 4,
 "nbformat_minor": 5
}
