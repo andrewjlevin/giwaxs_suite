{
 "cells": [
  {
   "cell_type": "markdown",
   "id": "75dba553-8354-46b0-84f9-98c05a9847e4",
   "metadata": {},
   "source": [
    "# Use python-pptx to generate powerpoint slides of data"
   ]
  },
  {
   "cell_type": "code",
   "execution_count": 1,
   "id": "afc9f64a-5264-40d0-bc60-7912e042a671",
   "metadata": {},
   "outputs": [],
   "source": [
    "# Imports: \n",
    "import pathlib\n",
    "from pptx import Presentation\n",
    "from pptx.util import Inches, Pt\n",
    "from pptx.enum.text import PP_ALIGN\n",
    "from tqdm.auto import tqdm"
   ]
  },
  {
   "cell_type": "code",
   "execution_count": 6,
   "id": "5451c281-b958-4aa2-a92c-2f4e38b2953d",
   "metadata": {},
   "outputs": [],
   "source": [
    "# Define paths:\n",
    "rootPath = pathlib.Path('/Users/andrew/Library/CloudStorage/OneDrive-UCB-O365/research/data_analysis/giwaxs_suite')\n",
    "# giwaxsPath = rootPath.joinpath('processed_data/2023C3_cms/recip_plots/pos1')\n",
    "giwaxsPath = rootPath.joinpath('processed_data/2023C3_cms/recip_plots/stitched_v2')\n",
    "\n",
    "\n",
    "outPath = pathlib.Path('/Users/andrew/Downloads')"
   ]
  },
  {
   "cell_type": "code",
   "execution_count": 7,
   "id": "fa3a1e09-f3f3-46cc-a5b5-38ef461f1440",
   "metadata": {},
   "outputs": [
    {
     "data": {
      "text/plain": [
       "True"
      ]
     },
     "execution_count": 7,
     "metadata": {},
     "output_type": "execute_result"
    }
   ],
   "source": [
    "giwaxsPath.exists()"
   ]
  },
  {
   "cell_type": "code",
   "execution_count": 8,
   "id": "21ea202e-529d-45a1-ac89-25194c0e949c",
   "metadata": {
    "collapsed": true,
    "jupyter": {
     "outputs_hidden": true
    },
    "tags": []
   },
   "outputs": [
    {
     "data": {
      "text/plain": [
       "[0.08,\n",
       " 0.1,\n",
       " 0.12,\n",
       " 0.14,\n",
       " 0.08,\n",
       " 0.1,\n",
       " 0.12,\n",
       " 0.14,\n",
       " 0.08,\n",
       " 0.1,\n",
       " 0.12,\n",
       " 0.14,\n",
       " 0.08,\n",
       " 0.1,\n",
       " 0.12,\n",
       " 0.14,\n",
       " 0.08,\n",
       " 0.1,\n",
       " 0.12,\n",
       " 0.14,\n",
       " 0.08,\n",
       " 0.1,\n",
       " 0.12,\n",
       " 0.14,\n",
       " 0.08,\n",
       " 0.1,\n",
       " 0.12,\n",
       " 0.14,\n",
       " 0.08,\n",
       " 0.1,\n",
       " 0.12,\n",
       " 0.14,\n",
       " 0.08,\n",
       " 0.1,\n",
       " 0.12,\n",
       " 0.14,\n",
       " 0.08,\n",
       " 0.1,\n",
       " 0.12,\n",
       " 0.14,\n",
       " 0.08,\n",
       " 0.1,\n",
       " 0.12,\n",
       " 0.14,\n",
       " 0.08,\n",
       " 0.1,\n",
       " 0.12,\n",
       " 0.14,\n",
       " 0.08,\n",
       " 0.1,\n",
       " 0.12,\n",
       " 0.14,\n",
       " 0.08,\n",
       " 0.1,\n",
       " 0.12,\n",
       " 0.14,\n",
       " 0.08,\n",
       " 0.1,\n",
       " 0.12,\n",
       " 0.14,\n",
       " 0.08,\n",
       " 0.1,\n",
       " 0.12,\n",
       " 0.14,\n",
       " 0.08,\n",
       " 0.1,\n",
       " 0.12,\n",
       " 0.14,\n",
       " 0.08,\n",
       " 0.1,\n",
       " 0.12,\n",
       " 0.14,\n",
       " 0.08,\n",
       " 0.1,\n",
       " 0.12,\n",
       " 0.14,\n",
       " 0.08,\n",
       " 0.1,\n",
       " 0.12,\n",
       " 0.14,\n",
       " 0.08,\n",
       " 0.1,\n",
       " 0.12,\n",
       " 0.14,\n",
       " 0.08,\n",
       " 0.1,\n",
       " 0.12,\n",
       " 0.14,\n",
       " 0.08,\n",
       " 0.1,\n",
       " 0.12,\n",
       " 0.14,\n",
       " 0.08,\n",
       " 0.1,\n",
       " 0.12,\n",
       " 0.14,\n",
       " 0.08,\n",
       " 0.1,\n",
       " 0.12,\n",
       " 0.14,\n",
       " 0.08,\n",
       " 0.1,\n",
       " 0.12,\n",
       " 0.14,\n",
       " 0.08,\n",
       " 0.1,\n",
       " 0.12,\n",
       " 0.14,\n",
       " 0.08,\n",
       " 0.1,\n",
       " 0.12,\n",
       " 0.14,\n",
       " 0.08,\n",
       " 0.1,\n",
       " 0.12,\n",
       " 0.14,\n",
       " 0.08,\n",
       " 0.1,\n",
       " 0.12,\n",
       " 0.14,\n",
       " 0.08,\n",
       " 0.1,\n",
       " 0.12,\n",
       " 0.14,\n",
       " 0.08,\n",
       " 0.1,\n",
       " 0.12,\n",
       " 0.14,\n",
       " 0.08,\n",
       " 0.1,\n",
       " 0.12,\n",
       " 0.14,\n",
       " 0.08,\n",
       " 0.1,\n",
       " 0.12,\n",
       " 0.14,\n",
       " 0.08,\n",
       " 0.1,\n",
       " 0.12,\n",
       " 0.14,\n",
       " 0.08,\n",
       " 0.1,\n",
       " 0.12,\n",
       " 0.14]"
      ]
     },
     "execution_count": 8,
     "metadata": {},
     "output_type": "execute_result"
    }
   ],
   "source": [
    "giwaxs_all = sorted(giwaxsPath.glob('*'))\n",
    "giwaxs_fixed_var3000 = [f for f in sorted(giwaxsPath.glob('*')) if (len(f.name.split('_'))==3 or '3000' in f.name)]\n",
    "giwaxs_fixed_var2000 = [f for f in sorted(giwaxsPath.glob('*')) if (len(f.name.split('_'))==3 or '2000' in f.name)]\n",
    "\n",
    "\n",
    "[float(f.name.split('_')[-1][2:-4]) for f in giwaxs_fixed_var3000]"
   ]
  },
  {
   "cell_type": "code",
   "execution_count": 9,
   "id": "1efb8a68-9cbe-43ad-b1e7-dd788e3bc024",
   "metadata": {},
   "outputs": [],
   "source": [
    "sublists = [giwaxs_fixed_var3000[i:i + 16] for i in range(0, len(giwaxs_fixed_var3000), 16)]"
   ]
  },
  {
   "cell_type": "code",
   "execution_count": 37,
   "id": "4f849af7-0a4e-4ee9-9980-694b92f3f155",
   "metadata": {},
   "outputs": [],
   "source": [
    "# for sublist in sublists:\n",
    "#     print(len(sublist))"
   ]
  },
  {
   "cell_type": "code",
   "execution_count": 11,
   "id": "2745967d-d432-4ee5-9e69-c0db6b20a45e",
   "metadata": {},
   "outputs": [],
   "source": [
    "# # Create a presentation object\n",
    "# prs = Presentation()\n",
    "\n",
    "# # Iterate through all available slide layouts\n",
    "# for i, layout in enumerate(prs.slide_layouts):\n",
    "#     print(f\"Layout {i}: {layout.name}\")"
   ]
  },
  {
   "cell_type": "code",
   "execution_count": 10,
   "id": "718bf786-8e4b-4bb5-b695-2ae6c79140ea",
   "metadata": {},
   "outputs": [
    {
     "data": {
      "application/vnd.jupyter.widget-view+json": {
       "model_id": "b77d74811b4043c88bebdd0557316df5",
       "version_major": 2,
       "version_minor": 0
      },
      "text/plain": [
       "  0%|          | 0/9 [00:00<?, ?it/s]"
      ]
     },
     "metadata": {},
     "output_type": "display_data"
    },
    {
     "name": "stdout",
     "output_type": "stream",
     "text": [
      "done!\n"
     ]
    }
   ],
   "source": [
    "# GIWAXS Slides\n",
    "\n",
    "prs = Presentation()\n",
    "\n",
    "# Set slide dimensions for widescreen 16:9 aspect ratio\n",
    "prs.slide_width = Inches(13.333)  # Width\n",
    "prs.slide_height = Inches(7.5)    # Height\n",
    "\n",
    "slide_layout = prs.slide_layouts[6]\n",
    "\n",
    "for sublist in tqdm(sublists):\n",
    "    \n",
    "    # Grab sample name\n",
    "    sample_name = sublist[0].name.split('_')[0]\n",
    "    \n",
    "    th_p08_list = [f for f in sublist if 'th0.080' in f.name]\n",
    "    th_p10_list = [f for f in sublist if 'th0.100' in f.name]\n",
    "    th_p12_list = [f for f in sublist if 'th0.120' in f.name]\n",
    "    th_p14_list = [f for f in sublist if 'th0.140' in f.name]\n",
    "    \n",
    "    for th_list in [th_p08_list, th_p10_list, th_p12_list, th_p14_list]:\n",
    "\n",
    "        # Grab incidence angle as float\n",
    "        th = float(th_list[0].name.split('_')[-1][2:-4])\n",
    "                   \n",
    "        # Add slide \n",
    "        slide = prs.slides.add_slide(slide_layout)\n",
    "        \n",
    "        # Add a new text box for the title instead of using the default title placeholder\n",
    "        left_title = Inches(0)\n",
    "        top_title = Inches(0)\n",
    "        width_title = Inches(13.33)\n",
    "        height_title = Inches(0.57)\n",
    "        textbox = slide.shapes.add_textbox(left_title, top_title, width_title, height_title)\n",
    "        text_frame = textbox.text_frame\n",
    "        text_frame.text = f'{sample_name}: {th}° Incidence' \n",
    "        for paragraph in text_frame.paragraphs:\n",
    "            paragraph.alignment = PP_ALIGN.CENTER\n",
    "            paragraph.font.size = Pt(28)\n",
    "\n",
    "        # Define image positions (these are just placeholders, adjust as necessary)\n",
    "        left_CBCN = Inches(0.26)\n",
    "        top_CBCN = Inches(3.81)\n",
    "        height_CBCN = Inches(3.77)\n",
    "        width_CBCN = Inches(6.3)\n",
    "        \n",
    "        height_CF = height_CFCN = height_CB = height_CBCN\n",
    "        width_CF = width_CFCN = width_CB = width_CBCN\n",
    "        \n",
    "        left_CB = left_CBCN\n",
    "        top_CB = Inches(0.59)\n",
    "        \n",
    "        left_CFCN = Inches(6.77)\n",
    "        top_CFCN = Inches(3.81)\n",
    "        \n",
    "        left_CF = left_CFCN\n",
    "        top_CF = top_CB\n",
    "\n",
    "        # Add images to the slide\n",
    "        slide.shapes.add_picture(str(th_list[1]), left=left_CB, top=top_CB, width=width_CB, height=height_CB)\n",
    "        slide.shapes.add_picture(str(th_list[0]), left=left_CBCN, top=top_CBCN, width=width_CBCN, height=height_CBCN)\n",
    "        slide.shapes.add_picture(str(th_list[3]), left=left_CF, top=top_CF, width=width_CF, height=height_CF)\n",
    "        slide.shapes.add_picture(str(th_list[2]), left=left_CFCN, top=top_CFCN, width=width_CFCN, height=height_CFCN)\n",
    "\n",
    "prs.save(outPath.joinpath(f'2023C3_ex-situ_giwaxs_auto-summary.pptx'))\n",
    "print('done!')"
   ]
  },
  {
   "cell_type": "code",
   "execution_count": null,
   "id": "5f6ed3e9-d6f3-463b-ae4e-5a54dd51d639",
   "metadata": {},
   "outputs": [],
   "source": []
  }
 ],
 "metadata": {
  "kernelspec": {
   "display_name": "Python 3 (ipykernel)",
   "language": "python",
   "name": "python3"
  },
  "language_info": {
   "codemirror_mode": {
    "name": "ipython",
    "version": 3
   },
   "file_extension": ".py",
   "mimetype": "text/x-python",
   "name": "python",
   "nbconvert_exporter": "python",
   "pygments_lexer": "ipython3",
   "version": "3.10.4"
  }
 },
 "nbformat": 4,
 "nbformat_minor": 5
}
