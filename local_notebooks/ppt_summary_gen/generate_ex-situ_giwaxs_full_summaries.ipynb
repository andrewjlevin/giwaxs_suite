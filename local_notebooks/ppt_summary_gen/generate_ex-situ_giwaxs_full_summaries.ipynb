{
 "cells": [
  {
   "cell_type": "markdown",
   "id": "75dba553-8354-46b0-84f9-98c05a9847e4",
   "metadata": {},
   "source": [
    "# Use python-pptx to generate powerpoint slides of data\n",
    "# Full summaries"
   ]
  },
  {
   "cell_type": "code",
   "execution_count": 3,
   "id": "afc9f64a-5264-40d0-bc60-7912e042a671",
   "metadata": {},
   "outputs": [],
   "source": [
    "# Imports: \n",
    "import pathlib\n",
    "from pptx import Presentation\n",
    "from pptx.util import Inches, Pt\n",
    "from pptx.enum.text import PP_ALIGN\n",
    "from tqdm.auto import tqdm"
   ]
  },
  {
   "cell_type": "code",
   "execution_count": 16,
   "id": "5451c281-b958-4aa2-a92c-2f4e38b2953d",
   "metadata": {},
   "outputs": [],
   "source": [
    "# Define paths:\n",
    "rootPath = pathlib.Path('/Users/andrew/Library/CloudStorage/OneDrive-UCB-O365/research/data_analysis/giwaxs_suite')\n",
    "# giwaxsPath = rootPath.joinpath('processed_data/2023C3_cms/recip_plots/pos1')\n",
    "# giwaxsPath = rootPath.joinpath('processed_data/2023C3_cms/recip_plots/stitched_v2')\n",
    "giwaxsPath = rootPath.joinpath('processed_data/2023C2_cms/A1-3set_waxs/bcy651')\n",
    "\n",
    "recipPath = giwaxsPath.joinpath('recip_plots_v1')\n",
    "cakedPath = giwaxsPath.joinpath('caked_plots_v1')\n",
    "linecutPath = giwaxsPath.joinpath('stacked_linecut_plots_v1')\n",
    "\n",
    "outPath = pathlib.Path('/Users/andrew/Downloads')\n",
    "\n",
    "incident_angles_num = 3"
   ]
  },
  {
   "cell_type": "code",
   "execution_count": 5,
   "id": "fa3a1e09-f3f3-46cc-a5b5-38ef461f1440",
   "metadata": {},
   "outputs": [
    {
     "data": {
      "text/plain": [
       "True"
      ]
     },
     "execution_count": 5,
     "metadata": {},
     "output_type": "execute_result"
    }
   ],
   "source": [
    "linecutPath.exists()"
   ]
  },
  {
   "cell_type": "code",
   "execution_count": 17,
   "id": "21ea202e-529d-45a1-ac89-25194c0e949c",
   "metadata": {
    "tags": []
   },
   "outputs": [
    {
     "name": "stdout",
     "output_type": "stream",
     "text": [
      "True\n"
     ]
    }
   ],
   "source": [
    "# giwaxs_all = sorted(giwaxsPath.glob('*'))\n",
    "# giwaxs_fixed_var3000 = [f for f in sorted(giwaxsPath.glob('*')) if (len(f.name.split('_'))==3 or '3000' in f.name)]\n",
    "# giwaxs_fixed_var2000 = [f for f in sorted(giwaxsPath.glob('*')) if (len(f.name.split('_'))==3 or '2000' in f.name)]\n",
    "\n",
    "recip_paths = sorted(recipPath.glob('*'))\n",
    "caked_paths = sorted(cakedPath.glob('sinchi-folded*q0.2*'))\n",
    "linecut_paths = sorted(linecutPath.glob('*'))\n",
    "\n",
    "# print(len(recip_paths) == len(caked_paths) == len(linecut_paths))\n",
    "\n",
    "print(len(recip_paths) == len(caked_paths) == len(linecut_paths)*incident_angles_num)\n",
    "\n",
    "\n",
    "# [float(f.name.split('_')[-1][2:-4]) for f in giwaxs_fixed_var3000]"
   ]
  },
  {
   "cell_type": "code",
   "execution_count": 13,
   "id": "03a213b9-75c6-403e-8911-8c1d66d5aa4c",
   "metadata": {},
   "outputs": [
    {
     "data": {
      "text/plain": [
       "10"
      ]
     },
     "execution_count": 13,
     "metadata": {},
     "output_type": "execute_result"
    }
   ],
   "source": [
    "# [f.name for f in recip_paths]\n",
    "# [f.name for f in caked_paths]\n",
    "# len([f.name for f in linecut_paths])"
   ]
  },
  {
   "cell_type": "code",
   "execution_count": 20,
   "id": "27439eba-3806-4ece-9a38-db5c85a4fada",
   "metadata": {},
   "outputs": [],
   "source": [
    "# Make sublists (of sample measurements)\n",
    "group_size = 3\n",
    "\n",
    "# sublists = [giwaxs_fixed_var3000[i:i + 16] for i in range(0, len(giwaxs_fixed_var3000), 16)]\n",
    "recip_sublists = [recip_paths[i:i + group_size] for i in range(0, len(recip_paths), group_size)]\n",
    "caked_sublists = [caked_paths[i:i + group_size] for i in range(0, len(caked_paths), group_size)]\n",
    "# linecut_sublists = [linecut_paths[i:i + group_size] for i in range(0, len(linecut_paths), group_size)]"
   ]
  },
  {
   "cell_type": "code",
   "execution_count": 21,
   "id": "3a6d058e-651c-431d-a496-abf31de7b227",
   "metadata": {
    "tags": []
   },
   "outputs": [
    {
     "data": {
      "text/plain": [
       "['sinchi-folded_A1_chi10to82_q0.2to2.04_th0.100.png',\n",
       " 'sinchi-folded_A1_chi10to82_q0.2to2.04_th0.120.png',\n",
       " 'sinchi-folded_A1_chi10to82_q0.2to2.04_th0.140.png']"
      ]
     },
     "metadata": {},
     "output_type": "display_data"
    },
    {
     "data": {
      "text/plain": [
       "['sinchi-folded_A2_chi10to82_q0.2to2.04_th0.100.png',\n",
       " 'sinchi-folded_A2_chi10to82_q0.2to2.04_th0.120.png',\n",
       " 'sinchi-folded_A2_chi10to82_q0.2to2.04_th0.140.png']"
      ]
     },
     "metadata": {},
     "output_type": "display_data"
    },
    {
     "data": {
      "text/plain": [
       "['sinchi-folded_A3_chi10to82_q0.2to2.04_th0.100.png',\n",
       " 'sinchi-folded_A3_chi10to82_q0.2to2.04_th0.120.png',\n",
       " 'sinchi-folded_A3_chi10to82_q0.2to2.04_th0.140.png']"
      ]
     },
     "metadata": {},
     "output_type": "display_data"
    },
    {
     "data": {
      "text/plain": [
       "['sinchi-folded_D18A1p1_chi10to82_q0.2to2.04_th0.100.png',\n",
       " 'sinchi-folded_D18A1p1_chi10to82_q0.2to2.04_th0.120.png',\n",
       " 'sinchi-folded_D18A1p1_chi10to82_q0.2to2.04_th0.140.png']"
      ]
     },
     "metadata": {},
     "output_type": "display_data"
    },
    {
     "data": {
      "text/plain": [
       "['sinchi-folded_D18A1p2_chi10to82_q0.2to2.04_th0.100.png',\n",
       " 'sinchi-folded_D18A1p2_chi10to82_q0.2to2.04_th0.120.png',\n",
       " 'sinchi-folded_D18A1p2_chi10to82_q0.2to2.04_th0.140.png']"
      ]
     },
     "metadata": {},
     "output_type": "display_data"
    },
    {
     "data": {
      "text/plain": [
       "['sinchi-folded_D18A2p1_chi10to82_q0.2to2.04_th0.100.png',\n",
       " 'sinchi-folded_D18A2p1_chi10to82_q0.2to2.04_th0.120.png',\n",
       " 'sinchi-folded_D18A2p1_chi10to82_q0.2to2.04_th0.140.png']"
      ]
     },
     "metadata": {},
     "output_type": "display_data"
    },
    {
     "data": {
      "text/plain": [
       "['sinchi-folded_D18A2p2_chi10to82_q0.2to2.04_th0.100.png',\n",
       " 'sinchi-folded_D18A2p2_chi10to82_q0.2to2.04_th0.120.png',\n",
       " 'sinchi-folded_D18A2p2_chi10to82_q0.2to2.04_th0.140.png']"
      ]
     },
     "metadata": {},
     "output_type": "display_data"
    },
    {
     "data": {
      "text/plain": [
       "['sinchi-folded_D18A3_chi10to82_q0.2to2.04_th0.100.png',\n",
       " 'sinchi-folded_D18A3_chi10to82_q0.2to2.04_th0.120.png',\n",
       " 'sinchi-folded_D18A3_chi10to82_q0.2to2.04_th0.140.png']"
      ]
     },
     "metadata": {},
     "output_type": "display_data"
    },
    {
     "data": {
      "text/plain": [
       "['sinchi-folded_D18p1_chi10to82_q0.2to2.04_th0.100.png',\n",
       " 'sinchi-folded_D18p1_chi10to82_q0.2to2.04_th0.120.png',\n",
       " 'sinchi-folded_D18p1_chi10to82_q0.2to2.04_th0.140.png']"
      ]
     },
     "metadata": {},
     "output_type": "display_data"
    },
    {
     "data": {
      "text/plain": [
       "['sinchi-folded_D18p2_chi10to82_q0.2to2.04_th0.100.png',\n",
       " 'sinchi-folded_D18p2_chi10to82_q0.2to2.04_th0.120.png',\n",
       " 'sinchi-folded_D18p2_chi10to82_q0.2to2.04_th0.140.png']"
      ]
     },
     "metadata": {},
     "output_type": "display_data"
    }
   ],
   "source": [
    "# check\n",
    "for sublist in caked_sublists:\n",
    "    # print(len(sublist))\n",
    "    display([f.name for f in sublist])"
   ]
  },
  {
   "cell_type": "code",
   "execution_count": 49,
   "id": "2745967d-d432-4ee5-9e69-c0db6b20a45e",
   "metadata": {},
   "outputs": [],
   "source": [
    "# # Create a presentation object\n",
    "# prs = Presentation()\n",
    "\n",
    "# # Iterate through all available slide layouts\n",
    "# for i, layout in enumerate(prs.slide_layouts):\n",
    "#     print(f\"Layout {i}: {layout.name}\")"
   ]
  },
  {
   "cell_type": "code",
   "execution_count": 22,
   "id": "4b98f389-37d3-4ba1-a553-30bab1ab5a0b",
   "metadata": {},
   "outputs": [
    {
     "data": {
      "application/vnd.jupyter.widget-view+json": {
       "model_id": "a8b0194af72e45c8806c7dcfe3e93cbe",
       "version_major": 2,
       "version_minor": 0
      },
      "text/plain": [
       "  0%|          | 0/10 [00:00<?, ?it/s]"
      ]
     },
     "metadata": {},
     "output_type": "display_data"
    },
    {
     "name": "stdout",
     "output_type": "stream",
     "text": [
      "done!\n"
     ]
    }
   ],
   "source": [
    "# GIWAXS Slides\n",
    "\n",
    "prs = Presentation()\n",
    "\n",
    "# Set slide dimensions for widescreen 16:9 aspect ratio\n",
    "prs.slide_width = Inches(13.333)  # Width\n",
    "prs.slide_height = Inches(7.5)    # Height\n",
    "\n",
    "slide_layout = prs.slide_layouts[6]\n",
    "\n",
    "for i, recip_sublist in enumerate(tqdm(recip_sublists)):\n",
    "    caked_sublist = caked_sublists[i]\n",
    "    linecut_path = linecut_paths[i]\n",
    "    \n",
    "    # Grab sample name\n",
    "    sample_name = recip_sublist[0].name.split('_')[0]\n",
    "    \n",
    "    th_p10_list = ([f for f in recip_sublist if 'th0.100' in f.name] + \n",
    "                   [f for f in caked_sublist if 'th0.100' in f.name]) \n",
    "                   # [f for f in linecut_sublist if 'th0.080' in f.name])\n",
    "    th_p14_list = ([f for f in recip_sublist if 'th0.140' in f.name] + \n",
    "                   [f for f in caked_sublist if 'th0.140' in f.name]) \n",
    "                   # [f for f in linecut_sublist if 'th0.140' in f.name])    \n",
    "    # display(th_p10_list)\n",
    "    # display(th_p14_list)\n",
    "\n",
    "    \n",
    "    # Grab incidence angle as float\n",
    "    # th = float(th_list[0].name.split('_')[-1][2:-4])\n",
    "    # print(th)\n",
    "\n",
    "    # Add slide \n",
    "    slide = prs.slides.add_slide(slide_layout)\n",
    "\n",
    "    # Add a new text box for the title instead of using the default title placeholder\n",
    "    left_title = Inches(0)\n",
    "    top_title = Inches(0)\n",
    "    width_title = Inches(13.33)\n",
    "    height_title = Inches(0.57)\n",
    "    textbox = slide.shapes.add_textbox(left_title, top_title, width_title, height_title)\n",
    "    text_frame = textbox.text_frame\n",
    "    text_frame.text = f'{sample_name}' \n",
    "    for paragraph in text_frame.paragraphs:\n",
    "        paragraph.alignment = PP_ALIGN.CENTER\n",
    "        paragraph.font.size = Pt(28)\n",
    "\n",
    "    # Define image positions (these are just placeholders, adjust as necessary)\n",
    "    left_recip2 = left_recip1 = Inches(-0.23)\n",
    "    top_recip1 = Inches(1.14)\n",
    "    height_recip1 = Inches(3.25)\n",
    "    width_recip2 = width_recip1 = Inches(5.43)\n",
    "\n",
    "    height_caked2 = height_caked1 = height_recip2 = height_recip1\n",
    "    top_linecut = top_caked1 = top_recip1\n",
    "    \n",
    "    top_caked2 = top_recip2 = Inches(4.1)    \n",
    "    \n",
    "    left_caked2 = left_caked1 = Inches(4.77)\n",
    "    width_caked2 = width_caked1 = Inches(4.06)\n",
    "    \n",
    "    height_linecut = Inches(6.21)\n",
    "    width_linecut = Inches(4.85)\n",
    "    left_linecut = Inches(8.51)\n",
    "\n",
    "\n",
    "    # Add images to the slide\n",
    "    slide.shapes.add_picture(str(th_p10_list[0]), left=left_recip1, top=top_recip1, width=width_recip1, height=height_recip1)\n",
    "    slide.shapes.add_picture(str(th_p10_list[1]), left=left_caked1, top=top_caked1, width=width_caked1, height=height_caked1)\n",
    "    slide.shapes.add_picture(str(th_p14_list[0]), left=left_recip2, top=top_recip2, width=width_recip2, height=height_recip2)\n",
    "    slide.shapes.add_picture(str(th_p14_list[1]), left=left_caked2, top=top_caked2, width=width_caked2, height=height_caked2)\n",
    "    slide.shapes.add_picture(str(linecut_path), left=left_linecut, top=top_linecut, width=width_linecut, height=height_linecut)\n",
    "\n",
    "\n",
    "# prs.save(outPath.joinpath(f'PM6-Y6series-var_ex-situ_giwaxs_full_auto-summary.pptx'))\n",
    "# prs.save(outPath.joinpath(f'PM6-Y6series-fix_ex-situ_giwaxs_full_auto-summary.pptx'))\n",
    "prs.save(outPath.joinpath(f'A123series-all_ex-situ_giwaxs_full_auto-summary.pptx'))\n",
    "\n",
    "print('done!')"
   ]
  },
  {
   "cell_type": "code",
   "execution_count": 79,
   "id": "718bf786-8e4b-4bb5-b695-2ae6c79140ea",
   "metadata": {},
   "outputs": [
    {
     "data": {
      "application/vnd.jupyter.widget-view+json": {
       "model_id": "e22e00bb1f4e4627897d347ea3c4f10d",
       "version_major": 2,
       "version_minor": 0
      },
      "text/plain": [
       "  0%|          | 0/10 [00:00<?, ?it/s]"
      ]
     },
     "metadata": {},
     "output_type": "display_data"
    },
    {
     "name": "stdout",
     "output_type": "stream",
     "text": [
      "done!\n"
     ]
    }
   ],
   "source": [
    "# GIWAXS Slides\n",
    "\n",
    "prs = Presentation()\n",
    "\n",
    "# Set slide dimensions for widescreen 16:9 aspect ratio\n",
    "prs.slide_width = Inches(13.333)  # Width\n",
    "prs.slide_height = Inches(7.5)    # Height\n",
    "\n",
    "slide_layout = prs.slide_layouts[6]\n",
    "\n",
    "for i, recip_sublist in enumerate(tqdm(recip_sublists)):\n",
    "    caked_sublist = caked_sublists[i]\n",
    "    linecut_sublist = linecut_sublists[i]\n",
    "    \n",
    "    # Grab sample name\n",
    "    sample_name = recip_sublist[0].name.split('_')[0]\n",
    "    \n",
    "    th_p10_list = ([f for f in recip_sublist if 'th0.100' in f.name] + \n",
    "                   [f for f in caked_sublist if 'th0.100' in f.name] + \n",
    "                   [f for f in linecut_sublist if 'th0.100' in f.name])\n",
    "    th_p14_list = ([f for f in recip_sublist if 'th0.140' in f.name] + \n",
    "                   [f for f in caked_sublist if 'th0.140' in f.name] + \n",
    "                   [f for f in linecut_sublist if 'th0.140' in f.name])    \n",
    "    # display(th_p10_list)\n",
    "    # display(th_p14_list)\n",
    "\n",
    "    \n",
    "    # Grab incidence angle as float\n",
    "    # th = float(th_list[0].name.split('_')[-1][2:-4])\n",
    "    # print(th)\n",
    "\n",
    "    # Add slide \n",
    "    slide = prs.slides.add_slide(slide_layout)\n",
    "\n",
    "    # Add a new text box for the title instead of using the default title placeholder\n",
    "    left_title = Inches(0)\n",
    "    top_title = Inches(0)\n",
    "    width_title = Inches(13.33)\n",
    "    height_title = Inches(0.57)\n",
    "    textbox = slide.shapes.add_textbox(left_title, top_title, width_title, height_title)\n",
    "    text_frame = textbox.text_frame\n",
    "    text_frame.text = f'{sample_name}' \n",
    "    for paragraph in text_frame.paragraphs:\n",
    "        paragraph.alignment = PP_ALIGN.CENTER\n",
    "        paragraph.font.size = Pt(28)\n",
    "\n",
    "    # Define image positions (these are just placeholders, adjust as necessary)\n",
    "    left_recip2 = left_recip1 = Inches(-0.23)\n",
    "    top_recip1 = Inches(1.14)\n",
    "    height_recip1 = Inches(3.25)\n",
    "    width_recip2 = width_recip1 = Inches(5.43)\n",
    "\n",
    "    height_linecut2 = height_linecut1 = height_caked2 = height_caked1 = height_recip2 = height_recip1\n",
    "    top_linecut1 = top_caked1 = top_recip1\n",
    "    \n",
    "    top_recip2 = Inches(4.1)    \n",
    "    top_linecut2 = top_caked2 = top_recip2\n",
    "\n",
    "    left_linecut2 = left_linecut1 = Inches(8.52)\n",
    "    width_linecut2 = width_linecut1 = Inches(4.88)\n",
    "    \n",
    "    left_caked2 = left_caked1 = Inches(4.77)\n",
    "    width_caked2 = width_caked1 = Inches(4.06)\n",
    "\n",
    "\n",
    "    # Add images to the slide\n",
    "    slide.shapes.add_picture(str(th_p10_list[0]), left=left_recip1, top=top_recip1, width=width_recip1, height=height_recip1)\n",
    "    slide.shapes.add_picture(str(th_p10_list[1]), left=left_caked1, top=top_caked1, width=width_caked1, height=height_caked1)\n",
    "    slide.shapes.add_picture(str(th_p10_list[2]), left=left_linecut1, top=top_linecut1, width=width_linecut1, height=height_linecut1)\n",
    "    slide.shapes.add_picture(str(th_p14_list[0]), left=left_recip2, top=top_recip2, width=width_recip2, height=height_recip2)\n",
    "    slide.shapes.add_picture(str(th_p14_list[1]), left=left_caked2, top=top_caked2, width=width_caked2, height=height_caked2)\n",
    "    slide.shapes.add_picture(str(th_p14_list[2]), left=left_linecut2, top=top_linecut2, width=width_linecut2, height=height_linecut2)\n",
    "\n",
    "prs.save(outPath.joinpath(f'2023C3_ex-situ_giwaxs_full_auto-summary.pptx'))\n",
    "print('done!')"
   ]
  },
  {
   "cell_type": "code",
   "execution_count": null,
   "id": "9535bb41-1589-4726-b859-09377d299b5a",
   "metadata": {},
   "outputs": [],
   "source": []
  }
 ],
 "metadata": {
  "kernelspec": {
   "display_name": "Python 3 (ipykernel)",
   "language": "python",
   "name": "python3"
  },
  "language_info": {
   "codemirror_mode": {
    "name": "ipython",
    "version": 3
   },
   "file_extension": ".py",
   "mimetype": "text/x-python",
   "name": "python",
   "nbconvert_exporter": "python",
   "pygments_lexer": "ipython3",
   "version": "3.10.4"
  }
 },
 "nbformat": 4,
 "nbformat_minor": 5
}
